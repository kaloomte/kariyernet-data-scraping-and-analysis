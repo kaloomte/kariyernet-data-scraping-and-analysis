{
 "cells": [
  {
   "cell_type": "markdown",
   "metadata": {},
   "source": [
    "# Kariyer.net Data Visualization"
   ]
  },
  {
   "cell_type": "markdown",
   "metadata": {},
   "source": [
    "##### After cleaning data we need to visualise data for better understanding to trends of profession details"
   ]
  },
  {
   "cell_type": "code",
   "execution_count": 1,
   "metadata": {},
   "outputs": [
    {
     "name": "stdout",
     "output_type": "stream",
     "text": [
      "Requirement already satisfied: folium in c:\\users\\mhmtgns\\anaconda3\\lib\\site-packages (0.11.0)\n",
      "Requirement already satisfied: branca>=0.3.0 in c:\\users\\mhmtgns\\anaconda3\\lib\\site-packages (from folium) (0.4.1)\n",
      "Requirement already satisfied: requests in c:\\users\\mhmtgns\\anaconda3\\lib\\site-packages (from folium) (2.24.0)\n",
      "Requirement already satisfied: numpy in c:\\users\\mhmtgns\\anaconda3\\lib\\site-packages (from folium) (1.19.0)\n",
      "Requirement already satisfied: jinja2>=2.9 in c:\\users\\mhmtgns\\anaconda3\\lib\\site-packages (from folium) (2.11.1)\n",
      "Requirement already satisfied: certifi>=2017.4.17 in c:\\users\\mhmtgns\\anaconda3\\lib\\site-packages (from requests->folium) (2020.6.20)\n",
      "Requirement already satisfied: chardet<4,>=3.0.2 in c:\\users\\mhmtgns\\anaconda3\\lib\\site-packages (from requests->folium) (3.0.4)\n",
      "Requirement already satisfied: idna<3,>=2.5 in c:\\users\\mhmtgns\\anaconda3\\lib\\site-packages (from requests->folium) (2.10)\n",
      "Requirement already satisfied: urllib3!=1.25.0,!=1.25.1,<1.26,>=1.21.1 in c:\\users\\mhmtgns\\anaconda3\\lib\\site-packages (from requests->folium) (1.25.9)\n",
      "Requirement already satisfied: MarkupSafe>=0.23 in c:\\users\\mhmtgns\\anaconda3\\lib\\site-packages (from jinja2>=2.9->folium) (1.1.1)\n"
     ]
    }
   ],
   "source": [
    "!pip install folium"
   ]
  },
  {
   "cell_type": "code",
   "execution_count": 2,
   "metadata": {},
   "outputs": [],
   "source": [
    "# importing libraries\n",
    "\n",
    "from __future__ import print_function\n",
    "from ipywidgets import interact, interactive, fixed, interact_manual\n",
    "from IPython.core.display import display, HTML\n",
    "\n",
    "import numpy as np\n",
    "import pandas as pd\n",
    "import matplotlib.pyplot as plt\n",
    "import plotly.express as px\n",
    "import folium\n",
    "import plotly.graph_objects as go\n",
    "import seaborn as sb\n",
    "import ipywidgets as widgets"
   ]
  },
  {
   "cell_type": "code",
   "execution_count": 3,
   "metadata": {
    "scrolled": true
   },
   "outputs": [
    {
     "data": {
      "text/plain": [
       "pandas.core.frame.DataFrame"
      ]
     },
     "execution_count": 3,
     "metadata": {},
     "output_type": "execute_result"
    }
   ],
   "source": [
    "#importing dataset\n",
    "df = pd.read_csv('Dataset/cleandataset.csv')\n",
    "type(df)"
   ]
  },
  {
   "cell_type": "code",
   "execution_count": 4,
   "metadata": {},
   "outputs": [
    {
     "data": {
      "text/html": [
       "<div>\n",
       "<style scoped>\n",
       "    .dataframe tbody tr th:only-of-type {\n",
       "        vertical-align: middle;\n",
       "    }\n",
       "\n",
       "    .dataframe tbody tr th {\n",
       "        vertical-align: top;\n",
       "    }\n",
       "\n",
       "    .dataframe thead th {\n",
       "        text-align: right;\n",
       "    }\n",
       "</style>\n",
       "<table border=\"1\" class=\"dataframe\">\n",
       "  <thead>\n",
       "    <tr style=\"text-align: right;\">\n",
       "      <th></th>\n",
       "      <th>job_name</th>\n",
       "      <th>mean_salary</th>\n",
       "      <th>max_salary</th>\n",
       "      <th>min_salary</th>\n",
       "      <th>first_grad</th>\n",
       "      <th>second_grad</th>\n",
       "      <th>third_grad</th>\n",
       "      <th>fourth_grad</th>\n",
       "      <th>fiveth_grad</th>\n",
       "      <th>first_department</th>\n",
       "      <th>...</th>\n",
       "      <th>first_skill</th>\n",
       "      <th>second_skill</th>\n",
       "      <th>third_skill</th>\n",
       "      <th>fourth_skill</th>\n",
       "      <th>fiveth_skill</th>\n",
       "      <th>number_of_entries</th>\n",
       "      <th>job_advertisement</th>\n",
       "      <th>total_participants</th>\n",
       "      <th>male_percentage</th>\n",
       "      <th>female_percentage</th>\n",
       "    </tr>\n",
       "  </thead>\n",
       "  <tbody>\n",
       "    <tr>\n",
       "      <th>153</th>\n",
       "      <td>Beyin Cerrahı</td>\n",
       "      <td>35100</td>\n",
       "      <td>35000</td>\n",
       "      <td>35420</td>\n",
       "      <td>0</td>\n",
       "      <td>0</td>\n",
       "      <td>0</td>\n",
       "      <td>0</td>\n",
       "      <td>0</td>\n",
       "      <td>0</td>\n",
       "      <td>...</td>\n",
       "      <td>0</td>\n",
       "      <td>0</td>\n",
       "      <td>0</td>\n",
       "      <td>0</td>\n",
       "      <td>0</td>\n",
       "      <td>15</td>\n",
       "      <td>4</td>\n",
       "      <td>0</td>\n",
       "      <td>0</td>\n",
       "      <td>0</td>\n",
       "    </tr>\n",
       "    <tr>\n",
       "      <th>1067</th>\n",
       "      <td>Ortopedi ve Travmatoloji Uzmanı</td>\n",
       "      <td>30000</td>\n",
       "      <td>30000</td>\n",
       "      <td>30000</td>\n",
       "      <td>Tıp</td>\n",
       "      <td>İşletme</td>\n",
       "      <td>Sağlık Eğitimi</td>\n",
       "      <td>Cerrahi Tıp Bilimleri</td>\n",
       "      <td>Protez ve Ortez (MYO)</td>\n",
       "      <td>Sağlık</td>\n",
       "      <td>...</td>\n",
       "      <td>Artroskopi</td>\n",
       "      <td>Acil Travma Cerrahisi</td>\n",
       "      <td>Tiyatro</td>\n",
       "      <td>Çocuk Cerrahisi Ameliyatları Deneyimi</td>\n",
       "      <td>Artroplasti</td>\n",
       "      <td>11</td>\n",
       "      <td>5</td>\n",
       "      <td>174</td>\n",
       "      <td>90</td>\n",
       "      <td>10</td>\n",
       "    </tr>\n",
       "    <tr>\n",
       "      <th>293</th>\n",
       "      <td>Dermatoloji Uzmanı</td>\n",
       "      <td>26330</td>\n",
       "      <td>18000</td>\n",
       "      <td>39940</td>\n",
       "      <td>Tıp</td>\n",
       "      <td>Cilt</td>\n",
       "      <td>Rus Dili ve Edebiyatı</td>\n",
       "      <td>İşletme Yönetimi</td>\n",
       "      <td>Tekstil (MYO)</td>\n",
       "      <td>Sağlık</td>\n",
       "      <td>...</td>\n",
       "      <td>Hasta İletişimi</td>\n",
       "      <td>Kozmetik</td>\n",
       "      <td>0</td>\n",
       "      <td>0</td>\n",
       "      <td>0</td>\n",
       "      <td>3</td>\n",
       "      <td>17</td>\n",
       "      <td>122</td>\n",
       "      <td>33</td>\n",
       "      <td>67</td>\n",
       "    </tr>\n",
       "    <tr>\n",
       "      <th>1125</th>\n",
       "      <td>Pilot</td>\n",
       "      <td>24500</td>\n",
       "      <td>20000</td>\n",
       "      <td>29210</td>\n",
       "      <td>İşletme</td>\n",
       "      <td>Endüstri Mühendisliği</td>\n",
       "      <td>Sistem Mühendisliği</td>\n",
       "      <td>Bilgisayar Mühendisliği</td>\n",
       "      <td>Makine Mühendisliği</td>\n",
       "      <td>Havacılık</td>\n",
       "      <td>...</td>\n",
       "      <td>AutoCAD</td>\n",
       "      <td>CATIA</td>\n",
       "      <td>İnsan Kaynakları Yönetimi</td>\n",
       "      <td>Java</td>\n",
       "      <td>MATLAB</td>\n",
       "      <td>47</td>\n",
       "      <td>2</td>\n",
       "      <td>812</td>\n",
       "      <td>90</td>\n",
       "      <td>10</td>\n",
       "    </tr>\n",
       "    <tr>\n",
       "      <th>1413</th>\n",
       "      <td>Ticari Genel Müdür Yardımcısı / CCO</td>\n",
       "      <td>18330</td>\n",
       "      <td>15000</td>\n",
       "      <td>22660</td>\n",
       "      <td>İşletme</td>\n",
       "      <td>Ekonomi</td>\n",
       "      <td>Uluslararası İlişkiler</td>\n",
       "      <td>Kamu Yönetimi</td>\n",
       "      <td>Elektronik ve Haberleşme Müh.</td>\n",
       "      <td>Otomotiv</td>\n",
       "      <td>...</td>\n",
       "      <td>Adobe Dreamweaver</td>\n",
       "      <td>Adobe Photoshop</td>\n",
       "      <td>Dış Ticaret</td>\n",
       "      <td>Finans</td>\n",
       "      <td>Finansal Risk Yönetimi</td>\n",
       "      <td>4</td>\n",
       "      <td>0</td>\n",
       "      <td>63</td>\n",
       "      <td>89</td>\n",
       "      <td>11</td>\n",
       "    </tr>\n",
       "    <tr>\n",
       "      <th>172</th>\n",
       "      <td>Bilgi Teknolojileri Direktörü</td>\n",
       "      <td>18270</td>\n",
       "      <td>15000</td>\n",
       "      <td>22520</td>\n",
       "      <td>Bilgisayar Mühendisliği</td>\n",
       "      <td>Elektrik/Elektronik Mühendisliği</td>\n",
       "      <td>Elektronik ve Haberleşme Müh.</td>\n",
       "      <td>İşletme</td>\n",
       "      <td>Endüstri Mühendisliği</td>\n",
       "      <td>Bilişim</td>\n",
       "      <td>...</td>\n",
       "      <td>ASP.NET</td>\n",
       "      <td>C#</td>\n",
       "      <td>HTML</td>\n",
       "      <td>JavaScript</td>\n",
       "      <td>LAN (Local Area Network)</td>\n",
       "      <td>17</td>\n",
       "      <td>10</td>\n",
       "      <td>228</td>\n",
       "      <td>90</td>\n",
       "      <td>10</td>\n",
       "    </tr>\n",
       "    <tr>\n",
       "      <th>617</th>\n",
       "      <td>İç Hastalıkları Uzmanı</td>\n",
       "      <td>17250</td>\n",
       "      <td>12500</td>\n",
       "      <td>22110</td>\n",
       "      <td>Tıp</td>\n",
       "      <td>Dahili Tıp Bilimleri</td>\n",
       "      <td>Sağlık Eğitimi</td>\n",
       "      <td>Sağlık</td>\n",
       "      <td>Hizmet</td>\n",
       "      <td>0</td>\n",
       "      <td>...</td>\n",
       "      <td>İşçi Sağlığı ve İş Güvenliği</td>\n",
       "      <td>0</td>\n",
       "      <td>0</td>\n",
       "      <td>0</td>\n",
       "      <td>0</td>\n",
       "      <td>13</td>\n",
       "      <td>21</td>\n",
       "      <td>277</td>\n",
       "      <td>62</td>\n",
       "      <td>38</td>\n",
       "    </tr>\n",
       "    <tr>\n",
       "      <th>1173</th>\n",
       "      <td>Radyoloji Uzmanı</td>\n",
       "      <td>17070</td>\n",
       "      <td>12460</td>\n",
       "      <td>21680</td>\n",
       "      <td>Tıp</td>\n",
       "      <td>Radyoloji (MYO)</td>\n",
       "      <td>Dahili Tıp Bilimleri</td>\n",
       "      <td>Sağlık Eğitimi</td>\n",
       "      <td>Fizik</td>\n",
       "      <td>Sağlık</td>\n",
       "      <td>...</td>\n",
       "      <td>Muhasebe</td>\n",
       "      <td>0</td>\n",
       "      <td>0</td>\n",
       "      <td>0</td>\n",
       "      <td>0</td>\n",
       "      <td>25</td>\n",
       "      <td>15</td>\n",
       "      <td>468</td>\n",
       "      <td>54</td>\n",
       "      <td>46</td>\n",
       "    </tr>\n",
       "    <tr>\n",
       "      <th>533</th>\n",
       "      <td>Göğüs Hastalıkları Uzmanı</td>\n",
       "      <td>17000</td>\n",
       "      <td>15000</td>\n",
       "      <td>20970</td>\n",
       "      <td>Tıp</td>\n",
       "      <td>Biyoloji</td>\n",
       "      <td>İşletme</td>\n",
       "      <td>Bilgisayar - Enformatik</td>\n",
       "      <td>Akıllı Sistemler Mühendisliği</td>\n",
       "      <td>0</td>\n",
       "      <td>...</td>\n",
       "      <td>SPSS</td>\n",
       "      <td>0</td>\n",
       "      <td>0</td>\n",
       "      <td>0</td>\n",
       "      <td>0</td>\n",
       "      <td>4</td>\n",
       "      <td>6</td>\n",
       "      <td>158</td>\n",
       "      <td>45</td>\n",
       "      <td>55</td>\n",
       "    </tr>\n",
       "    <tr>\n",
       "      <th>1482</th>\n",
       "      <td>Veri Ambarı Tasarımcısı</td>\n",
       "      <td>16500</td>\n",
       "      <td>12000</td>\n",
       "      <td>22330</td>\n",
       "      <td>0</td>\n",
       "      <td>0</td>\n",
       "      <td>0</td>\n",
       "      <td>0</td>\n",
       "      <td>0</td>\n",
       "      <td>0</td>\n",
       "      <td>...</td>\n",
       "      <td>0</td>\n",
       "      <td>0</td>\n",
       "      <td>0</td>\n",
       "      <td>0</td>\n",
       "      <td>0</td>\n",
       "      <td>8</td>\n",
       "      <td>3</td>\n",
       "      <td>0</td>\n",
       "      <td>0</td>\n",
       "      <td>0</td>\n",
       "    </tr>\n",
       "    <tr>\n",
       "      <th>401</th>\n",
       "      <td>Endokrinoloji Uzmanı</td>\n",
       "      <td>16250</td>\n",
       "      <td>12000</td>\n",
       "      <td>21500</td>\n",
       "      <td>0</td>\n",
       "      <td>0</td>\n",
       "      <td>0</td>\n",
       "      <td>0</td>\n",
       "      <td>0</td>\n",
       "      <td>0</td>\n",
       "      <td>...</td>\n",
       "      <td>0</td>\n",
       "      <td>0</td>\n",
       "      <td>0</td>\n",
       "      <td>0</td>\n",
       "      <td>0</td>\n",
       "      <td>6</td>\n",
       "      <td>1</td>\n",
       "      <td>0</td>\n",
       "      <td>0</td>\n",
       "      <td>0</td>\n",
       "    </tr>\n",
       "    <tr>\n",
       "      <th>271</th>\n",
       "      <td>Çocuk Sağlığı ve Hastalıkları Uzmanı</td>\n",
       "      <td>15830</td>\n",
       "      <td>12000</td>\n",
       "      <td>20020</td>\n",
       "      <td>Tıp</td>\n",
       "      <td>Sağlık Eğitimi</td>\n",
       "      <td>Çocuk Gelişimi (MYO)</td>\n",
       "      <td>Çocuk Gelişimi ve Eğitimi</td>\n",
       "      <td>Dahili Tıp Bilimleri</td>\n",
       "      <td>Sağlık</td>\n",
       "      <td>...</td>\n",
       "      <td>Çocuk Gelişimi</td>\n",
       "      <td>0</td>\n",
       "      <td>0</td>\n",
       "      <td>0</td>\n",
       "      <td>0</td>\n",
       "      <td>16</td>\n",
       "      <td>25</td>\n",
       "      <td>402</td>\n",
       "      <td>46</td>\n",
       "      <td>54</td>\n",
       "    </tr>\n",
       "    <tr>\n",
       "      <th>155</th>\n",
       "      <td>Bilgi Güvenliği Müdürü</td>\n",
       "      <td>15570</td>\n",
       "      <td>12740</td>\n",
       "      <td>18400</td>\n",
       "      <td>0</td>\n",
       "      <td>0</td>\n",
       "      <td>0</td>\n",
       "      <td>0</td>\n",
       "      <td>0</td>\n",
       "      <td>0</td>\n",
       "      <td>...</td>\n",
       "      <td>0</td>\n",
       "      <td>0</td>\n",
       "      <td>0</td>\n",
       "      <td>0</td>\n",
       "      <td>0</td>\n",
       "      <td>14</td>\n",
       "      <td>0</td>\n",
       "      <td>0</td>\n",
       "      <td>0</td>\n",
       "      <td>0</td>\n",
       "    </tr>\n",
       "    <tr>\n",
       "      <th>732</th>\n",
       "      <td>Kadın Doğum Uzmanı</td>\n",
       "      <td>15310</td>\n",
       "      <td>10000</td>\n",
       "      <td>20730</td>\n",
       "      <td>Tıp</td>\n",
       "      <td>Cerrahi Tıp Bilimleri</td>\n",
       "      <td>Sağlık Eğitimi</td>\n",
       "      <td>Kadın Çalışmaları Ana Bilim Dalı</td>\n",
       "      <td>Ebelik</td>\n",
       "      <td>Sağlık</td>\n",
       "      <td>...</td>\n",
       "      <td>Hasta İletişimi</td>\n",
       "      <td>0</td>\n",
       "      <td>0</td>\n",
       "      <td>0</td>\n",
       "      <td>0</td>\n",
       "      <td>19</td>\n",
       "      <td>18</td>\n",
       "      <td>531</td>\n",
       "      <td>50</td>\n",
       "      <td>50</td>\n",
       "    </tr>\n",
       "    <tr>\n",
       "      <th>140</th>\n",
       "      <td>Başhekim</td>\n",
       "      <td>15000</td>\n",
       "      <td>5000</td>\n",
       "      <td>27990</td>\n",
       "      <td>Tıp</td>\n",
       "      <td>Veteriner</td>\n",
       "      <td>Diş Hekimliği</td>\n",
       "      <td>Sağlık Eğitimi</td>\n",
       "      <td>Sağlık Kurumları İşletmeciliği</td>\n",
       "      <td>Sağlık</td>\n",
       "      <td>...</td>\n",
       "      <td>Bilgisayar Destekli Tasarım Araçları</td>\n",
       "      <td>BİLGİSAYARLI MUHASEBE</td>\n",
       "      <td>İşçi Sağlığı ve İş Güvenliği</td>\n",
       "      <td>0</td>\n",
       "      <td>0</td>\n",
       "      <td>3</td>\n",
       "      <td>0</td>\n",
       "      <td>207</td>\n",
       "      <td>78</td>\n",
       "      <td>22</td>\n",
       "    </tr>\n",
       "  </tbody>\n",
       "</table>\n",
       "<p>15 rows × 29 columns</p>\n",
       "</div>"
      ],
      "text/plain": [
       "                                  job_name  mean_salary  max_salary  \\\n",
       "153                          Beyin Cerrahı        35100       35000   \n",
       "1067       Ortopedi ve Travmatoloji Uzmanı        30000       30000   \n",
       "293                     Dermatoloji Uzmanı        26330       18000   \n",
       "1125                                 Pilot        24500       20000   \n",
       "1413   Ticari Genel Müdür Yardımcısı / CCO        18330       15000   \n",
       "172          Bilgi Teknolojileri Direktörü        18270       15000   \n",
       "617                 İç Hastalıkları Uzmanı        17250       12500   \n",
       "1173                      Radyoloji Uzmanı        17070       12460   \n",
       "533              Göğüs Hastalıkları Uzmanı        17000       15000   \n",
       "1482               Veri Ambarı Tasarımcısı        16500       12000   \n",
       "401                   Endokrinoloji Uzmanı        16250       12000   \n",
       "271   Çocuk Sağlığı ve Hastalıkları Uzmanı        15830       12000   \n",
       "155                 Bilgi Güvenliği Müdürü        15570       12740   \n",
       "732                     Kadın Doğum Uzmanı        15310       10000   \n",
       "140                               Başhekim        15000        5000   \n",
       "\n",
       "      min_salary               first_grad                       second_grad  \\\n",
       "153        35420                        0                                 0   \n",
       "1067       30000                      Tıp                           İşletme   \n",
       "293        39940                      Tıp                              Cilt   \n",
       "1125       29210                  İşletme             Endüstri Mühendisliği   \n",
       "1413       22660                  İşletme                           Ekonomi   \n",
       "172        22520  Bilgisayar Mühendisliği  Elektrik/Elektronik Mühendisliği   \n",
       "617        22110                      Tıp              Dahili Tıp Bilimleri   \n",
       "1173       21680                      Tıp                   Radyoloji (MYO)   \n",
       "533        20970                      Tıp                          Biyoloji   \n",
       "1482       22330                        0                                 0   \n",
       "401        21500                        0                                 0   \n",
       "271        20020                      Tıp                    Sağlık Eğitimi   \n",
       "155        18400                        0                                 0   \n",
       "732        20730                      Tıp             Cerrahi Tıp Bilimleri   \n",
       "140        27990                      Tıp                         Veteriner   \n",
       "\n",
       "                         third_grad                       fourth_grad  \\\n",
       "153                               0                                 0   \n",
       "1067                 Sağlık Eğitimi             Cerrahi Tıp Bilimleri   \n",
       "293           Rus Dili ve Edebiyatı                  İşletme Yönetimi   \n",
       "1125            Sistem Mühendisliği           Bilgisayar Mühendisliği   \n",
       "1413         Uluslararası İlişkiler                     Kamu Yönetimi   \n",
       "172   Elektronik ve Haberleşme Müh.                           İşletme   \n",
       "617                  Sağlık Eğitimi                            Sağlık   \n",
       "1173           Dahili Tıp Bilimleri                    Sağlık Eğitimi   \n",
       "533                         İşletme           Bilgisayar - Enformatik   \n",
       "1482                              0                                 0   \n",
       "401                               0                                 0   \n",
       "271            Çocuk Gelişimi (MYO)         Çocuk Gelişimi ve Eğitimi   \n",
       "155                               0                                 0   \n",
       "732                  Sağlık Eğitimi  Kadın Çalışmaları Ana Bilim Dalı   \n",
       "140                   Diş Hekimliği                    Sağlık Eğitimi   \n",
       "\n",
       "                         fiveth_grad first_department  ...  \\\n",
       "153                                0                0  ...   \n",
       "1067           Protez ve Ortez (MYO)           Sağlık  ...   \n",
       "293                    Tekstil (MYO)           Sağlık  ...   \n",
       "1125             Makine Mühendisliği        Havacılık  ...   \n",
       "1413   Elektronik ve Haberleşme Müh.         Otomotiv  ...   \n",
       "172            Endüstri Mühendisliği          Bilişim  ...   \n",
       "617                           Hizmet                0  ...   \n",
       "1173                           Fizik           Sağlık  ...   \n",
       "533    Akıllı Sistemler Mühendisliği                0  ...   \n",
       "1482                               0                0  ...   \n",
       "401                                0                0  ...   \n",
       "271             Dahili Tıp Bilimleri           Sağlık  ...   \n",
       "155                                0                0  ...   \n",
       "732                           Ebelik           Sağlık  ...   \n",
       "140   Sağlık Kurumları İşletmeciliği           Sağlık  ...   \n",
       "\n",
       "                               first_skill           second_skill  \\\n",
       "153                                      0                      0   \n",
       "1067                            Artroskopi  Acil Travma Cerrahisi   \n",
       "293                        Hasta İletişimi               Kozmetik   \n",
       "1125                               AutoCAD                  CATIA   \n",
       "1413                     Adobe Dreamweaver        Adobe Photoshop   \n",
       "172                                ASP.NET                     C#   \n",
       "617           İşçi Sağlığı ve İş Güvenliği                      0   \n",
       "1173                              Muhasebe                      0   \n",
       "533                                   SPSS                      0   \n",
       "1482                                     0                      0   \n",
       "401                                      0                      0   \n",
       "271                         Çocuk Gelişimi                      0   \n",
       "155                                      0                      0   \n",
       "732                        Hasta İletişimi                      0   \n",
       "140   Bilgisayar Destekli Tasarım Araçları  BİLGİSAYARLI MUHASEBE   \n",
       "\n",
       "                       third_skill                           fourth_skill  \\\n",
       "153                              0                                      0   \n",
       "1067                       Tiyatro  Çocuk Cerrahisi Ameliyatları Deneyimi   \n",
       "293                              0                                      0   \n",
       "1125     İnsan Kaynakları Yönetimi                                   Java   \n",
       "1413                   Dış Ticaret                                 Finans   \n",
       "172                           HTML                             JavaScript   \n",
       "617                              0                                      0   \n",
       "1173                             0                                      0   \n",
       "533                              0                                      0   \n",
       "1482                             0                                      0   \n",
       "401                              0                                      0   \n",
       "271                              0                                      0   \n",
       "155                              0                                      0   \n",
       "732                              0                                      0   \n",
       "140   İşçi Sağlığı ve İş Güvenliği                                      0   \n",
       "\n",
       "                  fiveth_skill number_of_entries  job_advertisement  \\\n",
       "153                          0                 15                 4   \n",
       "1067               Artroplasti                 11                 5   \n",
       "293                          0                  3                17   \n",
       "1125                    MATLAB                 47                 2   \n",
       "1413    Finansal Risk Yönetimi                  4                 0   \n",
       "172   LAN (Local Area Network)                 17                10   \n",
       "617                          0                 13                21   \n",
       "1173                         0                 25                15   \n",
       "533                          0                  4                 6   \n",
       "1482                         0                  8                 3   \n",
       "401                          0                  6                 1   \n",
       "271                          0                 16                25   \n",
       "155                          0                 14                 0   \n",
       "732                          0                 19                18   \n",
       "140                          0                  3                 0   \n",
       "\n",
       "     total_participants male_percentage female_percentage  \n",
       "153                   0               0                 0  \n",
       "1067                174              90                10  \n",
       "293                 122              33                67  \n",
       "1125                812              90                10  \n",
       "1413                 63              89                11  \n",
       "172                 228              90                10  \n",
       "617                 277              62                38  \n",
       "1173                468              54                46  \n",
       "533                 158              45                55  \n",
       "1482                  0               0                 0  \n",
       "401                   0               0                 0  \n",
       "271                 402              46                54  \n",
       "155                   0               0                 0  \n",
       "732                 531              50                50  \n",
       "140                 207              78                22  \n",
       "\n",
       "[15 rows x 29 columns]"
      ]
     },
     "execution_count": 4,
     "metadata": {},
     "output_type": "execute_result"
    }
   ],
   "source": [
    "#sorting dataset by mean salary\n",
    "sorted_job_df = df.sort_values('mean_salary', ascending=False)\n",
    "sorted_job_df.head(15)"
   ]
  },
  {
   "cell_type": "code",
   "execution_count": 5,
   "metadata": {},
   "outputs": [
    {
     "data": {
      "text/html": [
       "<style  type=\"text/css\" >\n",
       "    #T_5b47c010_e24d_11ea_89dc_9822efd48457row0_col1 {\n",
       "            background-color:  darkgray;\n",
       "        }    #T_5b47c010_e24d_11ea_89dc_9822efd48457row0_col2 {\n",
       "            background-color:  aqua;\n",
       "        }    #T_5b47c010_e24d_11ea_89dc_9822efd48457row0_col3 {\n",
       "            background-color:  teal;\n",
       "        }    #T_5b47c010_e24d_11ea_89dc_9822efd48457row1_col1 {\n",
       "            background-color:  darkgray;\n",
       "        }    #T_5b47c010_e24d_11ea_89dc_9822efd48457row1_col2 {\n",
       "            background-color:  aqua;\n",
       "        }    #T_5b47c010_e24d_11ea_89dc_9822efd48457row1_col3 {\n",
       "            background-color:  teal;\n",
       "        }    #T_5b47c010_e24d_11ea_89dc_9822efd48457row2_col1 {\n",
       "            background-color:  darkgray;\n",
       "        }    #T_5b47c010_e24d_11ea_89dc_9822efd48457row2_col2 {\n",
       "            background-color:  aqua;\n",
       "        }    #T_5b47c010_e24d_11ea_89dc_9822efd48457row2_col3 {\n",
       "            background-color:  teal;\n",
       "        }    #T_5b47c010_e24d_11ea_89dc_9822efd48457row3_col1 {\n",
       "            background-color:  darkgray;\n",
       "        }    #T_5b47c010_e24d_11ea_89dc_9822efd48457row3_col2 {\n",
       "            background-color:  aqua;\n",
       "        }    #T_5b47c010_e24d_11ea_89dc_9822efd48457row3_col3 {\n",
       "            background-color:  teal;\n",
       "        }    #T_5b47c010_e24d_11ea_89dc_9822efd48457row4_col1 {\n",
       "            background-color:  darkgray;\n",
       "        }    #T_5b47c010_e24d_11ea_89dc_9822efd48457row4_col2 {\n",
       "            background-color:  aqua;\n",
       "        }    #T_5b47c010_e24d_11ea_89dc_9822efd48457row4_col3 {\n",
       "            background-color:  teal;\n",
       "        }</style><table id=\"T_5b47c010_e24d_11ea_89dc_9822efd48457\" ><thead>    <tr>        <th class=\"blank level0\" ></th>        <th class=\"col_heading level0 col0\" >job_name</th>        <th class=\"col_heading level0 col1\" >mean_salary</th>        <th class=\"col_heading level0 col2\" >max_salary</th>        <th class=\"col_heading level0 col3\" >min_salary</th>        <th class=\"col_heading level0 col4\" >first_grad</th>        <th class=\"col_heading level0 col5\" >second_grad</th>        <th class=\"col_heading level0 col6\" >third_grad</th>        <th class=\"col_heading level0 col7\" >fourth_grad</th>        <th class=\"col_heading level0 col8\" >fiveth_grad</th>        <th class=\"col_heading level0 col9\" >first_department</th>        <th class=\"col_heading level0 col10\" >second_department</th>        <th class=\"col_heading level0 col11\" >third_department</th>        <th class=\"col_heading level0 col12\" >fourth_department</th>        <th class=\"col_heading level0 col13\" >fiveth_department</th>        <th class=\"col_heading level0 col14\" >first_school</th>        <th class=\"col_heading level0 col15\" >second_school</th>        <th class=\"col_heading level0 col16\" >third_school</th>        <th class=\"col_heading level0 col17\" >fourth_school</th>        <th class=\"col_heading level0 col18\" >fiveth_school</th>        <th class=\"col_heading level0 col19\" >first_skill</th>        <th class=\"col_heading level0 col20\" >second_skill</th>        <th class=\"col_heading level0 col21\" >third_skill</th>        <th class=\"col_heading level0 col22\" >fourth_skill</th>        <th class=\"col_heading level0 col23\" >fiveth_skill</th>        <th class=\"col_heading level0 col24\" >number_of_entries </th>        <th class=\"col_heading level0 col25\" >job_advertisement</th>        <th class=\"col_heading level0 col26\" >total_participants</th>        <th class=\"col_heading level0 col27\" >male_percentage</th>        <th class=\"col_heading level0 col28\" >female_percentage</th>    </tr></thead><tbody>\n",
       "                <tr>\n",
       "                        <th id=\"T_5b47c010_e24d_11ea_89dc_9822efd48457level0_row0\" class=\"row_heading level0 row0\" >153</th>\n",
       "                        <td id=\"T_5b47c010_e24d_11ea_89dc_9822efd48457row0_col0\" class=\"data row0 col0\" >Beyin Cerrahı</td>\n",
       "                        <td id=\"T_5b47c010_e24d_11ea_89dc_9822efd48457row0_col1\" class=\"data row0 col1\" >35100</td>\n",
       "                        <td id=\"T_5b47c010_e24d_11ea_89dc_9822efd48457row0_col2\" class=\"data row0 col2\" >35000</td>\n",
       "                        <td id=\"T_5b47c010_e24d_11ea_89dc_9822efd48457row0_col3\" class=\"data row0 col3\" >35420</td>\n",
       "                        <td id=\"T_5b47c010_e24d_11ea_89dc_9822efd48457row0_col4\" class=\"data row0 col4\" >0</td>\n",
       "                        <td id=\"T_5b47c010_e24d_11ea_89dc_9822efd48457row0_col5\" class=\"data row0 col5\" >0</td>\n",
       "                        <td id=\"T_5b47c010_e24d_11ea_89dc_9822efd48457row0_col6\" class=\"data row0 col6\" >0</td>\n",
       "                        <td id=\"T_5b47c010_e24d_11ea_89dc_9822efd48457row0_col7\" class=\"data row0 col7\" >0</td>\n",
       "                        <td id=\"T_5b47c010_e24d_11ea_89dc_9822efd48457row0_col8\" class=\"data row0 col8\" >0</td>\n",
       "                        <td id=\"T_5b47c010_e24d_11ea_89dc_9822efd48457row0_col9\" class=\"data row0 col9\" >0</td>\n",
       "                        <td id=\"T_5b47c010_e24d_11ea_89dc_9822efd48457row0_col10\" class=\"data row0 col10\" >0</td>\n",
       "                        <td id=\"T_5b47c010_e24d_11ea_89dc_9822efd48457row0_col11\" class=\"data row0 col11\" >0</td>\n",
       "                        <td id=\"T_5b47c010_e24d_11ea_89dc_9822efd48457row0_col12\" class=\"data row0 col12\" >0</td>\n",
       "                        <td id=\"T_5b47c010_e24d_11ea_89dc_9822efd48457row0_col13\" class=\"data row0 col13\" >0</td>\n",
       "                        <td id=\"T_5b47c010_e24d_11ea_89dc_9822efd48457row0_col14\" class=\"data row0 col14\" >0</td>\n",
       "                        <td id=\"T_5b47c010_e24d_11ea_89dc_9822efd48457row0_col15\" class=\"data row0 col15\" >0</td>\n",
       "                        <td id=\"T_5b47c010_e24d_11ea_89dc_9822efd48457row0_col16\" class=\"data row0 col16\" >0</td>\n",
       "                        <td id=\"T_5b47c010_e24d_11ea_89dc_9822efd48457row0_col17\" class=\"data row0 col17\" >0</td>\n",
       "                        <td id=\"T_5b47c010_e24d_11ea_89dc_9822efd48457row0_col18\" class=\"data row0 col18\" >0</td>\n",
       "                        <td id=\"T_5b47c010_e24d_11ea_89dc_9822efd48457row0_col19\" class=\"data row0 col19\" >0</td>\n",
       "                        <td id=\"T_5b47c010_e24d_11ea_89dc_9822efd48457row0_col20\" class=\"data row0 col20\" >0</td>\n",
       "                        <td id=\"T_5b47c010_e24d_11ea_89dc_9822efd48457row0_col21\" class=\"data row0 col21\" >0</td>\n",
       "                        <td id=\"T_5b47c010_e24d_11ea_89dc_9822efd48457row0_col22\" class=\"data row0 col22\" >0</td>\n",
       "                        <td id=\"T_5b47c010_e24d_11ea_89dc_9822efd48457row0_col23\" class=\"data row0 col23\" >0</td>\n",
       "                        <td id=\"T_5b47c010_e24d_11ea_89dc_9822efd48457row0_col24\" class=\"data row0 col24\" >15</td>\n",
       "                        <td id=\"T_5b47c010_e24d_11ea_89dc_9822efd48457row0_col25\" class=\"data row0 col25\" >4</td>\n",
       "                        <td id=\"T_5b47c010_e24d_11ea_89dc_9822efd48457row0_col26\" class=\"data row0 col26\" >0</td>\n",
       "                        <td id=\"T_5b47c010_e24d_11ea_89dc_9822efd48457row0_col27\" class=\"data row0 col27\" >0</td>\n",
       "                        <td id=\"T_5b47c010_e24d_11ea_89dc_9822efd48457row0_col28\" class=\"data row0 col28\" >0</td>\n",
       "            </tr>\n",
       "            <tr>\n",
       "                        <th id=\"T_5b47c010_e24d_11ea_89dc_9822efd48457level0_row1\" class=\"row_heading level0 row1\" >1067</th>\n",
       "                        <td id=\"T_5b47c010_e24d_11ea_89dc_9822efd48457row1_col0\" class=\"data row1 col0\" >Ortopedi ve Travmatoloji Uzmanı</td>\n",
       "                        <td id=\"T_5b47c010_e24d_11ea_89dc_9822efd48457row1_col1\" class=\"data row1 col1\" >30000</td>\n",
       "                        <td id=\"T_5b47c010_e24d_11ea_89dc_9822efd48457row1_col2\" class=\"data row1 col2\" >30000</td>\n",
       "                        <td id=\"T_5b47c010_e24d_11ea_89dc_9822efd48457row1_col3\" class=\"data row1 col3\" >30000</td>\n",
       "                        <td id=\"T_5b47c010_e24d_11ea_89dc_9822efd48457row1_col4\" class=\"data row1 col4\" >Tıp</td>\n",
       "                        <td id=\"T_5b47c010_e24d_11ea_89dc_9822efd48457row1_col5\" class=\"data row1 col5\" >İşletme</td>\n",
       "                        <td id=\"T_5b47c010_e24d_11ea_89dc_9822efd48457row1_col6\" class=\"data row1 col6\" >Sağlık Eğitimi</td>\n",
       "                        <td id=\"T_5b47c010_e24d_11ea_89dc_9822efd48457row1_col7\" class=\"data row1 col7\" >Cerrahi Tıp Bilimleri</td>\n",
       "                        <td id=\"T_5b47c010_e24d_11ea_89dc_9822efd48457row1_col8\" class=\"data row1 col8\" >Protez ve Ortez (MYO)</td>\n",
       "                        <td id=\"T_5b47c010_e24d_11ea_89dc_9822efd48457row1_col9\" class=\"data row1 col9\" >Sağlık</td>\n",
       "                        <td id=\"T_5b47c010_e24d_11ea_89dc_9822efd48457row1_col10\" class=\"data row1 col10\" >Hizmet</td>\n",
       "                        <td id=\"T_5b47c010_e24d_11ea_89dc_9822efd48457row1_col11\" class=\"data row1 col11\" >Sigortacılık</td>\n",
       "                        <td id=\"T_5b47c010_e24d_11ea_89dc_9822efd48457row1_col12\" class=\"data row1 col12\" >Ev Eşyaları</td>\n",
       "                        <td id=\"T_5b47c010_e24d_11ea_89dc_9822efd48457row1_col13\" class=\"data row1 col13\" >Eğitim</td>\n",
       "                        <td id=\"T_5b47c010_e24d_11ea_89dc_9822efd48457row1_col14\" class=\"data row1 col14\" >İstanbul Üniversitesi (İÜ)</td>\n",
       "                        <td id=\"T_5b47c010_e24d_11ea_89dc_9822efd48457row1_col15\" class=\"data row1 col15\" >Hacettepe Üniversitesi</td>\n",
       "                        <td id=\"T_5b47c010_e24d_11ea_89dc_9822efd48457row1_col16\" class=\"data row1 col16\" >Ege Üniversitesi</td>\n",
       "                        <td id=\"T_5b47c010_e24d_11ea_89dc_9822efd48457row1_col17\" class=\"data row1 col17\" >Ankara Üniversitesi</td>\n",
       "                        <td id=\"T_5b47c010_e24d_11ea_89dc_9822efd48457row1_col18\" class=\"data row1 col18\" >Dokuz Eylül Üniversitesi</td>\n",
       "                        <td id=\"T_5b47c010_e24d_11ea_89dc_9822efd48457row1_col19\" class=\"data row1 col19\" >Artroskopi</td>\n",
       "                        <td id=\"T_5b47c010_e24d_11ea_89dc_9822efd48457row1_col20\" class=\"data row1 col20\" >Acil Travma Cerrahisi</td>\n",
       "                        <td id=\"T_5b47c010_e24d_11ea_89dc_9822efd48457row1_col21\" class=\"data row1 col21\" >Tiyatro</td>\n",
       "                        <td id=\"T_5b47c010_e24d_11ea_89dc_9822efd48457row1_col22\" class=\"data row1 col22\" >Çocuk Cerrahisi Ameliyatları Deneyimi</td>\n",
       "                        <td id=\"T_5b47c010_e24d_11ea_89dc_9822efd48457row1_col23\" class=\"data row1 col23\" >Artroplasti</td>\n",
       "                        <td id=\"T_5b47c010_e24d_11ea_89dc_9822efd48457row1_col24\" class=\"data row1 col24\" >11</td>\n",
       "                        <td id=\"T_5b47c010_e24d_11ea_89dc_9822efd48457row1_col25\" class=\"data row1 col25\" >5</td>\n",
       "                        <td id=\"T_5b47c010_e24d_11ea_89dc_9822efd48457row1_col26\" class=\"data row1 col26\" >174</td>\n",
       "                        <td id=\"T_5b47c010_e24d_11ea_89dc_9822efd48457row1_col27\" class=\"data row1 col27\" >90</td>\n",
       "                        <td id=\"T_5b47c010_e24d_11ea_89dc_9822efd48457row1_col28\" class=\"data row1 col28\" >10</td>\n",
       "            </tr>\n",
       "            <tr>\n",
       "                        <th id=\"T_5b47c010_e24d_11ea_89dc_9822efd48457level0_row2\" class=\"row_heading level0 row2\" >293</th>\n",
       "                        <td id=\"T_5b47c010_e24d_11ea_89dc_9822efd48457row2_col0\" class=\"data row2 col0\" >Dermatoloji Uzmanı</td>\n",
       "                        <td id=\"T_5b47c010_e24d_11ea_89dc_9822efd48457row2_col1\" class=\"data row2 col1\" >26330</td>\n",
       "                        <td id=\"T_5b47c010_e24d_11ea_89dc_9822efd48457row2_col2\" class=\"data row2 col2\" >18000</td>\n",
       "                        <td id=\"T_5b47c010_e24d_11ea_89dc_9822efd48457row2_col3\" class=\"data row2 col3\" >39940</td>\n",
       "                        <td id=\"T_5b47c010_e24d_11ea_89dc_9822efd48457row2_col4\" class=\"data row2 col4\" >Tıp</td>\n",
       "                        <td id=\"T_5b47c010_e24d_11ea_89dc_9822efd48457row2_col5\" class=\"data row2 col5\" >Cilt</td>\n",
       "                        <td id=\"T_5b47c010_e24d_11ea_89dc_9822efd48457row2_col6\" class=\"data row2 col6\" >Rus Dili ve Edebiyatı</td>\n",
       "                        <td id=\"T_5b47c010_e24d_11ea_89dc_9822efd48457row2_col7\" class=\"data row2 col7\" >İşletme Yönetimi</td>\n",
       "                        <td id=\"T_5b47c010_e24d_11ea_89dc_9822efd48457row2_col8\" class=\"data row2 col8\" >Tekstil (MYO)</td>\n",
       "                        <td id=\"T_5b47c010_e24d_11ea_89dc_9822efd48457row2_col9\" class=\"data row2 col9\" >Sağlık</td>\n",
       "                        <td id=\"T_5b47c010_e24d_11ea_89dc_9822efd48457row2_col10\" class=\"data row2 col10\" >Hizmet</td>\n",
       "                        <td id=\"T_5b47c010_e24d_11ea_89dc_9822efd48457row2_col11\" class=\"data row2 col11\" >Kimya</td>\n",
       "                        <td id=\"T_5b47c010_e24d_11ea_89dc_9822efd48457row2_col12\" class=\"data row2 col12\" >Sigortacılık</td>\n",
       "                        <td id=\"T_5b47c010_e24d_11ea_89dc_9822efd48457row2_col13\" class=\"data row2 col13\" >Tekstil</td>\n",
       "                        <td id=\"T_5b47c010_e24d_11ea_89dc_9822efd48457row2_col14\" class=\"data row2 col14\" >İstanbul Üniversitesi (İÜ)</td>\n",
       "                        <td id=\"T_5b47c010_e24d_11ea_89dc_9822efd48457row2_col15\" class=\"data row2 col15\" >Hacettepe Üniversitesi</td>\n",
       "                        <td id=\"T_5b47c010_e24d_11ea_89dc_9822efd48457row2_col16\" class=\"data row2 col16\" >Gazi Üniversitesi</td>\n",
       "                        <td id=\"T_5b47c010_e24d_11ea_89dc_9822efd48457row2_col17\" class=\"data row2 col17\" >Ege Üniversitesi</td>\n",
       "                        <td id=\"T_5b47c010_e24d_11ea_89dc_9822efd48457row2_col18\" class=\"data row2 col18\" >Ankara Üniversitesi</td>\n",
       "                        <td id=\"T_5b47c010_e24d_11ea_89dc_9822efd48457row2_col19\" class=\"data row2 col19\" >Hasta İletişimi</td>\n",
       "                        <td id=\"T_5b47c010_e24d_11ea_89dc_9822efd48457row2_col20\" class=\"data row2 col20\" >Kozmetik</td>\n",
       "                        <td id=\"T_5b47c010_e24d_11ea_89dc_9822efd48457row2_col21\" class=\"data row2 col21\" >0</td>\n",
       "                        <td id=\"T_5b47c010_e24d_11ea_89dc_9822efd48457row2_col22\" class=\"data row2 col22\" >0</td>\n",
       "                        <td id=\"T_5b47c010_e24d_11ea_89dc_9822efd48457row2_col23\" class=\"data row2 col23\" >0</td>\n",
       "                        <td id=\"T_5b47c010_e24d_11ea_89dc_9822efd48457row2_col24\" class=\"data row2 col24\" >3</td>\n",
       "                        <td id=\"T_5b47c010_e24d_11ea_89dc_9822efd48457row2_col25\" class=\"data row2 col25\" >17</td>\n",
       "                        <td id=\"T_5b47c010_e24d_11ea_89dc_9822efd48457row2_col26\" class=\"data row2 col26\" >122</td>\n",
       "                        <td id=\"T_5b47c010_e24d_11ea_89dc_9822efd48457row2_col27\" class=\"data row2 col27\" >33</td>\n",
       "                        <td id=\"T_5b47c010_e24d_11ea_89dc_9822efd48457row2_col28\" class=\"data row2 col28\" >67</td>\n",
       "            </tr>\n",
       "            <tr>\n",
       "                        <th id=\"T_5b47c010_e24d_11ea_89dc_9822efd48457level0_row3\" class=\"row_heading level0 row3\" >1125</th>\n",
       "                        <td id=\"T_5b47c010_e24d_11ea_89dc_9822efd48457row3_col0\" class=\"data row3 col0\" >Pilot</td>\n",
       "                        <td id=\"T_5b47c010_e24d_11ea_89dc_9822efd48457row3_col1\" class=\"data row3 col1\" >24500</td>\n",
       "                        <td id=\"T_5b47c010_e24d_11ea_89dc_9822efd48457row3_col2\" class=\"data row3 col2\" >20000</td>\n",
       "                        <td id=\"T_5b47c010_e24d_11ea_89dc_9822efd48457row3_col3\" class=\"data row3 col3\" >29210</td>\n",
       "                        <td id=\"T_5b47c010_e24d_11ea_89dc_9822efd48457row3_col4\" class=\"data row3 col4\" >İşletme</td>\n",
       "                        <td id=\"T_5b47c010_e24d_11ea_89dc_9822efd48457row3_col5\" class=\"data row3 col5\" >Endüstri Mühendisliği</td>\n",
       "                        <td id=\"T_5b47c010_e24d_11ea_89dc_9822efd48457row3_col6\" class=\"data row3 col6\" >Sistem Mühendisliği</td>\n",
       "                        <td id=\"T_5b47c010_e24d_11ea_89dc_9822efd48457row3_col7\" class=\"data row3 col7\" >Bilgisayar Mühendisliği</td>\n",
       "                        <td id=\"T_5b47c010_e24d_11ea_89dc_9822efd48457row3_col8\" class=\"data row3 col8\" >Makine Mühendisliği</td>\n",
       "                        <td id=\"T_5b47c010_e24d_11ea_89dc_9822efd48457row3_col9\" class=\"data row3 col9\" >Havacılık</td>\n",
       "                        <td id=\"T_5b47c010_e24d_11ea_89dc_9822efd48457row3_col10\" class=\"data row3 col10\" >Taşımacılık</td>\n",
       "                        <td id=\"T_5b47c010_e24d_11ea_89dc_9822efd48457row3_col11\" class=\"data row3 col11\" >Turizm</td>\n",
       "                        <td id=\"T_5b47c010_e24d_11ea_89dc_9822efd48457row3_col12\" class=\"data row3 col12\" >Üretim / Endüstriyel Ürünler</td>\n",
       "                        <td id=\"T_5b47c010_e24d_11ea_89dc_9822efd48457row3_col13\" class=\"data row3 col13\" >Otomotiv</td>\n",
       "                        <td id=\"T_5b47c010_e24d_11ea_89dc_9822efd48457row3_col14\" class=\"data row3 col14\" >Hava Harp Okulu</td>\n",
       "                        <td id=\"T_5b47c010_e24d_11ea_89dc_9822efd48457row3_col15\" class=\"data row3 col15\" >Kara Harp Okulu</td>\n",
       "                        <td id=\"T_5b47c010_e24d_11ea_89dc_9822efd48457row3_col16\" class=\"data row3 col16\" >Anadolu Üniversitesi</td>\n",
       "                        <td id=\"T_5b47c010_e24d_11ea_89dc_9822efd48457row3_col17\" class=\"data row3 col17\" >İstanbul Üniversitesi (İÜ)</td>\n",
       "                        <td id=\"T_5b47c010_e24d_11ea_89dc_9822efd48457row3_col18\" class=\"data row3 col18\" >Orta Doğu Teknik Üniversitesi (ODTÜ)</td>\n",
       "                        <td id=\"T_5b47c010_e24d_11ea_89dc_9822efd48457row3_col19\" class=\"data row3 col19\" >AutoCAD</td>\n",
       "                        <td id=\"T_5b47c010_e24d_11ea_89dc_9822efd48457row3_col20\" class=\"data row3 col20\" >CATIA</td>\n",
       "                        <td id=\"T_5b47c010_e24d_11ea_89dc_9822efd48457row3_col21\" class=\"data row3 col21\" >İnsan Kaynakları Yönetimi</td>\n",
       "                        <td id=\"T_5b47c010_e24d_11ea_89dc_9822efd48457row3_col22\" class=\"data row3 col22\" >Java</td>\n",
       "                        <td id=\"T_5b47c010_e24d_11ea_89dc_9822efd48457row3_col23\" class=\"data row3 col23\" >MATLAB</td>\n",
       "                        <td id=\"T_5b47c010_e24d_11ea_89dc_9822efd48457row3_col24\" class=\"data row3 col24\" >47</td>\n",
       "                        <td id=\"T_5b47c010_e24d_11ea_89dc_9822efd48457row3_col25\" class=\"data row3 col25\" >2</td>\n",
       "                        <td id=\"T_5b47c010_e24d_11ea_89dc_9822efd48457row3_col26\" class=\"data row3 col26\" >812</td>\n",
       "                        <td id=\"T_5b47c010_e24d_11ea_89dc_9822efd48457row3_col27\" class=\"data row3 col27\" >90</td>\n",
       "                        <td id=\"T_5b47c010_e24d_11ea_89dc_9822efd48457row3_col28\" class=\"data row3 col28\" >10</td>\n",
       "            </tr>\n",
       "            <tr>\n",
       "                        <th id=\"T_5b47c010_e24d_11ea_89dc_9822efd48457level0_row4\" class=\"row_heading level0 row4\" >1413</th>\n",
       "                        <td id=\"T_5b47c010_e24d_11ea_89dc_9822efd48457row4_col0\" class=\"data row4 col0\" >Ticari Genel Müdür Yardımcısı / CCO</td>\n",
       "                        <td id=\"T_5b47c010_e24d_11ea_89dc_9822efd48457row4_col1\" class=\"data row4 col1\" >18330</td>\n",
       "                        <td id=\"T_5b47c010_e24d_11ea_89dc_9822efd48457row4_col2\" class=\"data row4 col2\" >15000</td>\n",
       "                        <td id=\"T_5b47c010_e24d_11ea_89dc_9822efd48457row4_col3\" class=\"data row4 col3\" >22660</td>\n",
       "                        <td id=\"T_5b47c010_e24d_11ea_89dc_9822efd48457row4_col4\" class=\"data row4 col4\" >İşletme</td>\n",
       "                        <td id=\"T_5b47c010_e24d_11ea_89dc_9822efd48457row4_col5\" class=\"data row4 col5\" >Ekonomi</td>\n",
       "                        <td id=\"T_5b47c010_e24d_11ea_89dc_9822efd48457row4_col6\" class=\"data row4 col6\" >Uluslararası İlişkiler</td>\n",
       "                        <td id=\"T_5b47c010_e24d_11ea_89dc_9822efd48457row4_col7\" class=\"data row4 col7\" >Kamu Yönetimi</td>\n",
       "                        <td id=\"T_5b47c010_e24d_11ea_89dc_9822efd48457row4_col8\" class=\"data row4 col8\" >Elektronik ve Haberleşme Müh.</td>\n",
       "                        <td id=\"T_5b47c010_e24d_11ea_89dc_9822efd48457row4_col9\" class=\"data row4 col9\" >Otomotiv</td>\n",
       "                        <td id=\"T_5b47c010_e24d_11ea_89dc_9822efd48457row4_col10\" class=\"data row4 col10\" >Maden ve Metal Sanayi</td>\n",
       "                        <td id=\"T_5b47c010_e24d_11ea_89dc_9822efd48457row4_col11\" class=\"data row4 col11\" >Gıda</td>\n",
       "                        <td id=\"T_5b47c010_e24d_11ea_89dc_9822efd48457row4_col12\" class=\"data row4 col12\" >Telekomünikasyon</td>\n",
       "                        <td id=\"T_5b47c010_e24d_11ea_89dc_9822efd48457row4_col13\" class=\"data row4 col13\" >Kimya</td>\n",
       "                        <td id=\"T_5b47c010_e24d_11ea_89dc_9822efd48457row4_col14\" class=\"data row4 col14\" >İstanbul Üniversitesi (İÜ)</td>\n",
       "                        <td id=\"T_5b47c010_e24d_11ea_89dc_9822efd48457row4_col15\" class=\"data row4 col15\" >İstanbul Teknik Üniversitesi (İTÜ)</td>\n",
       "                        <td id=\"T_5b47c010_e24d_11ea_89dc_9822efd48457row4_col16\" class=\"data row4 col16\" >Boğaziçi Üniversitesi</td>\n",
       "                        <td id=\"T_5b47c010_e24d_11ea_89dc_9822efd48457row4_col17\" class=\"data row4 col17\" >Yıldız Teknik Üniversitesi (YTÜ)</td>\n",
       "                        <td id=\"T_5b47c010_e24d_11ea_89dc_9822efd48457row4_col18\" class=\"data row4 col18\" >Orta Doğu Teknik Üniversitesi (ODTÜ)</td>\n",
       "                        <td id=\"T_5b47c010_e24d_11ea_89dc_9822efd48457row4_col19\" class=\"data row4 col19\" >Adobe Dreamweaver</td>\n",
       "                        <td id=\"T_5b47c010_e24d_11ea_89dc_9822efd48457row4_col20\" class=\"data row4 col20\" >Adobe Photoshop</td>\n",
       "                        <td id=\"T_5b47c010_e24d_11ea_89dc_9822efd48457row4_col21\" class=\"data row4 col21\" >Dış Ticaret</td>\n",
       "                        <td id=\"T_5b47c010_e24d_11ea_89dc_9822efd48457row4_col22\" class=\"data row4 col22\" >Finans</td>\n",
       "                        <td id=\"T_5b47c010_e24d_11ea_89dc_9822efd48457row4_col23\" class=\"data row4 col23\" >Finansal Risk Yönetimi</td>\n",
       "                        <td id=\"T_5b47c010_e24d_11ea_89dc_9822efd48457row4_col24\" class=\"data row4 col24\" >4</td>\n",
       "                        <td id=\"T_5b47c010_e24d_11ea_89dc_9822efd48457row4_col25\" class=\"data row4 col25\" >0</td>\n",
       "                        <td id=\"T_5b47c010_e24d_11ea_89dc_9822efd48457row4_col26\" class=\"data row4 col26\" >63</td>\n",
       "                        <td id=\"T_5b47c010_e24d_11ea_89dc_9822efd48457row4_col27\" class=\"data row4 col27\" >89</td>\n",
       "                        <td id=\"T_5b47c010_e24d_11ea_89dc_9822efd48457row4_col28\" class=\"data row4 col28\" >11</td>\n",
       "            </tr>\n",
       "    </tbody></table>"
      ],
      "text/plain": [
       "<pandas.io.formats.style.Styler at 0x199427c9d08>"
      ]
     },
     "execution_count": 5,
     "metadata": {},
     "output_type": "execute_result"
    }
   ],
   "source": [
    "#function for fill background of salaries columns\n",
    "fig = go.FigureWidget( layout=go.Layout() )\n",
    "def highlight_col(x):\n",
    "    dg = 'background-color: darkgray'\n",
    "    a = 'background-color: aqua'\n",
    "    t = 'background-color: teal'\n",
    "    df1 = pd.DataFrame('', index=x.index, columns=x.columns)\n",
    "    df1.iloc[:, 1] = dg\n",
    "    df1.iloc[:, 2] = a\n",
    "    df1.iloc[:, 3] = t\n",
    "    \n",
    "    return df1\n",
    "\n",
    "#displaying first five rows of costumized dataset\n",
    "sorted_job_df.head(5).style.apply(highlight_col, axis=None)"
   ]
  },
  {
   "cell_type": "code",
   "execution_count": 6,
   "metadata": {},
   "outputs": [
    {
     "data": {
      "application/vnd.jupyter.widget-view+json": {
       "model_id": "07c756e0fc7b4324858e0126c652403d",
       "version_major": 2,
       "version_minor": 0
      },
      "text/plain": [
       "interactive(children=(IntSlider(value=10, description='n', max=30, min=-10), Output()), _dom_classes=('widget-…"
      ]
     },
     "metadata": {},
     "output_type": "display_data"
    },
    {
     "data": {
      "application/vnd.jupyter.widget-view+json": {
       "model_id": "e9728cdb153e4a29ab82bd194c1e7feb",
       "version_major": 2,
       "version_minor": 0
      },
      "text/plain": [
       "VBox(children=(FigureWidget({\n",
       "    'data': [], 'layout': {'template': '...'}\n",
       "}),), layout=Layout(border='solid …"
      ]
     },
     "metadata": {},
     "output_type": "display_data"
    }
   ],
   "source": [
    "#function for plotting mean salary for each profession by interactive dashboard via 'plotly' library.\n",
    "def bubble_chart(n):\n",
    "    fig = px.scatter(sorted_job_df.head(n), x=\"job_name\", y=\"mean_salary\", size=\"mean_salary\", color=\"job_name\",\n",
    "               hover_name=\"job_name\", size_max=60)\n",
    "    fig.update_layout(\n",
    "    title=str(n) +\" Most Winning Profession (Average)\",\n",
    "    xaxis_title=\"Professions\",\n",
    "    yaxis_title=\"Mean Salary\",\n",
    "    width = 700\n",
    "    )\n",
    "    fig.show();\n",
    "\n",
    "interact(bubble_chart, n=10)\n",
    "ipywLayout = widgets.Layout(border='solid 2px green')\n",
    "ipywLayout.display='none'\n",
    "widgets.VBox([fig], layout=ipywLayout)"
   ]
  },
  {
   "cell_type": "code",
   "execution_count": 7,
   "metadata": {},
   "outputs": [
    {
     "data": {
      "application/vnd.plotly.v1+json": {
       "config": {
        "plotlyServerURL": "https://plotly.com"
       },
       "data": [
        {
         "alignmentgroup": "True",
         "hovertemplate": "Professions=%{x}<br>Mean Salary (₺)=%{y}<extra></extra>",
         "legendgroup": "",
         "marker": {
          "color": "aqua"
         },
         "name": "",
         "offsetgroup": "",
         "orientation": "v",
         "showlegend": false,
         "textposition": "auto",
         "type": "bar",
         "x": [
          "Beyin Cerrahı",
          "Ortopedi ve Travmatoloji Uzmanı",
          "Dermatoloji Uzmanı",
          "Pilot",
          "Ticari Genel Müdür Yardımcısı / CCO",
          "Bilgi Teknolojileri Direktörü",
          "İç Hastalıkları Uzmanı",
          "Radyoloji Uzmanı",
          "Göğüs Hastalıkları Uzmanı",
          "Veri Ambarı Tasarımcısı"
         ],
         "xaxis": "x",
         "y": [
          35100,
          30000,
          26330,
          24500,
          18330,
          18270,
          17250,
          17070,
          17000,
          16500
         ],
         "yaxis": "y"
        }
       ],
       "layout": {
        "barmode": "relative",
        "height": 500,
        "legend": {
         "tracegroupgap": 0
        },
        "template": {
         "data": {
          "bar": [
           {
            "error_x": {
             "color": "#2a3f5f"
            },
            "error_y": {
             "color": "#2a3f5f"
            },
            "marker": {
             "line": {
              "color": "#E5ECF6",
              "width": 0.5
             }
            },
            "type": "bar"
           }
          ],
          "barpolar": [
           {
            "marker": {
             "line": {
              "color": "#E5ECF6",
              "width": 0.5
             }
            },
            "type": "barpolar"
           }
          ],
          "carpet": [
           {
            "aaxis": {
             "endlinecolor": "#2a3f5f",
             "gridcolor": "white",
             "linecolor": "white",
             "minorgridcolor": "white",
             "startlinecolor": "#2a3f5f"
            },
            "baxis": {
             "endlinecolor": "#2a3f5f",
             "gridcolor": "white",
             "linecolor": "white",
             "minorgridcolor": "white",
             "startlinecolor": "#2a3f5f"
            },
            "type": "carpet"
           }
          ],
          "choropleth": [
           {
            "colorbar": {
             "outlinewidth": 0,
             "ticks": ""
            },
            "type": "choropleth"
           }
          ],
          "contour": [
           {
            "colorbar": {
             "outlinewidth": 0,
             "ticks": ""
            },
            "colorscale": [
             [
              0,
              "#0d0887"
             ],
             [
              0.1111111111111111,
              "#46039f"
             ],
             [
              0.2222222222222222,
              "#7201a8"
             ],
             [
              0.3333333333333333,
              "#9c179e"
             ],
             [
              0.4444444444444444,
              "#bd3786"
             ],
             [
              0.5555555555555556,
              "#d8576b"
             ],
             [
              0.6666666666666666,
              "#ed7953"
             ],
             [
              0.7777777777777778,
              "#fb9f3a"
             ],
             [
              0.8888888888888888,
              "#fdca26"
             ],
             [
              1,
              "#f0f921"
             ]
            ],
            "type": "contour"
           }
          ],
          "contourcarpet": [
           {
            "colorbar": {
             "outlinewidth": 0,
             "ticks": ""
            },
            "type": "contourcarpet"
           }
          ],
          "heatmap": [
           {
            "colorbar": {
             "outlinewidth": 0,
             "ticks": ""
            },
            "colorscale": [
             [
              0,
              "#0d0887"
             ],
             [
              0.1111111111111111,
              "#46039f"
             ],
             [
              0.2222222222222222,
              "#7201a8"
             ],
             [
              0.3333333333333333,
              "#9c179e"
             ],
             [
              0.4444444444444444,
              "#bd3786"
             ],
             [
              0.5555555555555556,
              "#d8576b"
             ],
             [
              0.6666666666666666,
              "#ed7953"
             ],
             [
              0.7777777777777778,
              "#fb9f3a"
             ],
             [
              0.8888888888888888,
              "#fdca26"
             ],
             [
              1,
              "#f0f921"
             ]
            ],
            "type": "heatmap"
           }
          ],
          "heatmapgl": [
           {
            "colorbar": {
             "outlinewidth": 0,
             "ticks": ""
            },
            "colorscale": [
             [
              0,
              "#0d0887"
             ],
             [
              0.1111111111111111,
              "#46039f"
             ],
             [
              0.2222222222222222,
              "#7201a8"
             ],
             [
              0.3333333333333333,
              "#9c179e"
             ],
             [
              0.4444444444444444,
              "#bd3786"
             ],
             [
              0.5555555555555556,
              "#d8576b"
             ],
             [
              0.6666666666666666,
              "#ed7953"
             ],
             [
              0.7777777777777778,
              "#fb9f3a"
             ],
             [
              0.8888888888888888,
              "#fdca26"
             ],
             [
              1,
              "#f0f921"
             ]
            ],
            "type": "heatmapgl"
           }
          ],
          "histogram": [
           {
            "marker": {
             "colorbar": {
              "outlinewidth": 0,
              "ticks": ""
             }
            },
            "type": "histogram"
           }
          ],
          "histogram2d": [
           {
            "colorbar": {
             "outlinewidth": 0,
             "ticks": ""
            },
            "colorscale": [
             [
              0,
              "#0d0887"
             ],
             [
              0.1111111111111111,
              "#46039f"
             ],
             [
              0.2222222222222222,
              "#7201a8"
             ],
             [
              0.3333333333333333,
              "#9c179e"
             ],
             [
              0.4444444444444444,
              "#bd3786"
             ],
             [
              0.5555555555555556,
              "#d8576b"
             ],
             [
              0.6666666666666666,
              "#ed7953"
             ],
             [
              0.7777777777777778,
              "#fb9f3a"
             ],
             [
              0.8888888888888888,
              "#fdca26"
             ],
             [
              1,
              "#f0f921"
             ]
            ],
            "type": "histogram2d"
           }
          ],
          "histogram2dcontour": [
           {
            "colorbar": {
             "outlinewidth": 0,
             "ticks": ""
            },
            "colorscale": [
             [
              0,
              "#0d0887"
             ],
             [
              0.1111111111111111,
              "#46039f"
             ],
             [
              0.2222222222222222,
              "#7201a8"
             ],
             [
              0.3333333333333333,
              "#9c179e"
             ],
             [
              0.4444444444444444,
              "#bd3786"
             ],
             [
              0.5555555555555556,
              "#d8576b"
             ],
             [
              0.6666666666666666,
              "#ed7953"
             ],
             [
              0.7777777777777778,
              "#fb9f3a"
             ],
             [
              0.8888888888888888,
              "#fdca26"
             ],
             [
              1,
              "#f0f921"
             ]
            ],
            "type": "histogram2dcontour"
           }
          ],
          "mesh3d": [
           {
            "colorbar": {
             "outlinewidth": 0,
             "ticks": ""
            },
            "type": "mesh3d"
           }
          ],
          "parcoords": [
           {
            "line": {
             "colorbar": {
              "outlinewidth": 0,
              "ticks": ""
             }
            },
            "type": "parcoords"
           }
          ],
          "pie": [
           {
            "automargin": true,
            "type": "pie"
           }
          ],
          "scatter": [
           {
            "marker": {
             "colorbar": {
              "outlinewidth": 0,
              "ticks": ""
             }
            },
            "type": "scatter"
           }
          ],
          "scatter3d": [
           {
            "line": {
             "colorbar": {
              "outlinewidth": 0,
              "ticks": ""
             }
            },
            "marker": {
             "colorbar": {
              "outlinewidth": 0,
              "ticks": ""
             }
            },
            "type": "scatter3d"
           }
          ],
          "scattercarpet": [
           {
            "marker": {
             "colorbar": {
              "outlinewidth": 0,
              "ticks": ""
             }
            },
            "type": "scattercarpet"
           }
          ],
          "scattergeo": [
           {
            "marker": {
             "colorbar": {
              "outlinewidth": 0,
              "ticks": ""
             }
            },
            "type": "scattergeo"
           }
          ],
          "scattergl": [
           {
            "marker": {
             "colorbar": {
              "outlinewidth": 0,
              "ticks": ""
             }
            },
            "type": "scattergl"
           }
          ],
          "scattermapbox": [
           {
            "marker": {
             "colorbar": {
              "outlinewidth": 0,
              "ticks": ""
             }
            },
            "type": "scattermapbox"
           }
          ],
          "scatterpolar": [
           {
            "marker": {
             "colorbar": {
              "outlinewidth": 0,
              "ticks": ""
             }
            },
            "type": "scatterpolar"
           }
          ],
          "scatterpolargl": [
           {
            "marker": {
             "colorbar": {
              "outlinewidth": 0,
              "ticks": ""
             }
            },
            "type": "scatterpolargl"
           }
          ],
          "scatterternary": [
           {
            "marker": {
             "colorbar": {
              "outlinewidth": 0,
              "ticks": ""
             }
            },
            "type": "scatterternary"
           }
          ],
          "surface": [
           {
            "colorbar": {
             "outlinewidth": 0,
             "ticks": ""
            },
            "colorscale": [
             [
              0,
              "#0d0887"
             ],
             [
              0.1111111111111111,
              "#46039f"
             ],
             [
              0.2222222222222222,
              "#7201a8"
             ],
             [
              0.3333333333333333,
              "#9c179e"
             ],
             [
              0.4444444444444444,
              "#bd3786"
             ],
             [
              0.5555555555555556,
              "#d8576b"
             ],
             [
              0.6666666666666666,
              "#ed7953"
             ],
             [
              0.7777777777777778,
              "#fb9f3a"
             ],
             [
              0.8888888888888888,
              "#fdca26"
             ],
             [
              1,
              "#f0f921"
             ]
            ],
            "type": "surface"
           }
          ],
          "table": [
           {
            "cells": {
             "fill": {
              "color": "#EBF0F8"
             },
             "line": {
              "color": "white"
             }
            },
            "header": {
             "fill": {
              "color": "#C8D4E3"
             },
             "line": {
              "color": "white"
             }
            },
            "type": "table"
           }
          ]
         },
         "layout": {
          "annotationdefaults": {
           "arrowcolor": "#2a3f5f",
           "arrowhead": 0,
           "arrowwidth": 1
          },
          "coloraxis": {
           "colorbar": {
            "outlinewidth": 0,
            "ticks": ""
           }
          },
          "colorscale": {
           "diverging": [
            [
             0,
             "#8e0152"
            ],
            [
             0.1,
             "#c51b7d"
            ],
            [
             0.2,
             "#de77ae"
            ],
            [
             0.3,
             "#f1b6da"
            ],
            [
             0.4,
             "#fde0ef"
            ],
            [
             0.5,
             "#f7f7f7"
            ],
            [
             0.6,
             "#e6f5d0"
            ],
            [
             0.7,
             "#b8e186"
            ],
            [
             0.8,
             "#7fbc41"
            ],
            [
             0.9,
             "#4d9221"
            ],
            [
             1,
             "#276419"
            ]
           ],
           "sequential": [
            [
             0,
             "#0d0887"
            ],
            [
             0.1111111111111111,
             "#46039f"
            ],
            [
             0.2222222222222222,
             "#7201a8"
            ],
            [
             0.3333333333333333,
             "#9c179e"
            ],
            [
             0.4444444444444444,
             "#bd3786"
            ],
            [
             0.5555555555555556,
             "#d8576b"
            ],
            [
             0.6666666666666666,
             "#ed7953"
            ],
            [
             0.7777777777777778,
             "#fb9f3a"
            ],
            [
             0.8888888888888888,
             "#fdca26"
            ],
            [
             1,
             "#f0f921"
            ]
           ],
           "sequentialminus": [
            [
             0,
             "#0d0887"
            ],
            [
             0.1111111111111111,
             "#46039f"
            ],
            [
             0.2222222222222222,
             "#7201a8"
            ],
            [
             0.3333333333333333,
             "#9c179e"
            ],
            [
             0.4444444444444444,
             "#bd3786"
            ],
            [
             0.5555555555555556,
             "#d8576b"
            ],
            [
             0.6666666666666666,
             "#ed7953"
            ],
            [
             0.7777777777777778,
             "#fb9f3a"
            ],
            [
             0.8888888888888888,
             "#fdca26"
            ],
            [
             1,
             "#f0f921"
            ]
           ]
          },
          "colorway": [
           "#636efa",
           "#EF553B",
           "#00cc96",
           "#ab63fa",
           "#FFA15A",
           "#19d3f3",
           "#FF6692",
           "#B6E880",
           "#FF97FF",
           "#FECB52"
          ],
          "font": {
           "color": "#2a3f5f"
          },
          "geo": {
           "bgcolor": "white",
           "lakecolor": "white",
           "landcolor": "#E5ECF6",
           "showlakes": true,
           "showland": true,
           "subunitcolor": "white"
          },
          "hoverlabel": {
           "align": "left"
          },
          "hovermode": "closest",
          "mapbox": {
           "style": "light"
          },
          "paper_bgcolor": "white",
          "plot_bgcolor": "#E5ECF6",
          "polar": {
           "angularaxis": {
            "gridcolor": "white",
            "linecolor": "white",
            "ticks": ""
           },
           "bgcolor": "#E5ECF6",
           "radialaxis": {
            "gridcolor": "white",
            "linecolor": "white",
            "ticks": ""
           }
          },
          "scene": {
           "xaxis": {
            "backgroundcolor": "#E5ECF6",
            "gridcolor": "white",
            "gridwidth": 2,
            "linecolor": "white",
            "showbackground": true,
            "ticks": "",
            "zerolinecolor": "white"
           },
           "yaxis": {
            "backgroundcolor": "#E5ECF6",
            "gridcolor": "white",
            "gridwidth": 2,
            "linecolor": "white",
            "showbackground": true,
            "ticks": "",
            "zerolinecolor": "white"
           },
           "zaxis": {
            "backgroundcolor": "#E5ECF6",
            "gridcolor": "white",
            "gridwidth": 2,
            "linecolor": "white",
            "showbackground": true,
            "ticks": "",
            "zerolinecolor": "white"
           }
          },
          "shapedefaults": {
           "line": {
            "color": "#2a3f5f"
           }
          },
          "ternary": {
           "aaxis": {
            "gridcolor": "white",
            "linecolor": "white",
            "ticks": ""
           },
           "baxis": {
            "gridcolor": "white",
            "linecolor": "white",
            "ticks": ""
           },
           "bgcolor": "#E5ECF6",
           "caxis": {
            "gridcolor": "white",
            "linecolor": "white",
            "ticks": ""
           }
          },
          "title": {
           "x": 0.05
          },
          "xaxis": {
           "automargin": true,
           "gridcolor": "white",
           "linecolor": "white",
           "ticks": "",
           "title": {
            "standoff": 15
           },
           "zerolinecolor": "white",
           "zerolinewidth": 2
          },
          "yaxis": {
           "automargin": true,
           "gridcolor": "white",
           "linecolor": "white",
           "ticks": "",
           "title": {
            "standoff": 15
           },
           "zerolinecolor": "white",
           "zerolinewidth": 2
          }
         }
        },
        "title": {
         "text": "Top 10 most earning professions"
        },
        "width": 800,
        "xaxis": {
         "anchor": "y",
         "domain": [
          0,
          1
         ],
         "title": {
          "text": "Professions"
         }
        },
        "yaxis": {
         "anchor": "x",
         "domain": [
          0,
          1
         ],
         "title": {
          "text": "Mean Salary (₺)"
         }
        }
       }
      },
      "text/html": [
       "<div>\n",
       "        \n",
       "        \n",
       "            <div id=\"69296836-fddc-4c74-8399-cc7c2cb52f76\" class=\"plotly-graph-div\" style=\"height:500px; width:800px;\"></div>\n",
       "            <script type=\"text/javascript\">\n",
       "                require([\"plotly\"], function(Plotly) {\n",
       "                    window.PLOTLYENV=window.PLOTLYENV || {};\n",
       "                    \n",
       "                if (document.getElementById(\"69296836-fddc-4c74-8399-cc7c2cb52f76\")) {\n",
       "                    Plotly.newPlot(\n",
       "                        '69296836-fddc-4c74-8399-cc7c2cb52f76',\n",
       "                        [{\"alignmentgroup\": \"True\", \"hovertemplate\": \"Professions=%{x}<br>Mean Salary (\\u20ba)=%{y}<extra></extra>\", \"legendgroup\": \"\", \"marker\": {\"color\": \"aqua\"}, \"name\": \"\", \"offsetgroup\": \"\", \"orientation\": \"v\", \"showlegend\": false, \"textposition\": \"auto\", \"type\": \"bar\", \"x\": [\"Beyin Cerrah\\u0131\", \"Ortopedi ve Travmatoloji Uzman\\u0131\", \"Dermatoloji Uzman\\u0131\", \"Pilot\", \"Ticari Genel M\\u00fcd\\u00fcr Yard\\u0131mc\\u0131s\\u0131 / CCO\", \"Bilgi Teknolojileri Direkt\\u00f6r\\u00fc\", \"\\u0130\\u00e7 Hastal\\u0131klar\\u0131 Uzman\\u0131\", \"Radyoloji Uzman\\u0131\", \"G\\u00f6\\u011f\\u00fcs Hastal\\u0131klar\\u0131 Uzman\\u0131\", \"Veri Ambar\\u0131 Tasar\\u0131mc\\u0131s\\u0131\"], \"xaxis\": \"x\", \"y\": [35100, 30000, 26330, 24500, 18330, 18270, 17250, 17070, 17000, 16500], \"yaxis\": \"y\"}],\n",
       "                        {\"barmode\": \"relative\", \"height\": 500, \"legend\": {\"tracegroupgap\": 0}, \"template\": {\"data\": {\"bar\": [{\"error_x\": {\"color\": \"#2a3f5f\"}, \"error_y\": {\"color\": \"#2a3f5f\"}, \"marker\": {\"line\": {\"color\": \"#E5ECF6\", \"width\": 0.5}}, \"type\": \"bar\"}], \"barpolar\": [{\"marker\": {\"line\": {\"color\": \"#E5ECF6\", \"width\": 0.5}}, \"type\": \"barpolar\"}], \"carpet\": [{\"aaxis\": {\"endlinecolor\": \"#2a3f5f\", \"gridcolor\": \"white\", \"linecolor\": \"white\", \"minorgridcolor\": \"white\", \"startlinecolor\": \"#2a3f5f\"}, \"baxis\": {\"endlinecolor\": \"#2a3f5f\", \"gridcolor\": \"white\", \"linecolor\": \"white\", \"minorgridcolor\": \"white\", \"startlinecolor\": \"#2a3f5f\"}, \"type\": \"carpet\"}], \"choropleth\": [{\"colorbar\": {\"outlinewidth\": 0, \"ticks\": \"\"}, \"type\": \"choropleth\"}], \"contour\": [{\"colorbar\": {\"outlinewidth\": 0, \"ticks\": \"\"}, \"colorscale\": [[0.0, \"#0d0887\"], [0.1111111111111111, \"#46039f\"], [0.2222222222222222, \"#7201a8\"], [0.3333333333333333, \"#9c179e\"], [0.4444444444444444, \"#bd3786\"], [0.5555555555555556, \"#d8576b\"], [0.6666666666666666, \"#ed7953\"], [0.7777777777777778, \"#fb9f3a\"], [0.8888888888888888, \"#fdca26\"], [1.0, \"#f0f921\"]], \"type\": \"contour\"}], \"contourcarpet\": [{\"colorbar\": {\"outlinewidth\": 0, \"ticks\": \"\"}, \"type\": \"contourcarpet\"}], \"heatmap\": [{\"colorbar\": {\"outlinewidth\": 0, \"ticks\": \"\"}, \"colorscale\": [[0.0, \"#0d0887\"], [0.1111111111111111, \"#46039f\"], [0.2222222222222222, \"#7201a8\"], [0.3333333333333333, \"#9c179e\"], [0.4444444444444444, \"#bd3786\"], [0.5555555555555556, \"#d8576b\"], [0.6666666666666666, \"#ed7953\"], [0.7777777777777778, \"#fb9f3a\"], [0.8888888888888888, \"#fdca26\"], [1.0, \"#f0f921\"]], \"type\": \"heatmap\"}], \"heatmapgl\": [{\"colorbar\": {\"outlinewidth\": 0, \"ticks\": \"\"}, \"colorscale\": [[0.0, \"#0d0887\"], [0.1111111111111111, \"#46039f\"], [0.2222222222222222, \"#7201a8\"], [0.3333333333333333, \"#9c179e\"], [0.4444444444444444, \"#bd3786\"], [0.5555555555555556, \"#d8576b\"], [0.6666666666666666, \"#ed7953\"], [0.7777777777777778, \"#fb9f3a\"], [0.8888888888888888, \"#fdca26\"], [1.0, \"#f0f921\"]], \"type\": \"heatmapgl\"}], \"histogram\": [{\"marker\": {\"colorbar\": {\"outlinewidth\": 0, \"ticks\": \"\"}}, \"type\": \"histogram\"}], \"histogram2d\": [{\"colorbar\": {\"outlinewidth\": 0, \"ticks\": \"\"}, \"colorscale\": [[0.0, \"#0d0887\"], [0.1111111111111111, \"#46039f\"], [0.2222222222222222, \"#7201a8\"], [0.3333333333333333, \"#9c179e\"], [0.4444444444444444, \"#bd3786\"], [0.5555555555555556, \"#d8576b\"], [0.6666666666666666, \"#ed7953\"], [0.7777777777777778, \"#fb9f3a\"], [0.8888888888888888, \"#fdca26\"], [1.0, \"#f0f921\"]], \"type\": \"histogram2d\"}], \"histogram2dcontour\": [{\"colorbar\": {\"outlinewidth\": 0, \"ticks\": \"\"}, \"colorscale\": [[0.0, \"#0d0887\"], [0.1111111111111111, \"#46039f\"], [0.2222222222222222, \"#7201a8\"], [0.3333333333333333, \"#9c179e\"], [0.4444444444444444, \"#bd3786\"], [0.5555555555555556, \"#d8576b\"], [0.6666666666666666, \"#ed7953\"], [0.7777777777777778, \"#fb9f3a\"], [0.8888888888888888, \"#fdca26\"], [1.0, \"#f0f921\"]], \"type\": \"histogram2dcontour\"}], \"mesh3d\": [{\"colorbar\": {\"outlinewidth\": 0, \"ticks\": \"\"}, \"type\": \"mesh3d\"}], \"parcoords\": [{\"line\": {\"colorbar\": {\"outlinewidth\": 0, \"ticks\": \"\"}}, \"type\": \"parcoords\"}], \"pie\": [{\"automargin\": true, \"type\": \"pie\"}], \"scatter\": [{\"marker\": {\"colorbar\": {\"outlinewidth\": 0, \"ticks\": \"\"}}, \"type\": \"scatter\"}], \"scatter3d\": [{\"line\": {\"colorbar\": {\"outlinewidth\": 0, \"ticks\": \"\"}}, \"marker\": {\"colorbar\": {\"outlinewidth\": 0, \"ticks\": \"\"}}, \"type\": \"scatter3d\"}], \"scattercarpet\": [{\"marker\": {\"colorbar\": {\"outlinewidth\": 0, \"ticks\": \"\"}}, \"type\": \"scattercarpet\"}], \"scattergeo\": [{\"marker\": {\"colorbar\": {\"outlinewidth\": 0, \"ticks\": \"\"}}, \"type\": \"scattergeo\"}], \"scattergl\": [{\"marker\": {\"colorbar\": {\"outlinewidth\": 0, \"ticks\": \"\"}}, \"type\": \"scattergl\"}], \"scattermapbox\": [{\"marker\": {\"colorbar\": {\"outlinewidth\": 0, \"ticks\": \"\"}}, \"type\": \"scattermapbox\"}], \"scatterpolar\": [{\"marker\": {\"colorbar\": {\"outlinewidth\": 0, \"ticks\": \"\"}}, \"type\": \"scatterpolar\"}], \"scatterpolargl\": [{\"marker\": {\"colorbar\": {\"outlinewidth\": 0, \"ticks\": \"\"}}, \"type\": \"scatterpolargl\"}], \"scatterternary\": [{\"marker\": {\"colorbar\": {\"outlinewidth\": 0, \"ticks\": \"\"}}, \"type\": \"scatterternary\"}], \"surface\": [{\"colorbar\": {\"outlinewidth\": 0, \"ticks\": \"\"}, \"colorscale\": [[0.0, \"#0d0887\"], [0.1111111111111111, \"#46039f\"], [0.2222222222222222, \"#7201a8\"], [0.3333333333333333, \"#9c179e\"], [0.4444444444444444, \"#bd3786\"], [0.5555555555555556, \"#d8576b\"], [0.6666666666666666, \"#ed7953\"], [0.7777777777777778, \"#fb9f3a\"], [0.8888888888888888, \"#fdca26\"], [1.0, \"#f0f921\"]], \"type\": \"surface\"}], \"table\": [{\"cells\": {\"fill\": {\"color\": \"#EBF0F8\"}, \"line\": {\"color\": \"white\"}}, \"header\": {\"fill\": {\"color\": \"#C8D4E3\"}, \"line\": {\"color\": \"white\"}}, \"type\": \"table\"}]}, \"layout\": {\"annotationdefaults\": {\"arrowcolor\": \"#2a3f5f\", \"arrowhead\": 0, \"arrowwidth\": 1}, \"coloraxis\": {\"colorbar\": {\"outlinewidth\": 0, \"ticks\": \"\"}}, \"colorscale\": {\"diverging\": [[0, \"#8e0152\"], [0.1, \"#c51b7d\"], [0.2, \"#de77ae\"], [0.3, \"#f1b6da\"], [0.4, \"#fde0ef\"], [0.5, \"#f7f7f7\"], [0.6, \"#e6f5d0\"], [0.7, \"#b8e186\"], [0.8, \"#7fbc41\"], [0.9, \"#4d9221\"], [1, \"#276419\"]], \"sequential\": [[0.0, \"#0d0887\"], [0.1111111111111111, \"#46039f\"], [0.2222222222222222, \"#7201a8\"], [0.3333333333333333, \"#9c179e\"], [0.4444444444444444, \"#bd3786\"], [0.5555555555555556, \"#d8576b\"], [0.6666666666666666, \"#ed7953\"], [0.7777777777777778, \"#fb9f3a\"], [0.8888888888888888, \"#fdca26\"], [1.0, \"#f0f921\"]], \"sequentialminus\": [[0.0, \"#0d0887\"], [0.1111111111111111, \"#46039f\"], [0.2222222222222222, \"#7201a8\"], [0.3333333333333333, \"#9c179e\"], [0.4444444444444444, \"#bd3786\"], [0.5555555555555556, \"#d8576b\"], [0.6666666666666666, \"#ed7953\"], [0.7777777777777778, \"#fb9f3a\"], [0.8888888888888888, \"#fdca26\"], [1.0, \"#f0f921\"]]}, \"colorway\": [\"#636efa\", \"#EF553B\", \"#00cc96\", \"#ab63fa\", \"#FFA15A\", \"#19d3f3\", \"#FF6692\", \"#B6E880\", \"#FF97FF\", \"#FECB52\"], \"font\": {\"color\": \"#2a3f5f\"}, \"geo\": {\"bgcolor\": \"white\", \"lakecolor\": \"white\", \"landcolor\": \"#E5ECF6\", \"showlakes\": true, \"showland\": true, \"subunitcolor\": \"white\"}, \"hoverlabel\": {\"align\": \"left\"}, \"hovermode\": \"closest\", \"mapbox\": {\"style\": \"light\"}, \"paper_bgcolor\": \"white\", \"plot_bgcolor\": \"#E5ECF6\", \"polar\": {\"angularaxis\": {\"gridcolor\": \"white\", \"linecolor\": \"white\", \"ticks\": \"\"}, \"bgcolor\": \"#E5ECF6\", \"radialaxis\": {\"gridcolor\": \"white\", \"linecolor\": \"white\", \"ticks\": \"\"}}, \"scene\": {\"xaxis\": {\"backgroundcolor\": \"#E5ECF6\", \"gridcolor\": \"white\", \"gridwidth\": 2, \"linecolor\": \"white\", \"showbackground\": true, \"ticks\": \"\", \"zerolinecolor\": \"white\"}, \"yaxis\": {\"backgroundcolor\": \"#E5ECF6\", \"gridcolor\": \"white\", \"gridwidth\": 2, \"linecolor\": \"white\", \"showbackground\": true, \"ticks\": \"\", \"zerolinecolor\": \"white\"}, \"zaxis\": {\"backgroundcolor\": \"#E5ECF6\", \"gridcolor\": \"white\", \"gridwidth\": 2, \"linecolor\": \"white\", \"showbackground\": true, \"ticks\": \"\", \"zerolinecolor\": \"white\"}}, \"shapedefaults\": {\"line\": {\"color\": \"#2a3f5f\"}}, \"ternary\": {\"aaxis\": {\"gridcolor\": \"white\", \"linecolor\": \"white\", \"ticks\": \"\"}, \"baxis\": {\"gridcolor\": \"white\", \"linecolor\": \"white\", \"ticks\": \"\"}, \"bgcolor\": \"#E5ECF6\", \"caxis\": {\"gridcolor\": \"white\", \"linecolor\": \"white\", \"ticks\": \"\"}}, \"title\": {\"x\": 0.05}, \"xaxis\": {\"automargin\": true, \"gridcolor\": \"white\", \"linecolor\": \"white\", \"ticks\": \"\", \"title\": {\"standoff\": 15}, \"zerolinecolor\": \"white\", \"zerolinewidth\": 2}, \"yaxis\": {\"automargin\": true, \"gridcolor\": \"white\", \"linecolor\": \"white\", \"ticks\": \"\", \"title\": {\"standoff\": 15}, \"zerolinecolor\": \"white\", \"zerolinewidth\": 2}}}, \"title\": {\"text\": \"Top 10 most earning professions\"}, \"width\": 800, \"xaxis\": {\"anchor\": \"y\", \"domain\": [0.0, 1.0], \"title\": {\"text\": \"Professions\"}}, \"yaxis\": {\"anchor\": \"x\", \"domain\": [0.0, 1.0], \"title\": {\"text\": \"Mean Salary (\\u20ba)\"}}},\n",
       "                        {\"responsive\": true}\n",
       "                    ).then(function(){\n",
       "                            \n",
       "var gd = document.getElementById('69296836-fddc-4c74-8399-cc7c2cb52f76');\n",
       "var x = new MutationObserver(function (mutations, observer) {{\n",
       "        var display = window.getComputedStyle(gd).display;\n",
       "        if (!display || display === 'none') {{\n",
       "            console.log([gd, 'removed!']);\n",
       "            Plotly.purge(gd);\n",
       "            observer.disconnect();\n",
       "        }}\n",
       "}});\n",
       "\n",
       "// Listen for the removal of the full notebook cells\n",
       "var notebookContainer = gd.closest('#notebook-container');\n",
       "if (notebookContainer) {{\n",
       "    x.observe(notebookContainer, {childList: true});\n",
       "}}\n",
       "\n",
       "// Listen for the clearing of the current output cell\n",
       "var outputEl = gd.closest('.output');\n",
       "if (outputEl) {{\n",
       "    x.observe(outputEl, {childList: true});\n",
       "}}\n",
       "\n",
       "                        })\n",
       "                };\n",
       "                });\n",
       "            </script>\n",
       "        </div>"
      ]
     },
     "metadata": {},
     "output_type": "display_data"
    }
   ],
   "source": [
    "#bar plot for most winning professions\n",
    "px.bar(\n",
    "    sorted_job_df.head(10),\n",
    "    x = \"job_name\",\n",
    "    y = \"mean_salary\",\n",
    "    labels= {'job_name': 'Professions',\n",
    "            'mean_salary': 'Mean Salary (₺)'},\n",
    "    title= \"Top 10 most earning professions\", # the axis names\n",
    "    color_discrete_sequence=[\"aqua\"], \n",
    "    height=500,\n",
    "    width=800\n",
    ")"
   ]
  },
  {
   "cell_type": "code",
   "execution_count": 8,
   "metadata": {},
   "outputs": [
    {
     "data": {
      "text/html": [
       "<div>\n",
       "<style scoped>\n",
       "    .dataframe tbody tr th:only-of-type {\n",
       "        vertical-align: middle;\n",
       "    }\n",
       "\n",
       "    .dataframe tbody tr th {\n",
       "        vertical-align: top;\n",
       "    }\n",
       "\n",
       "    .dataframe thead th {\n",
       "        text-align: right;\n",
       "    }\n",
       "</style>\n",
       "<table border=\"1\" class=\"dataframe\">\n",
       "  <thead>\n",
       "    <tr style=\"text-align: right;\">\n",
       "      <th></th>\n",
       "      <th>job_name</th>\n",
       "      <th>mean_salary</th>\n",
       "      <th>max_salary</th>\n",
       "      <th>min_salary</th>\n",
       "      <th>first_grad</th>\n",
       "      <th>second_grad</th>\n",
       "      <th>third_grad</th>\n",
       "      <th>fourth_grad</th>\n",
       "      <th>fiveth_grad</th>\n",
       "      <th>first_department</th>\n",
       "      <th>...</th>\n",
       "      <th>first_skill</th>\n",
       "      <th>second_skill</th>\n",
       "      <th>third_skill</th>\n",
       "      <th>fourth_skill</th>\n",
       "      <th>fiveth_skill</th>\n",
       "      <th>number_of_entries</th>\n",
       "      <th>job_advertisement</th>\n",
       "      <th>total_participants</th>\n",
       "      <th>male_percentage</th>\n",
       "      <th>female_percentage</th>\n",
       "    </tr>\n",
       "  </thead>\n",
       "  <tbody>\n",
       "    <tr>\n",
       "      <th>801</th>\n",
       "      <td>Kıdemli Yazılım Mühendisi</td>\n",
       "      <td>9140</td>\n",
       "      <td>5130</td>\n",
       "      <td>13150</td>\n",
       "      <td>Bilgisayar Mühendisliği</td>\n",
       "      <td>Elektrik/Elektronik Mühendisliği</td>\n",
       "      <td>Bilgisayar Teknolojisi ve Programlama (MYO)</td>\n",
       "      <td>Elektronik ve Haberleşme Müh.</td>\n",
       "      <td>Yazılım Mühendisliği</td>\n",
       "      <td>Bilişim</td>\n",
       "      <td>...</td>\n",
       "      <td>ASP.NET</td>\n",
       "      <td>ASP.NET Web Api</td>\n",
       "      <td>C</td>\n",
       "      <td>C#</td>\n",
       "      <td>C++</td>\n",
       "      <td>164</td>\n",
       "      <td>938</td>\n",
       "      <td>1519</td>\n",
       "      <td>85</td>\n",
       "      <td>15</td>\n",
       "    </tr>\n",
       "    <tr>\n",
       "      <th>1564</th>\n",
       "      <td>Yönetici Asistanı</td>\n",
       "      <td>3200</td>\n",
       "      <td>2020</td>\n",
       "      <td>4660</td>\n",
       "      <td>İşletme</td>\n",
       "      <td>Büro Yönetimi ve Yönetici Asistanlığı (MYO)</td>\n",
       "      <td>Büro Yönetimi ve Sekreterlik (MYO)</td>\n",
       "      <td>Kamu Yönetimi</td>\n",
       "      <td>İktisat</td>\n",
       "      <td>Yapı</td>\n",
       "      <td>...</td>\n",
       "      <td>Adobe Photoshop</td>\n",
       "      <td>Genel Muhasebe</td>\n",
       "      <td>Muhasebe</td>\n",
       "      <td>0</td>\n",
       "      <td>0</td>\n",
       "      <td>731</td>\n",
       "      <td>930</td>\n",
       "      <td>37954</td>\n",
       "      <td>14</td>\n",
       "      <td>86</td>\n",
       "    </tr>\n",
       "    <tr>\n",
       "      <th>802</th>\n",
       "      <td>Kıdemli Yazılım Uzmanı</td>\n",
       "      <td>8230</td>\n",
       "      <td>4500</td>\n",
       "      <td>11960</td>\n",
       "      <td>Bilgisayar Mühendisliği</td>\n",
       "      <td>Bilgisayar Teknolojisi ve Programlama (MYO)</td>\n",
       "      <td>İşletme</td>\n",
       "      <td>Matematik</td>\n",
       "      <td>Bilgisayar Programcılığı</td>\n",
       "      <td>Bilişim</td>\n",
       "      <td>...</td>\n",
       "      <td>ASP.NET</td>\n",
       "      <td>ASP.NET Web Api</td>\n",
       "      <td>C#</td>\n",
       "      <td>CSS</td>\n",
       "      <td>CSS3</td>\n",
       "      <td>147</td>\n",
       "      <td>916</td>\n",
       "      <td>908</td>\n",
       "      <td>88</td>\n",
       "      <td>12</td>\n",
       "    </tr>\n",
       "    <tr>\n",
       "      <th>219</th>\n",
       "      <td>Bölge Satış Temsilcisi</td>\n",
       "      <td>4010</td>\n",
       "      <td>2280</td>\n",
       "      <td>5740</td>\n",
       "      <td>İşletme</td>\n",
       "      <td>Kamu Yönetimi</td>\n",
       "      <td>İktisat</td>\n",
       "      <td>Pazarlama (MYO)</td>\n",
       "      <td>Pazarlama</td>\n",
       "      <td>Gıda</td>\n",
       "      <td>...</td>\n",
       "      <td>AutoCAD</td>\n",
       "      <td>Cari Hesap ve Finans Takibi</td>\n",
       "      <td>Pazarlama Stratejisi</td>\n",
       "      <td>Saha Satış</td>\n",
       "      <td>SAP</td>\n",
       "      <td>75</td>\n",
       "      <td>905</td>\n",
       "      <td>3718</td>\n",
       "      <td>87</td>\n",
       "      <td>13</td>\n",
       "    </tr>\n",
       "    <tr>\n",
       "      <th>28</th>\n",
       "      <td>Aktif Satış Temsilcisi</td>\n",
       "      <td>3150</td>\n",
       "      <td>2020</td>\n",
       "      <td>4500</td>\n",
       "      <td>İşletme</td>\n",
       "      <td>İktisat</td>\n",
       "      <td>Kamu Yönetimi</td>\n",
       "      <td>Dış Ticaret (MYO)</td>\n",
       "      <td>Maliye</td>\n",
       "      <td>Gıda</td>\n",
       "      <td>...</td>\n",
       "      <td>AutoCAD</td>\n",
       "      <td>Genel Muhasebe</td>\n",
       "      <td>Muhasebe</td>\n",
       "      <td>Satış Yönetimi</td>\n",
       "      <td>0</td>\n",
       "      <td>233</td>\n",
       "      <td>892</td>\n",
       "      <td>22220</td>\n",
       "      <td>64</td>\n",
       "      <td>36</td>\n",
       "    </tr>\n",
       "    <tr>\n",
       "      <th>1263</th>\n",
       "      <td>Sekreter</td>\n",
       "      <td>2400</td>\n",
       "      <td>2020</td>\n",
       "      <td>2890</td>\n",
       "      <td>İşletme</td>\n",
       "      <td>Büro Yönetimi ve Yönetici Asistanlığı (MYO)</td>\n",
       "      <td>Büro Yönetimi ve Sekreterlik (MYO)</td>\n",
       "      <td>Kamu Yönetimi</td>\n",
       "      <td>Muhasebe (MYO)</td>\n",
       "      <td>Yapı</td>\n",
       "      <td>...</td>\n",
       "      <td>BÜRO YÖNETİMİ VE SEKRETERLİK</td>\n",
       "      <td>Muhasebe</td>\n",
       "      <td>Ön Muhasebe</td>\n",
       "      <td>0</td>\n",
       "      <td>0</td>\n",
       "      <td>590</td>\n",
       "      <td>877</td>\n",
       "      <td>66280</td>\n",
       "      <td>6</td>\n",
       "      <td>94</td>\n",
       "    </tr>\n",
       "    <tr>\n",
       "      <th>659</th>\n",
       "      <td>İnsan Kaynakları Uzmanı</td>\n",
       "      <td>3760</td>\n",
       "      <td>2140</td>\n",
       "      <td>5370</td>\n",
       "      <td>İşletme</td>\n",
       "      <td>Çalışma Ekonomisi ve Endüstri İlişkileri</td>\n",
       "      <td>İktisat</td>\n",
       "      <td>İnsan Kaynakları</td>\n",
       "      <td>Sosyoloji</td>\n",
       "      <td>Otomotiv</td>\n",
       "      <td>...</td>\n",
       "      <td>Bordrolama</td>\n",
       "      <td>ISO 9001</td>\n",
       "      <td>ISO 9001:2000</td>\n",
       "      <td>İç Tetkik Eğitim Sertifikası</td>\n",
       "      <td>İnsan Kaynakları</td>\n",
       "      <td>749</td>\n",
       "      <td>875</td>\n",
       "      <td>8123</td>\n",
       "      <td>23</td>\n",
       "      <td>77</td>\n",
       "    </tr>\n",
       "    <tr>\n",
       "      <th>85</th>\n",
       "      <td>Arayüz Yazılım Uzmanı</td>\n",
       "      <td>5790</td>\n",
       "      <td>2830</td>\n",
       "      <td>8750</td>\n",
       "      <td>Bilgisayar Mühendisliği</td>\n",
       "      <td>Bilgisayar Teknolojisi ve Programlama (MYO)</td>\n",
       "      <td>Bilgisayar Programcılığı</td>\n",
       "      <td>İşletme</td>\n",
       "      <td>Yazılım Mühendisliği</td>\n",
       "      <td>Bilişim</td>\n",
       "      <td>...</td>\n",
       "      <td>Adobe Illustrator</td>\n",
       "      <td>Adobe Photoshop</td>\n",
       "      <td>Bootstrap 4</td>\n",
       "      <td>C#</td>\n",
       "      <td>CSS</td>\n",
       "      <td>31</td>\n",
       "      <td>874</td>\n",
       "      <td>630</td>\n",
       "      <td>82</td>\n",
       "      <td>18</td>\n",
       "    </tr>\n",
       "    <tr>\n",
       "      <th>1355</th>\n",
       "      <td>Şoför / Sürücü</td>\n",
       "      <td>2840</td>\n",
       "      <td>2040</td>\n",
       "      <td>3640</td>\n",
       "      <td>İşletme</td>\n",
       "      <td>Kamu Yönetimi</td>\n",
       "      <td>Elektrik (MYO)</td>\n",
       "      <td>Otomotiv (MYO)</td>\n",
       "      <td>İktisat</td>\n",
       "      <td>Taşımacılık</td>\n",
       "      <td>...</td>\n",
       "      <td>Src 2</td>\n",
       "      <td>Src 4</td>\n",
       "      <td>SRC4</td>\n",
       "      <td>0</td>\n",
       "      <td>0</td>\n",
       "      <td>841</td>\n",
       "      <td>820</td>\n",
       "      <td>45957</td>\n",
       "      <td>91</td>\n",
       "      <td>9</td>\n",
       "    </tr>\n",
       "    <tr>\n",
       "      <th>253</th>\n",
       "      <td>Çağrı Merkezi Elemanı</td>\n",
       "      <td>2460</td>\n",
       "      <td>2020</td>\n",
       "      <td>3010</td>\n",
       "      <td>İşletme</td>\n",
       "      <td>İktisat</td>\n",
       "      <td>Kamu Yönetimi</td>\n",
       "      <td>Dış Ticaret (MYO)</td>\n",
       "      <td>Bankacılık ve Sigortacılık (MYO)</td>\n",
       "      <td>Hizmet</td>\n",
       "      <td>...</td>\n",
       "      <td>Adobe Photoshop</td>\n",
       "      <td>Genel Muhasebe</td>\n",
       "      <td>Muhasebe</td>\n",
       "      <td>0</td>\n",
       "      <td>0</td>\n",
       "      <td>396</td>\n",
       "      <td>819</td>\n",
       "      <td>21259</td>\n",
       "      <td>28</td>\n",
       "      <td>72</td>\n",
       "    </tr>\n",
       "    <tr>\n",
       "      <th>717</th>\n",
       "      <td>Java Yazılım Mühendisi</td>\n",
       "      <td>7170</td>\n",
       "      <td>3200</td>\n",
       "      <td>11140</td>\n",
       "      <td>Bilgisayar Mühendisliği</td>\n",
       "      <td>Yazılım Mühendisliği</td>\n",
       "      <td>Bilgisayar Teknolojisi ve Programlama (MYO)</td>\n",
       "      <td>Elektrik/Elektronik Mühendisliği</td>\n",
       "      <td>Matematik Mühendisliği</td>\n",
       "      <td>Bilişim</td>\n",
       "      <td>...</td>\n",
       "      <td>Android Programlama</td>\n",
       "      <td>Android Uygulama Geliştirme</td>\n",
       "      <td>C</td>\n",
       "      <td>C#</td>\n",
       "      <td>C++</td>\n",
       "      <td>114</td>\n",
       "      <td>801</td>\n",
       "      <td>955</td>\n",
       "      <td>79</td>\n",
       "      <td>21</td>\n",
       "    </tr>\n",
       "    <tr>\n",
       "      <th>1104</th>\n",
       "      <td>Pazarlama Uzmanı</td>\n",
       "      <td>4340</td>\n",
       "      <td>2090</td>\n",
       "      <td>6600</td>\n",
       "      <td>İşletme (İngilizce)</td>\n",
       "      <td>İşletme</td>\n",
       "      <td>Endüstri Mühendisliği</td>\n",
       "      <td>İktisat</td>\n",
       "      <td>Uluslararası İlişkiler</td>\n",
       "      <td>Finans - Ekonomi</td>\n",
       "      <td>...</td>\n",
       "      <td>Adobe Photoshop</td>\n",
       "      <td>CRM</td>\n",
       "      <td>Dijital Pazarlama</td>\n",
       "      <td>Marketing</td>\n",
       "      <td>MRP1 (Malzeme İhtiyaç Planlaması)</td>\n",
       "      <td>177</td>\n",
       "      <td>797</td>\n",
       "      <td>3651</td>\n",
       "      <td>46</td>\n",
       "      <td>54</td>\n",
       "    </tr>\n",
       "    <tr>\n",
       "      <th>1552</th>\n",
       "      <td>Yazılım Uzman Yardımcısı</td>\n",
       "      <td>3790</td>\n",
       "      <td>2140</td>\n",
       "      <td>5430</td>\n",
       "      <td>Bilgisayar Mühendisliği</td>\n",
       "      <td>Bilgisayar Teknolojisi ve Programlama (MYO)</td>\n",
       "      <td>Matematik</td>\n",
       "      <td>Matematik Mühendisliği</td>\n",
       "      <td>Bilgisayar Programcılığı</td>\n",
       "      <td>Bilişim</td>\n",
       "      <td>...</td>\n",
       "      <td>ADO.NET</td>\n",
       "      <td>ASP.NET</td>\n",
       "      <td>C</td>\n",
       "      <td>C#</td>\n",
       "      <td>C++</td>\n",
       "      <td>61</td>\n",
       "      <td>692</td>\n",
       "      <td>453</td>\n",
       "      <td>65</td>\n",
       "      <td>35</td>\n",
       "    </tr>\n",
       "    <tr>\n",
       "      <th>314</th>\n",
       "      <td>Dijital Pazarlama Uzmanı</td>\n",
       "      <td>4040</td>\n",
       "      <td>2210</td>\n",
       "      <td>5870</td>\n",
       "      <td>İşletme</td>\n",
       "      <td>Endüstri Mühendisliği</td>\n",
       "      <td>İşletme (İngilizce)</td>\n",
       "      <td>Bilgisayar Teknolojisi ve Programlama (MYO)</td>\n",
       "      <td>Halkla İlişkiler ve Tanıtım</td>\n",
       "      <td>Bilişim</td>\n",
       "      <td>...</td>\n",
       "      <td>Adobe Illustrator</td>\n",
       "      <td>Adobe Photoshop</td>\n",
       "      <td>Dijital Pazarlama</td>\n",
       "      <td>Google Adwords Kampanya Yönetimi</td>\n",
       "      <td>Google Analytics</td>\n",
       "      <td>156</td>\n",
       "      <td>686</td>\n",
       "      <td>924</td>\n",
       "      <td>52</td>\n",
       "      <td>48</td>\n",
       "    </tr>\n",
       "    <tr>\n",
       "      <th>166</th>\n",
       "      <td>Bilgi İşlem Uzmanı</td>\n",
       "      <td>3690</td>\n",
       "      <td>2180</td>\n",
       "      <td>5200</td>\n",
       "      <td>Bilgisayar Teknolojisi ve Programlama (MYO)</td>\n",
       "      <td>İşletme</td>\n",
       "      <td>Bilgisayar Mühendisliği</td>\n",
       "      <td>Bilgisayar Programcılığı</td>\n",
       "      <td>Bilgisayar Teknolojisi ve Bilişim Sistemleri</td>\n",
       "      <td>Bilişim</td>\n",
       "      <td>...</td>\n",
       "      <td>C#</td>\n",
       "      <td>DHCP</td>\n",
       "      <td>DNS</td>\n",
       "      <td>Firewall</td>\n",
       "      <td>HTML</td>\n",
       "      <td>131</td>\n",
       "      <td>657</td>\n",
       "      <td>2126</td>\n",
       "      <td>91</td>\n",
       "      <td>10</td>\n",
       "    </tr>\n",
       "  </tbody>\n",
       "</table>\n",
       "<p>15 rows × 29 columns</p>\n",
       "</div>"
      ],
      "text/plain": [
       "                       job_name  mean_salary  max_salary  min_salary  \\\n",
       "801   Kıdemli Yazılım Mühendisi         9140        5130       13150   \n",
       "1564          Yönetici Asistanı         3200        2020        4660   \n",
       "802      Kıdemli Yazılım Uzmanı         8230        4500       11960   \n",
       "219      Bölge Satış Temsilcisi         4010        2280        5740   \n",
       "28       Aktif Satış Temsilcisi         3150        2020        4500   \n",
       "1263                   Sekreter         2400        2020        2890   \n",
       "659     İnsan Kaynakları Uzmanı         3760        2140        5370   \n",
       "85        Arayüz Yazılım Uzmanı         5790        2830        8750   \n",
       "1355             Şoför / Sürücü         2840        2040        3640   \n",
       "253       Çağrı Merkezi Elemanı         2460        2020        3010   \n",
       "717      Java Yazılım Mühendisi         7170        3200       11140   \n",
       "1104           Pazarlama Uzmanı         4340        2090        6600   \n",
       "1552   Yazılım Uzman Yardımcısı         3790        2140        5430   \n",
       "314    Dijital Pazarlama Uzmanı         4040        2210        5870   \n",
       "166          Bilgi İşlem Uzmanı         3690        2180        5200   \n",
       "\n",
       "                                       first_grad  \\\n",
       "801                       Bilgisayar Mühendisliği   \n",
       "1564                                      İşletme   \n",
       "802                       Bilgisayar Mühendisliği   \n",
       "219                                       İşletme   \n",
       "28                                        İşletme   \n",
       "1263                                      İşletme   \n",
       "659                                       İşletme   \n",
       "85                        Bilgisayar Mühendisliği   \n",
       "1355                                      İşletme   \n",
       "253                                       İşletme   \n",
       "717                       Bilgisayar Mühendisliği   \n",
       "1104                          İşletme (İngilizce)   \n",
       "1552                      Bilgisayar Mühendisliği   \n",
       "314                                       İşletme   \n",
       "166   Bilgisayar Teknolojisi ve Programlama (MYO)   \n",
       "\n",
       "                                      second_grad  \\\n",
       "801              Elektrik/Elektronik Mühendisliği   \n",
       "1564  Büro Yönetimi ve Yönetici Asistanlığı (MYO)   \n",
       "802   Bilgisayar Teknolojisi ve Programlama (MYO)   \n",
       "219                                 Kamu Yönetimi   \n",
       "28                                        İktisat   \n",
       "1263  Büro Yönetimi ve Yönetici Asistanlığı (MYO)   \n",
       "659      Çalışma Ekonomisi ve Endüstri İlişkileri   \n",
       "85    Bilgisayar Teknolojisi ve Programlama (MYO)   \n",
       "1355                                Kamu Yönetimi   \n",
       "253                                       İktisat   \n",
       "717                          Yazılım Mühendisliği   \n",
       "1104                                      İşletme   \n",
       "1552  Bilgisayar Teknolojisi ve Programlama (MYO)   \n",
       "314                         Endüstri Mühendisliği   \n",
       "166                                       İşletme   \n",
       "\n",
       "                                       third_grad  \\\n",
       "801   Bilgisayar Teknolojisi ve Programlama (MYO)   \n",
       "1564           Büro Yönetimi ve Sekreterlik (MYO)   \n",
       "802                                       İşletme   \n",
       "219                                       İktisat   \n",
       "28                                  Kamu Yönetimi   \n",
       "1263           Büro Yönetimi ve Sekreterlik (MYO)   \n",
       "659                                       İktisat   \n",
       "85                       Bilgisayar Programcılığı   \n",
       "1355                               Elektrik (MYO)   \n",
       "253                                 Kamu Yönetimi   \n",
       "717   Bilgisayar Teknolojisi ve Programlama (MYO)   \n",
       "1104                        Endüstri Mühendisliği   \n",
       "1552                                    Matematik   \n",
       "314                           İşletme (İngilizce)   \n",
       "166                       Bilgisayar Mühendisliği   \n",
       "\n",
       "                                      fourth_grad  \\\n",
       "801                 Elektronik ve Haberleşme Müh.   \n",
       "1564                                Kamu Yönetimi   \n",
       "802                                     Matematik   \n",
       "219                               Pazarlama (MYO)   \n",
       "28                              Dış Ticaret (MYO)   \n",
       "1263                                Kamu Yönetimi   \n",
       "659                              İnsan Kaynakları   \n",
       "85                                        İşletme   \n",
       "1355                               Otomotiv (MYO)   \n",
       "253                             Dış Ticaret (MYO)   \n",
       "717              Elektrik/Elektronik Mühendisliği   \n",
       "1104                                      İktisat   \n",
       "1552                       Matematik Mühendisliği   \n",
       "314   Bilgisayar Teknolojisi ve Programlama (MYO)   \n",
       "166                      Bilgisayar Programcılığı   \n",
       "\n",
       "                                       fiveth_grad  first_department  ...  \\\n",
       "801                           Yazılım Mühendisliği           Bilişim  ...   \n",
       "1564                                       İktisat              Yapı  ...   \n",
       "802                       Bilgisayar Programcılığı           Bilişim  ...   \n",
       "219                                      Pazarlama              Gıda  ...   \n",
       "28                                          Maliye              Gıda  ...   \n",
       "1263                                Muhasebe (MYO)              Yapı  ...   \n",
       "659                                      Sosyoloji          Otomotiv  ...   \n",
       "85                            Yazılım Mühendisliği           Bilişim  ...   \n",
       "1355                                       İktisat       Taşımacılık  ...   \n",
       "253               Bankacılık ve Sigortacılık (MYO)            Hizmet  ...   \n",
       "717                         Matematik Mühendisliği           Bilişim  ...   \n",
       "1104                        Uluslararası İlişkiler  Finans - Ekonomi  ...   \n",
       "1552                      Bilgisayar Programcılığı           Bilişim  ...   \n",
       "314                    Halkla İlişkiler ve Tanıtım           Bilişim  ...   \n",
       "166   Bilgisayar Teknolojisi ve Bilişim Sistemleri           Bilişim  ...   \n",
       "\n",
       "                       first_skill                 second_skill  \\\n",
       "801                        ASP.NET              ASP.NET Web Api   \n",
       "1564               Adobe Photoshop               Genel Muhasebe   \n",
       "802                        ASP.NET              ASP.NET Web Api   \n",
       "219                        AutoCAD  Cari Hesap ve Finans Takibi   \n",
       "28                         AutoCAD               Genel Muhasebe   \n",
       "1263  BÜRO YÖNETİMİ VE SEKRETERLİK                     Muhasebe   \n",
       "659                     Bordrolama                     ISO 9001   \n",
       "85               Adobe Illustrator              Adobe Photoshop   \n",
       "1355                         Src 2                        Src 4   \n",
       "253                Adobe Photoshop               Genel Muhasebe   \n",
       "717            Android Programlama  Android Uygulama Geliştirme   \n",
       "1104               Adobe Photoshop                          CRM   \n",
       "1552                       ADO.NET                      ASP.NET   \n",
       "314              Adobe Illustrator              Adobe Photoshop   \n",
       "166                             C#                         DHCP   \n",
       "\n",
       "               third_skill                      fourth_skill  \\\n",
       "801                      C                                C#   \n",
       "1564              Muhasebe                                 0   \n",
       "802                     C#                               CSS   \n",
       "219   Pazarlama Stratejisi                        Saha Satış   \n",
       "28                Muhasebe                    Satış Yönetimi   \n",
       "1263           Ön Muhasebe                                 0   \n",
       "659          ISO 9001:2000      İç Tetkik Eğitim Sertifikası   \n",
       "85             Bootstrap 4                                C#   \n",
       "1355                  SRC4                                 0   \n",
       "253               Muhasebe                                 0   \n",
       "717                      C                                C#   \n",
       "1104     Dijital Pazarlama                         Marketing   \n",
       "1552                     C                                C#   \n",
       "314      Dijital Pazarlama  Google Adwords Kampanya Yönetimi   \n",
       "166                    DNS                          Firewall   \n",
       "\n",
       "                           fiveth_skill number_of_entries  job_advertisement  \\\n",
       "801                                 C++                164               938   \n",
       "1564                                  0                731               930   \n",
       "802                                CSS3                147               916   \n",
       "219                                 SAP                 75               905   \n",
       "28                                    0                233               892   \n",
       "1263                                  0                590               877   \n",
       "659                    İnsan Kaynakları                749               875   \n",
       "85                                  CSS                 31               874   \n",
       "1355                                  0                841               820   \n",
       "253                                   0                396               819   \n",
       "717                                 C++                114               801   \n",
       "1104  MRP1 (Malzeme İhtiyaç Planlaması)                177               797   \n",
       "1552                                C++                 61               692   \n",
       "314                    Google Analytics                156               686   \n",
       "166                                HTML                131               657   \n",
       "\n",
       "     total_participants male_percentage female_percentage  \n",
       "801                1519              85                15  \n",
       "1564              37954              14                86  \n",
       "802                 908              88                12  \n",
       "219                3718              87                13  \n",
       "28                22220              64                36  \n",
       "1263              66280               6                94  \n",
       "659                8123              23                77  \n",
       "85                  630              82                18  \n",
       "1355              45957              91                 9  \n",
       "253               21259              28                72  \n",
       "717                 955              79                21  \n",
       "1104               3651              46                54  \n",
       "1552                453              65                35  \n",
       "314                 924              52                48  \n",
       "166                2126              91                10  \n",
       "\n",
       "[15 rows x 29 columns]"
      ]
     },
     "execution_count": 8,
     "metadata": {},
     "output_type": "execute_result"
    }
   ],
   "source": [
    "sorted_job_adv = df.sort_values('job_advertisement', ascending=False)\n",
    "sorted_job_adv.head(15)"
   ]
  },
  {
   "cell_type": "code",
   "execution_count": 9,
   "metadata": {},
   "outputs": [
    {
     "data": {
      "application/vnd.plotly.v1+json": {
       "config": {
        "plotlyServerURL": "https://plotly.com"
       },
       "data": [
        {
         "alignmentgroup": "True",
         "hovertemplate": " Professions=%{x}<br>Job Advertisements=%{y}<extra></extra>",
         "legendgroup": "",
         "marker": {
          "color": "blue"
         },
         "name": "",
         "offsetgroup": "",
         "orientation": "v",
         "showlegend": false,
         "textposition": "auto",
         "type": "bar",
         "x": [
          "Kıdemli Yazılım Mühendisi",
          "Yönetici Asistanı",
          "Kıdemli Yazılım Uzmanı",
          "Bölge Satış Temsilcisi",
          "Aktif Satış Temsilcisi",
          "Sekreter",
          "İnsan Kaynakları Uzmanı",
          "Arayüz Yazılım Uzmanı",
          "Şoför / Sürücü",
          "Çağrı Merkezi Elemanı",
          "Java Yazılım Mühendisi",
          "Pazarlama Uzmanı",
          "Yazılım Uzman Yardımcısı",
          "Dijital Pazarlama Uzmanı",
          "Bilgi İşlem Uzmanı"
         ],
         "xaxis": "x",
         "y": [
          938,
          930,
          916,
          905,
          892,
          877,
          875,
          874,
          820,
          819,
          801,
          797,
          692,
          686,
          657
         ],
         "yaxis": "y"
        }
       ],
       "layout": {
        "barmode": "relative",
        "height": 500,
        "legend": {
         "tracegroupgap": 0
        },
        "showlegend": false,
        "template": {
         "data": {
          "bar": [
           {
            "error_x": {
             "color": "#2a3f5f"
            },
            "error_y": {
             "color": "#2a3f5f"
            },
            "marker": {
             "line": {
              "color": "#E5ECF6",
              "width": 0.5
             }
            },
            "type": "bar"
           }
          ],
          "barpolar": [
           {
            "marker": {
             "line": {
              "color": "#E5ECF6",
              "width": 0.5
             }
            },
            "type": "barpolar"
           }
          ],
          "carpet": [
           {
            "aaxis": {
             "endlinecolor": "#2a3f5f",
             "gridcolor": "white",
             "linecolor": "white",
             "minorgridcolor": "white",
             "startlinecolor": "#2a3f5f"
            },
            "baxis": {
             "endlinecolor": "#2a3f5f",
             "gridcolor": "white",
             "linecolor": "white",
             "minorgridcolor": "white",
             "startlinecolor": "#2a3f5f"
            },
            "type": "carpet"
           }
          ],
          "choropleth": [
           {
            "colorbar": {
             "outlinewidth": 0,
             "ticks": ""
            },
            "type": "choropleth"
           }
          ],
          "contour": [
           {
            "colorbar": {
             "outlinewidth": 0,
             "ticks": ""
            },
            "colorscale": [
             [
              0,
              "#0d0887"
             ],
             [
              0.1111111111111111,
              "#46039f"
             ],
             [
              0.2222222222222222,
              "#7201a8"
             ],
             [
              0.3333333333333333,
              "#9c179e"
             ],
             [
              0.4444444444444444,
              "#bd3786"
             ],
             [
              0.5555555555555556,
              "#d8576b"
             ],
             [
              0.6666666666666666,
              "#ed7953"
             ],
             [
              0.7777777777777778,
              "#fb9f3a"
             ],
             [
              0.8888888888888888,
              "#fdca26"
             ],
             [
              1,
              "#f0f921"
             ]
            ],
            "type": "contour"
           }
          ],
          "contourcarpet": [
           {
            "colorbar": {
             "outlinewidth": 0,
             "ticks": ""
            },
            "type": "contourcarpet"
           }
          ],
          "heatmap": [
           {
            "colorbar": {
             "outlinewidth": 0,
             "ticks": ""
            },
            "colorscale": [
             [
              0,
              "#0d0887"
             ],
             [
              0.1111111111111111,
              "#46039f"
             ],
             [
              0.2222222222222222,
              "#7201a8"
             ],
             [
              0.3333333333333333,
              "#9c179e"
             ],
             [
              0.4444444444444444,
              "#bd3786"
             ],
             [
              0.5555555555555556,
              "#d8576b"
             ],
             [
              0.6666666666666666,
              "#ed7953"
             ],
             [
              0.7777777777777778,
              "#fb9f3a"
             ],
             [
              0.8888888888888888,
              "#fdca26"
             ],
             [
              1,
              "#f0f921"
             ]
            ],
            "type": "heatmap"
           }
          ],
          "heatmapgl": [
           {
            "colorbar": {
             "outlinewidth": 0,
             "ticks": ""
            },
            "colorscale": [
             [
              0,
              "#0d0887"
             ],
             [
              0.1111111111111111,
              "#46039f"
             ],
             [
              0.2222222222222222,
              "#7201a8"
             ],
             [
              0.3333333333333333,
              "#9c179e"
             ],
             [
              0.4444444444444444,
              "#bd3786"
             ],
             [
              0.5555555555555556,
              "#d8576b"
             ],
             [
              0.6666666666666666,
              "#ed7953"
             ],
             [
              0.7777777777777778,
              "#fb9f3a"
             ],
             [
              0.8888888888888888,
              "#fdca26"
             ],
             [
              1,
              "#f0f921"
             ]
            ],
            "type": "heatmapgl"
           }
          ],
          "histogram": [
           {
            "marker": {
             "colorbar": {
              "outlinewidth": 0,
              "ticks": ""
             }
            },
            "type": "histogram"
           }
          ],
          "histogram2d": [
           {
            "colorbar": {
             "outlinewidth": 0,
             "ticks": ""
            },
            "colorscale": [
             [
              0,
              "#0d0887"
             ],
             [
              0.1111111111111111,
              "#46039f"
             ],
             [
              0.2222222222222222,
              "#7201a8"
             ],
             [
              0.3333333333333333,
              "#9c179e"
             ],
             [
              0.4444444444444444,
              "#bd3786"
             ],
             [
              0.5555555555555556,
              "#d8576b"
             ],
             [
              0.6666666666666666,
              "#ed7953"
             ],
             [
              0.7777777777777778,
              "#fb9f3a"
             ],
             [
              0.8888888888888888,
              "#fdca26"
             ],
             [
              1,
              "#f0f921"
             ]
            ],
            "type": "histogram2d"
           }
          ],
          "histogram2dcontour": [
           {
            "colorbar": {
             "outlinewidth": 0,
             "ticks": ""
            },
            "colorscale": [
             [
              0,
              "#0d0887"
             ],
             [
              0.1111111111111111,
              "#46039f"
             ],
             [
              0.2222222222222222,
              "#7201a8"
             ],
             [
              0.3333333333333333,
              "#9c179e"
             ],
             [
              0.4444444444444444,
              "#bd3786"
             ],
             [
              0.5555555555555556,
              "#d8576b"
             ],
             [
              0.6666666666666666,
              "#ed7953"
             ],
             [
              0.7777777777777778,
              "#fb9f3a"
             ],
             [
              0.8888888888888888,
              "#fdca26"
             ],
             [
              1,
              "#f0f921"
             ]
            ],
            "type": "histogram2dcontour"
           }
          ],
          "mesh3d": [
           {
            "colorbar": {
             "outlinewidth": 0,
             "ticks": ""
            },
            "type": "mesh3d"
           }
          ],
          "parcoords": [
           {
            "line": {
             "colorbar": {
              "outlinewidth": 0,
              "ticks": ""
             }
            },
            "type": "parcoords"
           }
          ],
          "pie": [
           {
            "automargin": true,
            "type": "pie"
           }
          ],
          "scatter": [
           {
            "marker": {
             "colorbar": {
              "outlinewidth": 0,
              "ticks": ""
             }
            },
            "type": "scatter"
           }
          ],
          "scatter3d": [
           {
            "line": {
             "colorbar": {
              "outlinewidth": 0,
              "ticks": ""
             }
            },
            "marker": {
             "colorbar": {
              "outlinewidth": 0,
              "ticks": ""
             }
            },
            "type": "scatter3d"
           }
          ],
          "scattercarpet": [
           {
            "marker": {
             "colorbar": {
              "outlinewidth": 0,
              "ticks": ""
             }
            },
            "type": "scattercarpet"
           }
          ],
          "scattergeo": [
           {
            "marker": {
             "colorbar": {
              "outlinewidth": 0,
              "ticks": ""
             }
            },
            "type": "scattergeo"
           }
          ],
          "scattergl": [
           {
            "marker": {
             "colorbar": {
              "outlinewidth": 0,
              "ticks": ""
             }
            },
            "type": "scattergl"
           }
          ],
          "scattermapbox": [
           {
            "marker": {
             "colorbar": {
              "outlinewidth": 0,
              "ticks": ""
             }
            },
            "type": "scattermapbox"
           }
          ],
          "scatterpolar": [
           {
            "marker": {
             "colorbar": {
              "outlinewidth": 0,
              "ticks": ""
             }
            },
            "type": "scatterpolar"
           }
          ],
          "scatterpolargl": [
           {
            "marker": {
             "colorbar": {
              "outlinewidth": 0,
              "ticks": ""
             }
            },
            "type": "scatterpolargl"
           }
          ],
          "scatterternary": [
           {
            "marker": {
             "colorbar": {
              "outlinewidth": 0,
              "ticks": ""
             }
            },
            "type": "scatterternary"
           }
          ],
          "surface": [
           {
            "colorbar": {
             "outlinewidth": 0,
             "ticks": ""
            },
            "colorscale": [
             [
              0,
              "#0d0887"
             ],
             [
              0.1111111111111111,
              "#46039f"
             ],
             [
              0.2222222222222222,
              "#7201a8"
             ],
             [
              0.3333333333333333,
              "#9c179e"
             ],
             [
              0.4444444444444444,
              "#bd3786"
             ],
             [
              0.5555555555555556,
              "#d8576b"
             ],
             [
              0.6666666666666666,
              "#ed7953"
             ],
             [
              0.7777777777777778,
              "#fb9f3a"
             ],
             [
              0.8888888888888888,
              "#fdca26"
             ],
             [
              1,
              "#f0f921"
             ]
            ],
            "type": "surface"
           }
          ],
          "table": [
           {
            "cells": {
             "fill": {
              "color": "#EBF0F8"
             },
             "line": {
              "color": "white"
             }
            },
            "header": {
             "fill": {
              "color": "#C8D4E3"
             },
             "line": {
              "color": "white"
             }
            },
            "type": "table"
           }
          ]
         },
         "layout": {
          "annotationdefaults": {
           "arrowcolor": "#2a3f5f",
           "arrowhead": 0,
           "arrowwidth": 1
          },
          "coloraxis": {
           "colorbar": {
            "outlinewidth": 0,
            "ticks": ""
           }
          },
          "colorscale": {
           "diverging": [
            [
             0,
             "#8e0152"
            ],
            [
             0.1,
             "#c51b7d"
            ],
            [
             0.2,
             "#de77ae"
            ],
            [
             0.3,
             "#f1b6da"
            ],
            [
             0.4,
             "#fde0ef"
            ],
            [
             0.5,
             "#f7f7f7"
            ],
            [
             0.6,
             "#e6f5d0"
            ],
            [
             0.7,
             "#b8e186"
            ],
            [
             0.8,
             "#7fbc41"
            ],
            [
             0.9,
             "#4d9221"
            ],
            [
             1,
             "#276419"
            ]
           ],
           "sequential": [
            [
             0,
             "#0d0887"
            ],
            [
             0.1111111111111111,
             "#46039f"
            ],
            [
             0.2222222222222222,
             "#7201a8"
            ],
            [
             0.3333333333333333,
             "#9c179e"
            ],
            [
             0.4444444444444444,
             "#bd3786"
            ],
            [
             0.5555555555555556,
             "#d8576b"
            ],
            [
             0.6666666666666666,
             "#ed7953"
            ],
            [
             0.7777777777777778,
             "#fb9f3a"
            ],
            [
             0.8888888888888888,
             "#fdca26"
            ],
            [
             1,
             "#f0f921"
            ]
           ],
           "sequentialminus": [
            [
             0,
             "#0d0887"
            ],
            [
             0.1111111111111111,
             "#46039f"
            ],
            [
             0.2222222222222222,
             "#7201a8"
            ],
            [
             0.3333333333333333,
             "#9c179e"
            ],
            [
             0.4444444444444444,
             "#bd3786"
            ],
            [
             0.5555555555555556,
             "#d8576b"
            ],
            [
             0.6666666666666666,
             "#ed7953"
            ],
            [
             0.7777777777777778,
             "#fb9f3a"
            ],
            [
             0.8888888888888888,
             "#fdca26"
            ],
            [
             1,
             "#f0f921"
            ]
           ]
          },
          "colorway": [
           "#636efa",
           "#EF553B",
           "#00cc96",
           "#ab63fa",
           "#FFA15A",
           "#19d3f3",
           "#FF6692",
           "#B6E880",
           "#FF97FF",
           "#FECB52"
          ],
          "font": {
           "color": "#2a3f5f"
          },
          "geo": {
           "bgcolor": "white",
           "lakecolor": "white",
           "landcolor": "#E5ECF6",
           "showlakes": true,
           "showland": true,
           "subunitcolor": "white"
          },
          "hoverlabel": {
           "align": "left"
          },
          "hovermode": "closest",
          "mapbox": {
           "style": "light"
          },
          "paper_bgcolor": "white",
          "plot_bgcolor": "#E5ECF6",
          "polar": {
           "angularaxis": {
            "gridcolor": "white",
            "linecolor": "white",
            "ticks": ""
           },
           "bgcolor": "#E5ECF6",
           "radialaxis": {
            "gridcolor": "white",
            "linecolor": "white",
            "ticks": ""
           }
          },
          "scene": {
           "xaxis": {
            "backgroundcolor": "#E5ECF6",
            "gridcolor": "white",
            "gridwidth": 2,
            "linecolor": "white",
            "showbackground": true,
            "ticks": "",
            "zerolinecolor": "white"
           },
           "yaxis": {
            "backgroundcolor": "#E5ECF6",
            "gridcolor": "white",
            "gridwidth": 2,
            "linecolor": "white",
            "showbackground": true,
            "ticks": "",
            "zerolinecolor": "white"
           },
           "zaxis": {
            "backgroundcolor": "#E5ECF6",
            "gridcolor": "white",
            "gridwidth": 2,
            "linecolor": "white",
            "showbackground": true,
            "ticks": "",
            "zerolinecolor": "white"
           }
          },
          "shapedefaults": {
           "line": {
            "color": "#2a3f5f"
           }
          },
          "ternary": {
           "aaxis": {
            "gridcolor": "white",
            "linecolor": "white",
            "ticks": ""
           },
           "baxis": {
            "gridcolor": "white",
            "linecolor": "white",
            "ticks": ""
           },
           "bgcolor": "#E5ECF6",
           "caxis": {
            "gridcolor": "white",
            "linecolor": "white",
            "ticks": ""
           }
          },
          "title": {
           "x": 0.05
          },
          "xaxis": {
           "automargin": true,
           "gridcolor": "white",
           "linecolor": "white",
           "ticks": "",
           "title": {
            "standoff": 15
           },
           "zerolinecolor": "white",
           "zerolinewidth": 2
          },
          "yaxis": {
           "automargin": true,
           "gridcolor": "white",
           "linecolor": "white",
           "ticks": "",
           "title": {
            "standoff": 15
           },
           "zerolinecolor": "white",
           "zerolinewidth": 2
          }
         }
        },
        "title": {
         "text": "Top 15 most wanted professions"
        },
        "width": 800,
        "xaxis": {
         "anchor": "y",
         "domain": [
          0,
          1
         ],
         "title": {
          "text": " Professions"
         }
        },
        "yaxis": {
         "anchor": "x",
         "domain": [
          0,
          1
         ],
         "title": {
          "text": "Job Advertisements"
         }
        }
       }
      },
      "text/html": [
       "<div>\n",
       "        \n",
       "        \n",
       "            <div id=\"13c1f0f7-cdeb-4ec6-9899-19d2a96d0058\" class=\"plotly-graph-div\" style=\"height:500px; width:800px;\"></div>\n",
       "            <script type=\"text/javascript\">\n",
       "                require([\"plotly\"], function(Plotly) {\n",
       "                    window.PLOTLYENV=window.PLOTLYENV || {};\n",
       "                    \n",
       "                if (document.getElementById(\"13c1f0f7-cdeb-4ec6-9899-19d2a96d0058\")) {\n",
       "                    Plotly.newPlot(\n",
       "                        '13c1f0f7-cdeb-4ec6-9899-19d2a96d0058',\n",
       "                        [{\"alignmentgroup\": \"True\", \"hovertemplate\": \" Professions=%{x}<br>Job Advertisements=%{y}<extra></extra>\", \"legendgroup\": \"\", \"marker\": {\"color\": \"blue\"}, \"name\": \"\", \"offsetgroup\": \"\", \"orientation\": \"v\", \"showlegend\": false, \"textposition\": \"auto\", \"type\": \"bar\", \"x\": [\"K\\u0131demli Yaz\\u0131l\\u0131m M\\u00fchendisi\", \"Y\\u00f6netici Asistan\\u0131\", \"K\\u0131demli Yaz\\u0131l\\u0131m Uzman\\u0131\", \"B\\u00f6lge Sat\\u0131\\u015f Temsilcisi\", \"Aktif Sat\\u0131\\u015f Temsilcisi\", \"Sekreter\", \"\\u0130nsan Kaynaklar\\u0131 Uzman\\u0131\", \"Aray\\u00fcz Yaz\\u0131l\\u0131m Uzman\\u0131\", \"\\u015eof\\u00f6r / S\\u00fcr\\u00fcc\\u00fc\", \"\\u00c7a\\u011fr\\u0131 Merkezi Eleman\\u0131\", \"Java Yaz\\u0131l\\u0131m M\\u00fchendisi\", \"Pazarlama Uzman\\u0131\", \"Yaz\\u0131l\\u0131m Uzman Yard\\u0131mc\\u0131s\\u0131\", \"Dijital Pazarlama Uzman\\u0131\", \"Bilgi \\u0130\\u015flem Uzman\\u0131\"], \"xaxis\": \"x\", \"y\": [938, 930, 916, 905, 892, 877, 875, 874, 820, 819, 801, 797, 692, 686, 657], \"yaxis\": \"y\"}],\n",
       "                        {\"barmode\": \"relative\", \"height\": 500, \"legend\": {\"tracegroupgap\": 0}, \"showlegend\": false, \"template\": {\"data\": {\"bar\": [{\"error_x\": {\"color\": \"#2a3f5f\"}, \"error_y\": {\"color\": \"#2a3f5f\"}, \"marker\": {\"line\": {\"color\": \"#E5ECF6\", \"width\": 0.5}}, \"type\": \"bar\"}], \"barpolar\": [{\"marker\": {\"line\": {\"color\": \"#E5ECF6\", \"width\": 0.5}}, \"type\": \"barpolar\"}], \"carpet\": [{\"aaxis\": {\"endlinecolor\": \"#2a3f5f\", \"gridcolor\": \"white\", \"linecolor\": \"white\", \"minorgridcolor\": \"white\", \"startlinecolor\": \"#2a3f5f\"}, \"baxis\": {\"endlinecolor\": \"#2a3f5f\", \"gridcolor\": \"white\", \"linecolor\": \"white\", \"minorgridcolor\": \"white\", \"startlinecolor\": \"#2a3f5f\"}, \"type\": \"carpet\"}], \"choropleth\": [{\"colorbar\": {\"outlinewidth\": 0, \"ticks\": \"\"}, \"type\": \"choropleth\"}], \"contour\": [{\"colorbar\": {\"outlinewidth\": 0, \"ticks\": \"\"}, \"colorscale\": [[0.0, \"#0d0887\"], [0.1111111111111111, \"#46039f\"], [0.2222222222222222, \"#7201a8\"], [0.3333333333333333, \"#9c179e\"], [0.4444444444444444, \"#bd3786\"], [0.5555555555555556, \"#d8576b\"], [0.6666666666666666, \"#ed7953\"], [0.7777777777777778, \"#fb9f3a\"], [0.8888888888888888, \"#fdca26\"], [1.0, \"#f0f921\"]], \"type\": \"contour\"}], \"contourcarpet\": [{\"colorbar\": {\"outlinewidth\": 0, \"ticks\": \"\"}, \"type\": \"contourcarpet\"}], \"heatmap\": [{\"colorbar\": {\"outlinewidth\": 0, \"ticks\": \"\"}, \"colorscale\": [[0.0, \"#0d0887\"], [0.1111111111111111, \"#46039f\"], [0.2222222222222222, \"#7201a8\"], [0.3333333333333333, \"#9c179e\"], [0.4444444444444444, \"#bd3786\"], [0.5555555555555556, \"#d8576b\"], [0.6666666666666666, \"#ed7953\"], [0.7777777777777778, \"#fb9f3a\"], [0.8888888888888888, \"#fdca26\"], [1.0, \"#f0f921\"]], \"type\": \"heatmap\"}], \"heatmapgl\": [{\"colorbar\": {\"outlinewidth\": 0, \"ticks\": \"\"}, \"colorscale\": [[0.0, \"#0d0887\"], [0.1111111111111111, \"#46039f\"], [0.2222222222222222, \"#7201a8\"], [0.3333333333333333, \"#9c179e\"], [0.4444444444444444, \"#bd3786\"], [0.5555555555555556, \"#d8576b\"], [0.6666666666666666, \"#ed7953\"], [0.7777777777777778, \"#fb9f3a\"], [0.8888888888888888, \"#fdca26\"], [1.0, \"#f0f921\"]], \"type\": \"heatmapgl\"}], \"histogram\": [{\"marker\": {\"colorbar\": {\"outlinewidth\": 0, \"ticks\": \"\"}}, \"type\": \"histogram\"}], \"histogram2d\": [{\"colorbar\": {\"outlinewidth\": 0, \"ticks\": \"\"}, \"colorscale\": [[0.0, \"#0d0887\"], [0.1111111111111111, \"#46039f\"], [0.2222222222222222, \"#7201a8\"], [0.3333333333333333, \"#9c179e\"], [0.4444444444444444, \"#bd3786\"], [0.5555555555555556, \"#d8576b\"], [0.6666666666666666, \"#ed7953\"], [0.7777777777777778, \"#fb9f3a\"], [0.8888888888888888, \"#fdca26\"], [1.0, \"#f0f921\"]], \"type\": \"histogram2d\"}], \"histogram2dcontour\": [{\"colorbar\": {\"outlinewidth\": 0, \"ticks\": \"\"}, \"colorscale\": [[0.0, \"#0d0887\"], [0.1111111111111111, \"#46039f\"], [0.2222222222222222, \"#7201a8\"], [0.3333333333333333, \"#9c179e\"], [0.4444444444444444, \"#bd3786\"], [0.5555555555555556, \"#d8576b\"], [0.6666666666666666, \"#ed7953\"], [0.7777777777777778, \"#fb9f3a\"], [0.8888888888888888, \"#fdca26\"], [1.0, \"#f0f921\"]], \"type\": \"histogram2dcontour\"}], \"mesh3d\": [{\"colorbar\": {\"outlinewidth\": 0, \"ticks\": \"\"}, \"type\": \"mesh3d\"}], \"parcoords\": [{\"line\": {\"colorbar\": {\"outlinewidth\": 0, \"ticks\": \"\"}}, \"type\": \"parcoords\"}], \"pie\": [{\"automargin\": true, \"type\": \"pie\"}], \"scatter\": [{\"marker\": {\"colorbar\": {\"outlinewidth\": 0, \"ticks\": \"\"}}, \"type\": \"scatter\"}], \"scatter3d\": [{\"line\": {\"colorbar\": {\"outlinewidth\": 0, \"ticks\": \"\"}}, \"marker\": {\"colorbar\": {\"outlinewidth\": 0, \"ticks\": \"\"}}, \"type\": \"scatter3d\"}], \"scattercarpet\": [{\"marker\": {\"colorbar\": {\"outlinewidth\": 0, \"ticks\": \"\"}}, \"type\": \"scattercarpet\"}], \"scattergeo\": [{\"marker\": {\"colorbar\": {\"outlinewidth\": 0, \"ticks\": \"\"}}, \"type\": \"scattergeo\"}], \"scattergl\": [{\"marker\": {\"colorbar\": {\"outlinewidth\": 0, \"ticks\": \"\"}}, \"type\": \"scattergl\"}], \"scattermapbox\": [{\"marker\": {\"colorbar\": {\"outlinewidth\": 0, \"ticks\": \"\"}}, \"type\": \"scattermapbox\"}], \"scatterpolar\": [{\"marker\": {\"colorbar\": {\"outlinewidth\": 0, \"ticks\": \"\"}}, \"type\": \"scatterpolar\"}], \"scatterpolargl\": [{\"marker\": {\"colorbar\": {\"outlinewidth\": 0, \"ticks\": \"\"}}, \"type\": \"scatterpolargl\"}], \"scatterternary\": [{\"marker\": {\"colorbar\": {\"outlinewidth\": 0, \"ticks\": \"\"}}, \"type\": \"scatterternary\"}], \"surface\": [{\"colorbar\": {\"outlinewidth\": 0, \"ticks\": \"\"}, \"colorscale\": [[0.0, \"#0d0887\"], [0.1111111111111111, \"#46039f\"], [0.2222222222222222, \"#7201a8\"], [0.3333333333333333, \"#9c179e\"], [0.4444444444444444, \"#bd3786\"], [0.5555555555555556, \"#d8576b\"], [0.6666666666666666, \"#ed7953\"], [0.7777777777777778, \"#fb9f3a\"], [0.8888888888888888, \"#fdca26\"], [1.0, \"#f0f921\"]], \"type\": \"surface\"}], \"table\": [{\"cells\": {\"fill\": {\"color\": \"#EBF0F8\"}, \"line\": {\"color\": \"white\"}}, \"header\": {\"fill\": {\"color\": \"#C8D4E3\"}, \"line\": {\"color\": \"white\"}}, \"type\": \"table\"}]}, \"layout\": {\"annotationdefaults\": {\"arrowcolor\": \"#2a3f5f\", \"arrowhead\": 0, \"arrowwidth\": 1}, \"coloraxis\": {\"colorbar\": {\"outlinewidth\": 0, \"ticks\": \"\"}}, \"colorscale\": {\"diverging\": [[0, \"#8e0152\"], [0.1, \"#c51b7d\"], [0.2, \"#de77ae\"], [0.3, \"#f1b6da\"], [0.4, \"#fde0ef\"], [0.5, \"#f7f7f7\"], [0.6, \"#e6f5d0\"], [0.7, \"#b8e186\"], [0.8, \"#7fbc41\"], [0.9, \"#4d9221\"], [1, \"#276419\"]], \"sequential\": [[0.0, \"#0d0887\"], [0.1111111111111111, \"#46039f\"], [0.2222222222222222, \"#7201a8\"], [0.3333333333333333, \"#9c179e\"], [0.4444444444444444, \"#bd3786\"], [0.5555555555555556, \"#d8576b\"], [0.6666666666666666, \"#ed7953\"], [0.7777777777777778, \"#fb9f3a\"], [0.8888888888888888, \"#fdca26\"], [1.0, \"#f0f921\"]], \"sequentialminus\": [[0.0, \"#0d0887\"], [0.1111111111111111, \"#46039f\"], [0.2222222222222222, \"#7201a8\"], [0.3333333333333333, \"#9c179e\"], [0.4444444444444444, \"#bd3786\"], [0.5555555555555556, \"#d8576b\"], [0.6666666666666666, \"#ed7953\"], [0.7777777777777778, \"#fb9f3a\"], [0.8888888888888888, \"#fdca26\"], [1.0, \"#f0f921\"]]}, \"colorway\": [\"#636efa\", \"#EF553B\", \"#00cc96\", \"#ab63fa\", \"#FFA15A\", \"#19d3f3\", \"#FF6692\", \"#B6E880\", \"#FF97FF\", \"#FECB52\"], \"font\": {\"color\": \"#2a3f5f\"}, \"geo\": {\"bgcolor\": \"white\", \"lakecolor\": \"white\", \"landcolor\": \"#E5ECF6\", \"showlakes\": true, \"showland\": true, \"subunitcolor\": \"white\"}, \"hoverlabel\": {\"align\": \"left\"}, \"hovermode\": \"closest\", \"mapbox\": {\"style\": \"light\"}, \"paper_bgcolor\": \"white\", \"plot_bgcolor\": \"#E5ECF6\", \"polar\": {\"angularaxis\": {\"gridcolor\": \"white\", \"linecolor\": \"white\", \"ticks\": \"\"}, \"bgcolor\": \"#E5ECF6\", \"radialaxis\": {\"gridcolor\": \"white\", \"linecolor\": \"white\", \"ticks\": \"\"}}, \"scene\": {\"xaxis\": {\"backgroundcolor\": \"#E5ECF6\", \"gridcolor\": \"white\", \"gridwidth\": 2, \"linecolor\": \"white\", \"showbackground\": true, \"ticks\": \"\", \"zerolinecolor\": \"white\"}, \"yaxis\": {\"backgroundcolor\": \"#E5ECF6\", \"gridcolor\": \"white\", \"gridwidth\": 2, \"linecolor\": \"white\", \"showbackground\": true, \"ticks\": \"\", \"zerolinecolor\": \"white\"}, \"zaxis\": {\"backgroundcolor\": \"#E5ECF6\", \"gridcolor\": \"white\", \"gridwidth\": 2, \"linecolor\": \"white\", \"showbackground\": true, \"ticks\": \"\", \"zerolinecolor\": \"white\"}}, \"shapedefaults\": {\"line\": {\"color\": \"#2a3f5f\"}}, \"ternary\": {\"aaxis\": {\"gridcolor\": \"white\", \"linecolor\": \"white\", \"ticks\": \"\"}, \"baxis\": {\"gridcolor\": \"white\", \"linecolor\": \"white\", \"ticks\": \"\"}, \"bgcolor\": \"#E5ECF6\", \"caxis\": {\"gridcolor\": \"white\", \"linecolor\": \"white\", \"ticks\": \"\"}}, \"title\": {\"x\": 0.05}, \"xaxis\": {\"automargin\": true, \"gridcolor\": \"white\", \"linecolor\": \"white\", \"ticks\": \"\", \"title\": {\"standoff\": 15}, \"zerolinecolor\": \"white\", \"zerolinewidth\": 2}, \"yaxis\": {\"automargin\": true, \"gridcolor\": \"white\", \"linecolor\": \"white\", \"ticks\": \"\", \"title\": {\"standoff\": 15}, \"zerolinecolor\": \"white\", \"zerolinewidth\": 2}}}, \"title\": {\"text\": \"Top 15 most wanted professions\"}, \"width\": 800, \"xaxis\": {\"anchor\": \"y\", \"domain\": [0.0, 1.0], \"title\": {\"text\": \" Professions\"}}, \"yaxis\": {\"anchor\": \"x\", \"domain\": [0.0, 1.0], \"title\": {\"text\": \"Job Advertisements\"}}},\n",
       "                        {\"responsive\": true}\n",
       "                    ).then(function(){\n",
       "                            \n",
       "var gd = document.getElementById('13c1f0f7-cdeb-4ec6-9899-19d2a96d0058');\n",
       "var x = new MutationObserver(function (mutations, observer) {{\n",
       "        var display = window.getComputedStyle(gd).display;\n",
       "        if (!display || display === 'none') {{\n",
       "            console.log([gd, 'removed!']);\n",
       "            Plotly.purge(gd);\n",
       "            observer.disconnect();\n",
       "        }}\n",
       "}});\n",
       "\n",
       "// Listen for the removal of the full notebook cells\n",
       "var notebookContainer = gd.closest('#notebook-container');\n",
       "if (notebookContainer) {{\n",
       "    x.observe(notebookContainer, {childList: true});\n",
       "}}\n",
       "\n",
       "// Listen for the clearing of the current output cell\n",
       "var outputEl = gd.closest('.output');\n",
       "if (outputEl) {{\n",
       "    x.observe(outputEl, {childList: true});\n",
       "}}\n",
       "\n",
       "                        })\n",
       "                };\n",
       "                });\n",
       "            </script>\n",
       "        </div>"
      ]
     },
     "metadata": {},
     "output_type": "display_data"
    }
   ],
   "source": [
    "px.bar(\n",
    "    sorted_job_adv.head(15),\n",
    "    x = \"job_name\",\n",
    "    y = \"job_advertisement\",\n",
    "    labels={'job_name':' Professions',\n",
    "           'job_advertisement': 'Job Advertisements'},\n",
    "    title= \"Top 15 most wanted professions\", # the axis names\n",
    "    color_discrete_sequence=[\"blue\"],\n",
    "    height=500,\n",
    "    width=800,\n",
    ").update_layout(showlegend=False)"
   ]
  },
  {
   "cell_type": "code",
   "execution_count": 10,
   "metadata": {},
   "outputs": [
    {
     "data": {
      "text/plain": [
       "<seaborn.axisgrid.PairGrid at 0x199434c0888>"
      ]
     },
     "execution_count": 10,
     "metadata": {},
     "output_type": "execute_result"
    },
    {
     "data": {
      "image/png": "[encoded data removed]",
      "text/plain": [
       "<Figure size 1440x1440 with 72 Axes>"
      ]
     },
     "metadata": {
      "needs_background": "light"
     },
     "output_type": "display_data"
    }
   ],
   "source": [
    "#to look at correlations between numeric columns\n",
    "numeric_df  = df[['mean_salary','max_salary','min_salary','total_participants','number_of_entries ','male_percentage','female_percentage','job_advertisement']]\n",
    "sb.pairplot(numeric_df)"
   ]
  },
  {
   "cell_type": "code",
   "execution_count": 11,
   "metadata": {},
   "outputs": [
    {
     "data": {
      "text/plain": [
       "AutoCAD                        423\n",
       "Adobe Photoshop                275\n",
       "Adobe Illustrator              145\n",
       "C#                             123\n",
       "Bütçe planlama ve raporlama     99\n",
       "                              ... \n",
       "Güler Yüz                        1\n",
       "Pfmea                            1\n",
       "Auto Cad                         1\n",
       "Data Warehouse                   1\n",
       "Dökümantasyon                    1\n",
       "Length: 619, dtype: int64"
      ]
     },
     "execution_count": 11,
     "metadata": {},
     "output_type": "execute_result"
    }
   ],
   "source": [
    "#concat skills columns and make them array to sum\n",
    "#there is '0' value we extract its by beginning one\n",
    "most_skill = df[['first_skill','second_skill','third_skill','fourth_skill','fiveth_skill']].values.flatten()\n",
    "most_skill = pd.value_counts(most_skill)\n",
    "most_skill = most_skill[1:]\n",
    "most_skill"
   ]
  },
  {
   "cell_type": "code",
   "execution_count": 12,
   "metadata": {},
   "outputs": [
    {
     "data": {
      "application/vnd.plotly.v1+json": {
       "config": {
        "plotlyServerURL": "https://plotly.com"
       },
       "data": [
        {
         "alignmentgroup": "True",
         "hovertemplate": "variable=0<br>Skills=%{x}<br># of skills=%{y}<extra></extra>",
         "legendgroup": "0",
         "marker": {
          "color": "black"
         },
         "name": "0",
         "offsetgroup": "0",
         "orientation": "v",
         "showlegend": true,
         "textposition": "auto",
         "type": "bar",
         "x": [
          "AutoCAD",
          "Adobe Photoshop",
          "Adobe Illustrator",
          "C#",
          "Bütçe planlama ve raporlama",
          "Genel Muhasebe",
          "İşçi Sağlığı ve İş Güvenliği",
          "C++",
          "Dijital Pazarlama",
          "Finans",
          "Cari Hesap ve Finans Takibi",
          "Elektrik/Elektronik",
          "İnsan Kaynakları Yönetimi",
          "Adobe After Effects",
          "Muhasebe"
         ],
         "xaxis": "x",
         "y": [
          423,
          275,
          145,
          123,
          99,
          92,
          86,
          76,
          76,
          67,
          67,
          66,
          64,
          63,
          63
         ],
         "yaxis": "y"
        }
       ],
       "layout": {
        "barmode": "relative",
        "height": 500,
        "legend": {
         "title": {
          "text": "variable"
         },
         "tracegroupgap": 0
        },
        "showlegend": false,
        "template": {
         "data": {
          "bar": [
           {
            "error_x": {
             "color": "#2a3f5f"
            },
            "error_y": {
             "color": "#2a3f5f"
            },
            "marker": {
             "line": {
              "color": "#E5ECF6",
              "width": 0.5
             }
            },
            "type": "bar"
           }
          ],
          "barpolar": [
           {
            "marker": {
             "line": {
              "color": "#E5ECF6",
              "width": 0.5
             }
            },
            "type": "barpolar"
           }
          ],
          "carpet": [
           {
            "aaxis": {
             "endlinecolor": "#2a3f5f",
             "gridcolor": "white",
             "linecolor": "white",
             "minorgridcolor": "white",
             "startlinecolor": "#2a3f5f"
            },
            "baxis": {
             "endlinecolor": "#2a3f5f",
             "gridcolor": "white",
             "linecolor": "white",
             "minorgridcolor": "white",
             "startlinecolor": "#2a3f5f"
            },
            "type": "carpet"
           }
          ],
          "choropleth": [
           {
            "colorbar": {
             "outlinewidth": 0,
             "ticks": ""
            },
            "type": "choropleth"
           }
          ],
          "contour": [
           {
            "colorbar": {
             "outlinewidth": 0,
             "ticks": ""
            },
            "colorscale": [
             [
              0,
              "#0d0887"
             ],
             [
              0.1111111111111111,
              "#46039f"
             ],
             [
              0.2222222222222222,
              "#7201a8"
             ],
             [
              0.3333333333333333,
              "#9c179e"
             ],
             [
              0.4444444444444444,
              "#bd3786"
             ],
             [
              0.5555555555555556,
              "#d8576b"
             ],
             [
              0.6666666666666666,
              "#ed7953"
             ],
             [
              0.7777777777777778,
              "#fb9f3a"
             ],
             [
              0.8888888888888888,
              "#fdca26"
             ],
             [
              1,
              "#f0f921"
             ]
            ],
            "type": "contour"
           }
          ],
          "contourcarpet": [
           {
            "colorbar": {
             "outlinewidth": 0,
             "ticks": ""
            },
            "type": "contourcarpet"
           }
          ],
          "heatmap": [
           {
            "colorbar": {
             "outlinewidth": 0,
             "ticks": ""
            },
            "colorscale": [
             [
              0,
              "#0d0887"
             ],
             [
              0.1111111111111111,
              "#46039f"
             ],
             [
              0.2222222222222222,
              "#7201a8"
             ],
             [
              0.3333333333333333,
              "#9c179e"
             ],
             [
              0.4444444444444444,
              "#bd3786"
             ],
             [
              0.5555555555555556,
              "#d8576b"
             ],
             [
              0.6666666666666666,
              "#ed7953"
             ],
             [
              0.7777777777777778,
              "#fb9f3a"
             ],
             [
              0.8888888888888888,
              "#fdca26"
             ],
             [
              1,
              "#f0f921"
             ]
            ],
            "type": "heatmap"
           }
          ],
          "heatmapgl": [
           {
            "colorbar": {
             "outlinewidth": 0,
             "ticks": ""
            },
            "colorscale": [
             [
              0,
              "#0d0887"
             ],
             [
              0.1111111111111111,
              "#46039f"
             ],
             [
              0.2222222222222222,
              "#7201a8"
             ],
             [
              0.3333333333333333,
              "#9c179e"
             ],
             [
              0.4444444444444444,
              "#bd3786"
             ],
             [
              0.5555555555555556,
              "#d8576b"
             ],
             [
              0.6666666666666666,
              "#ed7953"
             ],
             [
              0.7777777777777778,
              "#fb9f3a"
             ],
             [
              0.8888888888888888,
              "#fdca26"
             ],
             [
              1,
              "#f0f921"
             ]
            ],
            "type": "heatmapgl"
           }
          ],
          "histogram": [
           {
            "marker": {
             "colorbar": {
              "outlinewidth": 0,
              "ticks": ""
             }
            },
            "type": "histogram"
           }
          ],
          "histogram2d": [
           {
            "colorbar": {
             "outlinewidth": 0,
             "ticks": ""
            },
            "colorscale": [
             [
              0,
              "#0d0887"
             ],
             [
              0.1111111111111111,
              "#46039f"
             ],
             [
              0.2222222222222222,
              "#7201a8"
             ],
             [
              0.3333333333333333,
              "#9c179e"
             ],
             [
              0.4444444444444444,
              "#bd3786"
             ],
             [
              0.5555555555555556,
              "#d8576b"
             ],
             [
              0.6666666666666666,
              "#ed7953"
             ],
             [
              0.7777777777777778,
              "#fb9f3a"
             ],
             [
              0.8888888888888888,
              "#fdca26"
             ],
             [
              1,
              "#f0f921"
             ]
            ],
            "type": "histogram2d"
           }
          ],
          "histogram2dcontour": [
           {
            "colorbar": {
             "outlinewidth": 0,
             "ticks": ""
            },
            "colorscale": [
             [
              0,
              "#0d0887"
             ],
             [
              0.1111111111111111,
              "#46039f"
             ],
             [
              0.2222222222222222,
              "#7201a8"
             ],
             [
              0.3333333333333333,
              "#9c179e"
             ],
             [
              0.4444444444444444,
              "#bd3786"
             ],
             [
              0.5555555555555556,
              "#d8576b"
             ],
             [
              0.6666666666666666,
              "#ed7953"
             ],
             [
              0.7777777777777778,
              "#fb9f3a"
             ],
             [
              0.8888888888888888,
              "#fdca26"
             ],
             [
              1,
              "#f0f921"
             ]
            ],
            "type": "histogram2dcontour"
           }
          ],
          "mesh3d": [
           {
            "colorbar": {
             "outlinewidth": 0,
             "ticks": ""
            },
            "type": "mesh3d"
           }
          ],
          "parcoords": [
           {
            "line": {
             "colorbar": {
              "outlinewidth": 0,
              "ticks": ""
             }
            },
            "type": "parcoords"
           }
          ],
          "pie": [
           {
            "automargin": true,
            "type": "pie"
           }
          ],
          "scatter": [
           {
            "marker": {
             "colorbar": {
              "outlinewidth": 0,
              "ticks": ""
             }
            },
            "type": "scatter"
           }
          ],
          "scatter3d": [
           {
            "line": {
             "colorbar": {
              "outlinewidth": 0,
              "ticks": ""
             }
            },
            "marker": {
             "colorbar": {
              "outlinewidth": 0,
              "ticks": ""
             }
            },
            "type": "scatter3d"
           }
          ],
          "scattercarpet": [
           {
            "marker": {
             "colorbar": {
              "outlinewidth": 0,
              "ticks": ""
             }
            },
            "type": "scattercarpet"
           }
          ],
          "scattergeo": [
           {
            "marker": {
             "colorbar": {
              "outlinewidth": 0,
              "ticks": ""
             }
            },
            "type": "scattergeo"
           }
          ],
          "scattergl": [
           {
            "marker": {
             "colorbar": {
              "outlinewidth": 0,
              "ticks": ""
             }
            },
            "type": "scattergl"
           }
          ],
          "scattermapbox": [
           {
            "marker": {
             "colorbar": {
              "outlinewidth": 0,
              "ticks": ""
             }
            },
            "type": "scattermapbox"
           }
          ],
          "scatterpolar": [
           {
            "marker": {
             "colorbar": {
              "outlinewidth": 0,
              "ticks": ""
             }
            },
            "type": "scatterpolar"
           }
          ],
          "scatterpolargl": [
           {
            "marker": {
             "colorbar": {
              "outlinewidth": 0,
              "ticks": ""
             }
            },
            "type": "scatterpolargl"
           }
          ],
          "scatterternary": [
           {
            "marker": {
             "colorbar": {
              "outlinewidth": 0,
              "ticks": ""
             }
            },
            "type": "scatterternary"
           }
          ],
          "surface": [
           {
            "colorbar": {
             "outlinewidth": 0,
             "ticks": ""
            },
            "colorscale": [
             [
              0,
              "#0d0887"
             ],
             [
              0.1111111111111111,
              "#46039f"
             ],
             [
              0.2222222222222222,
              "#7201a8"
             ],
             [
              0.3333333333333333,
              "#9c179e"
             ],
             [
              0.4444444444444444,
              "#bd3786"
             ],
             [
              0.5555555555555556,
              "#d8576b"
             ],
             [
              0.6666666666666666,
              "#ed7953"
             ],
             [
              0.7777777777777778,
              "#fb9f3a"
             ],
             [
              0.8888888888888888,
              "#fdca26"
             ],
             [
              1,
              "#f0f921"
             ]
            ],
            "type": "surface"
           }
          ],
          "table": [
           {
            "cells": {
             "fill": {
              "color": "#EBF0F8"
             },
             "line": {
              "color": "white"
             }
            },
            "header": {
             "fill": {
              "color": "#C8D4E3"
             },
             "line": {
              "color": "white"
             }
            },
            "type": "table"
           }
          ]
         },
         "layout": {
          "annotationdefaults": {
           "arrowcolor": "#2a3f5f",
           "arrowhead": 0,
           "arrowwidth": 1
          },
          "coloraxis": {
           "colorbar": {
            "outlinewidth": 0,
            "ticks": ""
           }
          },
          "colorscale": {
           "diverging": [
            [
             0,
             "#8e0152"
            ],
            [
             0.1,
             "#c51b7d"
            ],
            [
             0.2,
             "#de77ae"
            ],
            [
             0.3,
             "#f1b6da"
            ],
            [
             0.4,
             "#fde0ef"
            ],
            [
             0.5,
             "#f7f7f7"
            ],
            [
             0.6,
             "#e6f5d0"
            ],
            [
             0.7,
             "#b8e186"
            ],
            [
             0.8,
             "#7fbc41"
            ],
            [
             0.9,
             "#4d9221"
            ],
            [
             1,
             "#276419"
            ]
           ],
           "sequential": [
            [
             0,
             "#0d0887"
            ],
            [
             0.1111111111111111,
             "#46039f"
            ],
            [
             0.2222222222222222,
             "#7201a8"
            ],
            [
             0.3333333333333333,
             "#9c179e"
            ],
            [
             0.4444444444444444,
             "#bd3786"
            ],
            [
             0.5555555555555556,
             "#d8576b"
            ],
            [
             0.6666666666666666,
             "#ed7953"
            ],
            [
             0.7777777777777778,
             "#fb9f3a"
            ],
            [
             0.8888888888888888,
             "#fdca26"
            ],
            [
             1,
             "#f0f921"
            ]
           ],
           "sequentialminus": [
            [
             0,
             "#0d0887"
            ],
            [
             0.1111111111111111,
             "#46039f"
            ],
            [
             0.2222222222222222,
             "#7201a8"
            ],
            [
             0.3333333333333333,
             "#9c179e"
            ],
            [
             0.4444444444444444,
             "#bd3786"
            ],
            [
             0.5555555555555556,
             "#d8576b"
            ],
            [
             0.6666666666666666,
             "#ed7953"
            ],
            [
             0.7777777777777778,
             "#fb9f3a"
            ],
            [
             0.8888888888888888,
             "#fdca26"
            ],
            [
             1,
             "#f0f921"
            ]
           ]
          },
          "colorway": [
           "#636efa",
           "#EF553B",
           "#00cc96",
           "#ab63fa",
           "#FFA15A",
           "#19d3f3",
           "#FF6692",
           "#B6E880",
           "#FF97FF",
           "#FECB52"
          ],
          "font": {
           "color": "#2a3f5f"
          },
          "geo": {
           "bgcolor": "white",
           "lakecolor": "white",
           "landcolor": "#E5ECF6",
           "showlakes": true,
           "showland": true,
           "subunitcolor": "white"
          },
          "hoverlabel": {
           "align": "left"
          },
          "hovermode": "closest",
          "mapbox": {
           "style": "light"
          },
          "paper_bgcolor": "white",
          "plot_bgcolor": "#E5ECF6",
          "polar": {
           "angularaxis": {
            "gridcolor": "white",
            "linecolor": "white",
            "ticks": ""
           },
           "bgcolor": "#E5ECF6",
           "radialaxis": {
            "gridcolor": "white",
            "linecolor": "white",
            "ticks": ""
           }
          },
          "scene": {
           "xaxis": {
            "backgroundcolor": "#E5ECF6",
            "gridcolor": "white",
            "gridwidth": 2,
            "linecolor": "white",
            "showbackground": true,
            "ticks": "",
            "zerolinecolor": "white"
           },
           "yaxis": {
            "backgroundcolor": "#E5ECF6",
            "gridcolor": "white",
            "gridwidth": 2,
            "linecolor": "white",
            "showbackground": true,
            "ticks": "",
            "zerolinecolor": "white"
           },
           "zaxis": {
            "backgroundcolor": "#E5ECF6",
            "gridcolor": "white",
            "gridwidth": 2,
            "linecolor": "white",
            "showbackground": true,
            "ticks": "",
            "zerolinecolor": "white"
           }
          },
          "shapedefaults": {
           "line": {
            "color": "#2a3f5f"
           }
          },
          "ternary": {
           "aaxis": {
            "gridcolor": "white",
            "linecolor": "white",
            "ticks": ""
           },
           "baxis": {
            "gridcolor": "white",
            "linecolor": "white",
            "ticks": ""
           },
           "bgcolor": "#E5ECF6",
           "caxis": {
            "gridcolor": "white",
            "linecolor": "white",
            "ticks": ""
           }
          },
          "title": {
           "x": 0.05
          },
          "xaxis": {
           "automargin": true,
           "gridcolor": "white",
           "linecolor": "white",
           "ticks": "",
           "title": {
            "standoff": 15
           },
           "zerolinecolor": "white",
           "zerolinewidth": 2
          },
          "yaxis": {
           "automargin": true,
           "gridcolor": "white",
           "linecolor": "white",
           "ticks": "",
           "title": {
            "standoff": 15
           },
           "zerolinecolor": "white",
           "zerolinewidth": 2
          }
         }
        },
        "title": {
         "text": "Top 15 most wanted professions"
        },
        "width": 800,
        "xaxis": {
         "anchor": "y",
         "domain": [
          0,
          1
         ],
         "title": {
          "text": "Skills"
         }
        },
        "yaxis": {
         "anchor": "x",
         "domain": [
          0,
          1
         ],
         "title": {
          "text": "# of skills"
         }
        }
       }
      },
      "text/html": [
       "<div>\n",
       "        \n",
       "        \n",
       "            <div id=\"e62795f9-612e-40b9-9b13-4b3762290de7\" class=\"plotly-graph-div\" style=\"height:500px; width:800px;\"></div>\n",
       "            <script type=\"text/javascript\">\n",
       "                require([\"plotly\"], function(Plotly) {\n",
       "                    window.PLOTLYENV=window.PLOTLYENV || {};\n",
       "                    \n",
       "                if (document.getElementById(\"e62795f9-612e-40b9-9b13-4b3762290de7\")) {\n",
       "                    Plotly.newPlot(\n",
       "                        'e62795f9-612e-40b9-9b13-4b3762290de7',\n",
       "                        [{\"alignmentgroup\": \"True\", \"hovertemplate\": \"variable=0<br>Skills=%{x}<br># of skills=%{y}<extra></extra>\", \"legendgroup\": \"0\", \"marker\": {\"color\": \"black\"}, \"name\": \"0\", \"offsetgroup\": \"0\", \"orientation\": \"v\", \"showlegend\": true, \"textposition\": \"auto\", \"type\": \"bar\", \"x\": [\"AutoCAD\", \"Adobe Photoshop\", \"Adobe Illustrator\", \"C#\", \"B\\u00fct\\u00e7e planlama ve raporlama\", \"Genel Muhasebe\", \"\\u0130\\u015f\\u00e7i Sa\\u011fl\\u0131\\u011f\\u0131 ve \\u0130\\u015f G\\u00fcvenli\\u011fi\", \"C++\", \"Dijital Pazarlama\", \"Finans\", \"Cari Hesap ve Finans Takibi\", \"Elektrik/Elektronik\", \"\\u0130nsan Kaynaklar\\u0131 Y\\u00f6netimi\", \"Adobe After Effects\", \"Muhasebe\"], \"xaxis\": \"x\", \"y\": [423, 275, 145, 123, 99, 92, 86, 76, 76, 67, 67, 66, 64, 63, 63], \"yaxis\": \"y\"}],\n",
       "                        {\"barmode\": \"relative\", \"height\": 500, \"legend\": {\"title\": {\"text\": \"variable\"}, \"tracegroupgap\": 0}, \"showlegend\": false, \"template\": {\"data\": {\"bar\": [{\"error_x\": {\"color\": \"#2a3f5f\"}, \"error_y\": {\"color\": \"#2a3f5f\"}, \"marker\": {\"line\": {\"color\": \"#E5ECF6\", \"width\": 0.5}}, \"type\": \"bar\"}], \"barpolar\": [{\"marker\": {\"line\": {\"color\": \"#E5ECF6\", \"width\": 0.5}}, \"type\": \"barpolar\"}], \"carpet\": [{\"aaxis\": {\"endlinecolor\": \"#2a3f5f\", \"gridcolor\": \"white\", \"linecolor\": \"white\", \"minorgridcolor\": \"white\", \"startlinecolor\": \"#2a3f5f\"}, \"baxis\": {\"endlinecolor\": \"#2a3f5f\", \"gridcolor\": \"white\", \"linecolor\": \"white\", \"minorgridcolor\": \"white\", \"startlinecolor\": \"#2a3f5f\"}, \"type\": \"carpet\"}], \"choropleth\": [{\"colorbar\": {\"outlinewidth\": 0, \"ticks\": \"\"}, \"type\": \"choropleth\"}], \"contour\": [{\"colorbar\": {\"outlinewidth\": 0, \"ticks\": \"\"}, \"colorscale\": [[0.0, \"#0d0887\"], [0.1111111111111111, \"#46039f\"], [0.2222222222222222, \"#7201a8\"], [0.3333333333333333, \"#9c179e\"], [0.4444444444444444, \"#bd3786\"], [0.5555555555555556, \"#d8576b\"], [0.6666666666666666, \"#ed7953\"], [0.7777777777777778, \"#fb9f3a\"], [0.8888888888888888, \"#fdca26\"], [1.0, \"#f0f921\"]], \"type\": \"contour\"}], \"contourcarpet\": [{\"colorbar\": {\"outlinewidth\": 0, \"ticks\": \"\"}, \"type\": \"contourcarpet\"}], \"heatmap\": [{\"colorbar\": {\"outlinewidth\": 0, \"ticks\": \"\"}, \"colorscale\": [[0.0, \"#0d0887\"], [0.1111111111111111, \"#46039f\"], [0.2222222222222222, \"#7201a8\"], [0.3333333333333333, \"#9c179e\"], [0.4444444444444444, \"#bd3786\"], [0.5555555555555556, \"#d8576b\"], [0.6666666666666666, \"#ed7953\"], [0.7777777777777778, \"#fb9f3a\"], [0.8888888888888888, \"#fdca26\"], [1.0, \"#f0f921\"]], \"type\": \"heatmap\"}], \"heatmapgl\": [{\"colorbar\": {\"outlinewidth\": 0, \"ticks\": \"\"}, \"colorscale\": [[0.0, \"#0d0887\"], [0.1111111111111111, \"#46039f\"], [0.2222222222222222, \"#7201a8\"], [0.3333333333333333, \"#9c179e\"], [0.4444444444444444, \"#bd3786\"], [0.5555555555555556, \"#d8576b\"], [0.6666666666666666, \"#ed7953\"], [0.7777777777777778, \"#fb9f3a\"], [0.8888888888888888, \"#fdca26\"], [1.0, \"#f0f921\"]], \"type\": \"heatmapgl\"}], \"histogram\": [{\"marker\": {\"colorbar\": {\"outlinewidth\": 0, \"ticks\": \"\"}}, \"type\": \"histogram\"}], \"histogram2d\": [{\"colorbar\": {\"outlinewidth\": 0, \"ticks\": \"\"}, \"colorscale\": [[0.0, \"#0d0887\"], [0.1111111111111111, \"#46039f\"], [0.2222222222222222, \"#7201a8\"], [0.3333333333333333, \"#9c179e\"], [0.4444444444444444, \"#bd3786\"], [0.5555555555555556, \"#d8576b\"], [0.6666666666666666, \"#ed7953\"], [0.7777777777777778, \"#fb9f3a\"], [0.8888888888888888, \"#fdca26\"], [1.0, \"#f0f921\"]], \"type\": \"histogram2d\"}], \"histogram2dcontour\": [{\"colorbar\": {\"outlinewidth\": 0, \"ticks\": \"\"}, \"colorscale\": [[0.0, \"#0d0887\"], [0.1111111111111111, \"#46039f\"], [0.2222222222222222, \"#7201a8\"], [0.3333333333333333, \"#9c179e\"], [0.4444444444444444, \"#bd3786\"], [0.5555555555555556, \"#d8576b\"], [0.6666666666666666, \"#ed7953\"], [0.7777777777777778, \"#fb9f3a\"], [0.8888888888888888, \"#fdca26\"], [1.0, \"#f0f921\"]], \"type\": \"histogram2dcontour\"}], \"mesh3d\": [{\"colorbar\": {\"outlinewidth\": 0, \"ticks\": \"\"}, \"type\": \"mesh3d\"}], \"parcoords\": [{\"line\": {\"colorbar\": {\"outlinewidth\": 0, \"ticks\": \"\"}}, \"type\": \"parcoords\"}], \"pie\": [{\"automargin\": true, \"type\": \"pie\"}], \"scatter\": [{\"marker\": {\"colorbar\": {\"outlinewidth\": 0, \"ticks\": \"\"}}, \"type\": \"scatter\"}], \"scatter3d\": [{\"line\": {\"colorbar\": {\"outlinewidth\": 0, \"ticks\": \"\"}}, \"marker\": {\"colorbar\": {\"outlinewidth\": 0, \"ticks\": \"\"}}, \"type\": \"scatter3d\"}], \"scattercarpet\": [{\"marker\": {\"colorbar\": {\"outlinewidth\": 0, \"ticks\": \"\"}}, \"type\": \"scattercarpet\"}], \"scattergeo\": [{\"marker\": {\"colorbar\": {\"outlinewidth\": 0, \"ticks\": \"\"}}, \"type\": \"scattergeo\"}], \"scattergl\": [{\"marker\": {\"colorbar\": {\"outlinewidth\": 0, \"ticks\": \"\"}}, \"type\": \"scattergl\"}], \"scattermapbox\": [{\"marker\": {\"colorbar\": {\"outlinewidth\": 0, \"ticks\": \"\"}}, \"type\": \"scattermapbox\"}], \"scatterpolar\": [{\"marker\": {\"colorbar\": {\"outlinewidth\": 0, \"ticks\": \"\"}}, \"type\": \"scatterpolar\"}], \"scatterpolargl\": [{\"marker\": {\"colorbar\": {\"outlinewidth\": 0, \"ticks\": \"\"}}, \"type\": \"scatterpolargl\"}], \"scatterternary\": [{\"marker\": {\"colorbar\": {\"outlinewidth\": 0, \"ticks\": \"\"}}, \"type\": \"scatterternary\"}], \"surface\": [{\"colorbar\": {\"outlinewidth\": 0, \"ticks\": \"\"}, \"colorscale\": [[0.0, \"#0d0887\"], [0.1111111111111111, \"#46039f\"], [0.2222222222222222, \"#7201a8\"], [0.3333333333333333, \"#9c179e\"], [0.4444444444444444, \"#bd3786\"], [0.5555555555555556, \"#d8576b\"], [0.6666666666666666, \"#ed7953\"], [0.7777777777777778, \"#fb9f3a\"], [0.8888888888888888, \"#fdca26\"], [1.0, \"#f0f921\"]], \"type\": \"surface\"}], \"table\": [{\"cells\": {\"fill\": {\"color\": \"#EBF0F8\"}, \"line\": {\"color\": \"white\"}}, \"header\": {\"fill\": {\"color\": \"#C8D4E3\"}, \"line\": {\"color\": \"white\"}}, \"type\": \"table\"}]}, \"layout\": {\"annotationdefaults\": {\"arrowcolor\": \"#2a3f5f\", \"arrowhead\": 0, \"arrowwidth\": 1}, \"coloraxis\": {\"colorbar\": {\"outlinewidth\": 0, \"ticks\": \"\"}}, \"colorscale\": {\"diverging\": [[0, \"#8e0152\"], [0.1, \"#c51b7d\"], [0.2, \"#de77ae\"], [0.3, \"#f1b6da\"], [0.4, \"#fde0ef\"], [0.5, \"#f7f7f7\"], [0.6, \"#e6f5d0\"], [0.7, \"#b8e186\"], [0.8, \"#7fbc41\"], [0.9, \"#4d9221\"], [1, \"#276419\"]], \"sequential\": [[0.0, \"#0d0887\"], [0.1111111111111111, \"#46039f\"], [0.2222222222222222, \"#7201a8\"], [0.3333333333333333, \"#9c179e\"], [0.4444444444444444, \"#bd3786\"], [0.5555555555555556, \"#d8576b\"], [0.6666666666666666, \"#ed7953\"], [0.7777777777777778, \"#fb9f3a\"], [0.8888888888888888, \"#fdca26\"], [1.0, \"#f0f921\"]], \"sequentialminus\": [[0.0, \"#0d0887\"], [0.1111111111111111, \"#46039f\"], [0.2222222222222222, \"#7201a8\"], [0.3333333333333333, \"#9c179e\"], [0.4444444444444444, \"#bd3786\"], [0.5555555555555556, \"#d8576b\"], [0.6666666666666666, \"#ed7953\"], [0.7777777777777778, \"#fb9f3a\"], [0.8888888888888888, \"#fdca26\"], [1.0, \"#f0f921\"]]}, \"colorway\": [\"#636efa\", \"#EF553B\", \"#00cc96\", \"#ab63fa\", \"#FFA15A\", \"#19d3f3\", \"#FF6692\", \"#B6E880\", \"#FF97FF\", \"#FECB52\"], \"font\": {\"color\": \"#2a3f5f\"}, \"geo\": {\"bgcolor\": \"white\", \"lakecolor\": \"white\", \"landcolor\": \"#E5ECF6\", \"showlakes\": true, \"showland\": true, \"subunitcolor\": \"white\"}, \"hoverlabel\": {\"align\": \"left\"}, \"hovermode\": \"closest\", \"mapbox\": {\"style\": \"light\"}, \"paper_bgcolor\": \"white\", \"plot_bgcolor\": \"#E5ECF6\", \"polar\": {\"angularaxis\": {\"gridcolor\": \"white\", \"linecolor\": \"white\", \"ticks\": \"\"}, \"bgcolor\": \"#E5ECF6\", \"radialaxis\": {\"gridcolor\": \"white\", \"linecolor\": \"white\", \"ticks\": \"\"}}, \"scene\": {\"xaxis\": {\"backgroundcolor\": \"#E5ECF6\", \"gridcolor\": \"white\", \"gridwidth\": 2, \"linecolor\": \"white\", \"showbackground\": true, \"ticks\": \"\", \"zerolinecolor\": \"white\"}, \"yaxis\": {\"backgroundcolor\": \"#E5ECF6\", \"gridcolor\": \"white\", \"gridwidth\": 2, \"linecolor\": \"white\", \"showbackground\": true, \"ticks\": \"\", \"zerolinecolor\": \"white\"}, \"zaxis\": {\"backgroundcolor\": \"#E5ECF6\", \"gridcolor\": \"white\", \"gridwidth\": 2, \"linecolor\": \"white\", \"showbackground\": true, \"ticks\": \"\", \"zerolinecolor\": \"white\"}}, \"shapedefaults\": {\"line\": {\"color\": \"#2a3f5f\"}}, \"ternary\": {\"aaxis\": {\"gridcolor\": \"white\", \"linecolor\": \"white\", \"ticks\": \"\"}, \"baxis\": {\"gridcolor\": \"white\", \"linecolor\": \"white\", \"ticks\": \"\"}, \"bgcolor\": \"#E5ECF6\", \"caxis\": {\"gridcolor\": \"white\", \"linecolor\": \"white\", \"ticks\": \"\"}}, \"title\": {\"x\": 0.05}, \"xaxis\": {\"automargin\": true, \"gridcolor\": \"white\", \"linecolor\": \"white\", \"ticks\": \"\", \"title\": {\"standoff\": 15}, \"zerolinecolor\": \"white\", \"zerolinewidth\": 2}, \"yaxis\": {\"automargin\": true, \"gridcolor\": \"white\", \"linecolor\": \"white\", \"ticks\": \"\", \"title\": {\"standoff\": 15}, \"zerolinecolor\": \"white\", \"zerolinewidth\": 2}}}, \"title\": {\"text\": \"Top 15 most wanted professions\"}, \"width\": 800, \"xaxis\": {\"anchor\": \"y\", \"domain\": [0.0, 1.0], \"title\": {\"text\": \"Skills\"}}, \"yaxis\": {\"anchor\": \"x\", \"domain\": [0.0, 1.0], \"title\": {\"text\": \"# of skills\"}}},\n",
       "                        {\"responsive\": true}\n",
       "                    ).then(function(){\n",
       "                            \n",
       "var gd = document.getElementById('e62795f9-612e-40b9-9b13-4b3762290de7');\n",
       "var x = new MutationObserver(function (mutations, observer) {{\n",
       "        var display = window.getComputedStyle(gd).display;\n",
       "        if (!display || display === 'none') {{\n",
       "            console.log([gd, 'removed!']);\n",
       "            Plotly.purge(gd);\n",
       "            observer.disconnect();\n",
       "        }}\n",
       "}});\n",
       "\n",
       "// Listen for the removal of the full notebook cells\n",
       "var notebookContainer = gd.closest('#notebook-container');\n",
       "if (notebookContainer) {{\n",
       "    x.observe(notebookContainer, {childList: true});\n",
       "}}\n",
       "\n",
       "// Listen for the clearing of the current output cell\n",
       "var outputEl = gd.closest('.output');\n",
       "if (outputEl) {{\n",
       "    x.observe(outputEl, {childList: true});\n",
       "}}\n",
       "\n",
       "                        })\n",
       "                };\n",
       "                });\n",
       "            </script>\n",
       "        </div>"
      ]
     },
     "metadata": {},
     "output_type": "display_data"
    }
   ],
   "source": [
    "#plotting most skill wia plolty\n",
    "px.bar(\n",
    "    most_skill.head(15),\n",
    "    title= \"Top 15 most wanted skills\", # the axxis names\n",
    "    labels={'value':'# of skills', 'index':'Skills'},\n",
    "    color_discrete_sequence=[\"black\"],\n",
    "    height=500,\n",
    "    width=800\n",
    ").update_layout(showlegend=False)"
   ]
  },
  {
   "cell_type": "code",
   "execution_count": 13,
   "metadata": {},
   "outputs": [
    {
     "data": {
      "text/plain": [
       "Anadolu Üniversitesi                          984\n",
       "İstanbul Üniversitesi (İÜ)                    774\n",
       "Kocaeli Üniversitesi                          521\n",
       "Marmara Üniversitesi                          457\n",
       "Sakarya Üniversitesi                          286\n",
       "                                             ... \n",
       "Karamanoğlu Mehmetbey Üniversitesi              1\n",
       "Azerbaycan Mimarlık ve İnşaat Üniversitesi      1\n",
       "İzmir Kâtip Çelebi Üniversitesi                 1\n",
       "TOBB Ekonomi ve Tek. Üniversitesi               1\n",
       "İstanbul Gelişim M.Y.O                          1\n",
       "Length: 150, dtype: int64"
      ]
     },
     "execution_count": 13,
     "metadata": {},
     "output_type": "execute_result"
    }
   ],
   "source": [
    "#concat schools columns and make them array to sum\n",
    "#there is '0' value we extract its by beginning one\n",
    "most_school = df[['first_school','second_school','third_school','fourth_school','fiveth_school']].values.flatten()\n",
    "most_school = pd.value_counts(most_school)\n",
    "most_school = most_school[1:]\n",
    "most_school"
   ]
  },
  {
   "cell_type": "code",
   "execution_count": 14,
   "metadata": {},
   "outputs": [
    {
     "data": {
      "application/vnd.plotly.v1+json": {
       "config": {
        "plotlyServerURL": "https://plotly.com"
       },
       "data": [
        {
         "alignmentgroup": "True",
         "hovertemplate": "variable=0<br>Schools=%{x}<br># of schools=%{y}<extra></extra>",
         "legendgroup": "0",
         "marker": {
          "color": "gray"
         },
         "name": "0",
         "offsetgroup": "0",
         "orientation": "v",
         "showlegend": true,
         "textposition": "auto",
         "type": "bar",
         "x": [
          "Anadolu Üniversitesi",
          "İstanbul Üniversitesi (İÜ)",
          "Kocaeli Üniversitesi",
          "Marmara Üniversitesi",
          "Sakarya Üniversitesi",
          "Selçuk Üniversitesi",
          "İstanbul Teknik Üniversitesi (İTÜ)",
          "Uludağ Üniversitesi",
          "Yıldız Teknik Üniversitesi (YTÜ)",
          "Gazi Üniversitesi",
          "Ege Üniversitesi",
          "Dokuz Eylül Üniversitesi",
          "Süleyman Demirel Üniversitesi",
          "Orta Doğu Teknik Üniversitesi (ODTÜ)",
          "Ankara Üniversitesi"
         ],
         "xaxis": "x",
         "y": [
          984,
          774,
          521,
          457,
          286,
          264,
          253,
          253,
          233,
          232,
          231,
          181,
          163,
          161,
          141
         ],
         "yaxis": "y"
        }
       ],
       "layout": {
        "barmode": "relative",
        "height": 500,
        "legend": {
         "title": {
          "text": "variable"
         },
         "tracegroupgap": 0
        },
        "showlegend": false,
        "template": {
         "data": {
          "bar": [
           {
            "error_x": {
             "color": "#2a3f5f"
            },
            "error_y": {
             "color": "#2a3f5f"
            },
            "marker": {
             "line": {
              "color": "#E5ECF6",
              "width": 0.5
             }
            },
            "type": "bar"
           }
          ],
          "barpolar": [
           {
            "marker": {
             "line": {
              "color": "#E5ECF6",
              "width": 0.5
             }
            },
            "type": "barpolar"
           }
          ],
          "carpet": [
           {
            "aaxis": {
             "endlinecolor": "#2a3f5f",
             "gridcolor": "white",
             "linecolor": "white",
             "minorgridcolor": "white",
             "startlinecolor": "#2a3f5f"
            },
            "baxis": {
             "endlinecolor": "#2a3f5f",
             "gridcolor": "white",
             "linecolor": "white",
             "minorgridcolor": "white",
             "startlinecolor": "#2a3f5f"
            },
            "type": "carpet"
           }
          ],
          "choropleth": [
           {
            "colorbar": {
             "outlinewidth": 0,
             "ticks": ""
            },
            "type": "choropleth"
           }
          ],
          "contour": [
           {
            "colorbar": {
             "outlinewidth": 0,
             "ticks": ""
            },
            "colorscale": [
             [
              0,
              "#0d0887"
             ],
             [
              0.1111111111111111,
              "#46039f"
             ],
             [
              0.2222222222222222,
              "#7201a8"
             ],
             [
              0.3333333333333333,
              "#9c179e"
             ],
             [
              0.4444444444444444,
              "#bd3786"
             ],
             [
              0.5555555555555556,
              "#d8576b"
             ],
             [
              0.6666666666666666,
              "#ed7953"
             ],
             [
              0.7777777777777778,
              "#fb9f3a"
             ],
             [
              0.8888888888888888,
              "#fdca26"
             ],
             [
              1,
              "#f0f921"
             ]
            ],
            "type": "contour"
           }
          ],
          "contourcarpet": [
           {
            "colorbar": {
             "outlinewidth": 0,
             "ticks": ""
            },
            "type": "contourcarpet"
           }
          ],
          "heatmap": [
           {
            "colorbar": {
             "outlinewidth": 0,
             "ticks": ""
            },
            "colorscale": [
             [
              0,
              "#0d0887"
             ],
             [
              0.1111111111111111,
              "#46039f"
             ],
             [
              0.2222222222222222,
              "#7201a8"
             ],
             [
              0.3333333333333333,
              "#9c179e"
             ],
             [
              0.4444444444444444,
              "#bd3786"
             ],
             [
              0.5555555555555556,
              "#d8576b"
             ],
             [
              0.6666666666666666,
              "#ed7953"
             ],
             [
              0.7777777777777778,
              "#fb9f3a"
             ],
             [
              0.8888888888888888,
              "#fdca26"
             ],
             [
              1,
              "#f0f921"
             ]
            ],
            "type": "heatmap"
           }
          ],
          "heatmapgl": [
           {
            "colorbar": {
             "outlinewidth": 0,
             "ticks": ""
            },
            "colorscale": [
             [
              0,
              "#0d0887"
             ],
             [
              0.1111111111111111,
              "#46039f"
             ],
             [
              0.2222222222222222,
              "#7201a8"
             ],
             [
              0.3333333333333333,
              "#9c179e"
             ],
             [
              0.4444444444444444,
              "#bd3786"
             ],
             [
              0.5555555555555556,
              "#d8576b"
             ],
             [
              0.6666666666666666,
              "#ed7953"
             ],
             [
              0.7777777777777778,
              "#fb9f3a"
             ],
             [
              0.8888888888888888,
              "#fdca26"
             ],
             [
              1,
              "#f0f921"
             ]
            ],
            "type": "heatmapgl"
           }
          ],
          "histogram": [
           {
            "marker": {
             "colorbar": {
              "outlinewidth": 0,
              "ticks": ""
             }
            },
            "type": "histogram"
           }
          ],
          "histogram2d": [
           {
            "colorbar": {
             "outlinewidth": 0,
             "ticks": ""
            },
            "colorscale": [
             [
              0,
              "#0d0887"
             ],
             [
              0.1111111111111111,
              "#46039f"
             ],
             [
              0.2222222222222222,
              "#7201a8"
             ],
             [
              0.3333333333333333,
              "#9c179e"
             ],
             [
              0.4444444444444444,
              "#bd3786"
             ],
             [
              0.5555555555555556,
              "#d8576b"
             ],
             [
              0.6666666666666666,
              "#ed7953"
             ],
             [
              0.7777777777777778,
              "#fb9f3a"
             ],
             [
              0.8888888888888888,
              "#fdca26"
             ],
             [
              1,
              "#f0f921"
             ]
            ],
            "type": "histogram2d"
           }
          ],
          "histogram2dcontour": [
           {
            "colorbar": {
             "outlinewidth": 0,
             "ticks": ""
            },
            "colorscale": [
             [
              0,
              "#0d0887"
             ],
             [
              0.1111111111111111,
              "#46039f"
             ],
             [
              0.2222222222222222,
              "#7201a8"
             ],
             [
              0.3333333333333333,
              "#9c179e"
             ],
             [
              0.4444444444444444,
              "#bd3786"
             ],
             [
              0.5555555555555556,
              "#d8576b"
             ],
             [
              0.6666666666666666,
              "#ed7953"
             ],
             [
              0.7777777777777778,
              "#fb9f3a"
             ],
             [
              0.8888888888888888,
              "#fdca26"
             ],
             [
              1,
              "#f0f921"
             ]
            ],
            "type": "histogram2dcontour"
           }
          ],
          "mesh3d": [
           {
            "colorbar": {
             "outlinewidth": 0,
             "ticks": ""
            },
            "type": "mesh3d"
           }
          ],
          "parcoords": [
           {
            "line": {
             "colorbar": {
              "outlinewidth": 0,
              "ticks": ""
             }
            },
            "type": "parcoords"
           }
          ],
          "pie": [
           {
            "automargin": true,
            "type": "pie"
           }
          ],
          "scatter": [
           {
            "marker": {
             "colorbar": {
              "outlinewidth": 0,
              "ticks": ""
             }
            },
            "type": "scatter"
           }
          ],
          "scatter3d": [
           {
            "line": {
             "colorbar": {
              "outlinewidth": 0,
              "ticks": ""
             }
            },
            "marker": {
             "colorbar": {
              "outlinewidth": 0,
              "ticks": ""
             }
            },
            "type": "scatter3d"
           }
          ],
          "scattercarpet": [
           {
            "marker": {
             "colorbar": {
              "outlinewidth": 0,
              "ticks": ""
             }
            },
            "type": "scattercarpet"
           }
          ],
          "scattergeo": [
           {
            "marker": {
             "colorbar": {
              "outlinewidth": 0,
              "ticks": ""
             }
            },
            "type": "scattergeo"
           }
          ],
          "scattergl": [
           {
            "marker": {
             "colorbar": {
              "outlinewidth": 0,
              "ticks": ""
             }
            },
            "type": "scattergl"
           }
          ],
          "scattermapbox": [
           {
            "marker": {
             "colorbar": {
              "outlinewidth": 0,
              "ticks": ""
             }
            },
            "type": "scattermapbox"
           }
          ],
          "scatterpolar": [
           {
            "marker": {
             "colorbar": {
              "outlinewidth": 0,
              "ticks": ""
             }
            },
            "type": "scatterpolar"
           }
          ],
          "scatterpolargl": [
           {
            "marker": {
             "colorbar": {
              "outlinewidth": 0,
              "ticks": ""
             }
            },
            "type": "scatterpolargl"
           }
          ],
          "scatterternary": [
           {
            "marker": {
             "colorbar": {
              "outlinewidth": 0,
              "ticks": ""
             }
            },
            "type": "scatterternary"
           }
          ],
          "surface": [
           {
            "colorbar": {
             "outlinewidth": 0,
             "ticks": ""
            },
            "colorscale": [
             [
              0,
              "#0d0887"
             ],
             [
              0.1111111111111111,
              "#46039f"
             ],
             [
              0.2222222222222222,
              "#7201a8"
             ],
             [
              0.3333333333333333,
              "#9c179e"
             ],
             [
              0.4444444444444444,
              "#bd3786"
             ],
             [
              0.5555555555555556,
              "#d8576b"
             ],
             [
              0.6666666666666666,
              "#ed7953"
             ],
             [
              0.7777777777777778,
              "#fb9f3a"
             ],
             [
              0.8888888888888888,
              "#fdca26"
             ],
             [
              1,
              "#f0f921"
             ]
            ],
            "type": "surface"
           }
          ],
          "table": [
           {
            "cells": {
             "fill": {
              "color": "#EBF0F8"
             },
             "line": {
              "color": "white"
             }
            },
            "header": {
             "fill": {
              "color": "#C8D4E3"
             },
             "line": {
              "color": "white"
             }
            },
            "type": "table"
           }
          ]
         },
         "layout": {
          "annotationdefaults": {
           "arrowcolor": "#2a3f5f",
           "arrowhead": 0,
           "arrowwidth": 1
          },
          "coloraxis": {
           "colorbar": {
            "outlinewidth": 0,
            "ticks": ""
           }
          },
          "colorscale": {
           "diverging": [
            [
             0,
             "#8e0152"
            ],
            [
             0.1,
             "#c51b7d"
            ],
            [
             0.2,
             "#de77ae"
            ],
            [
             0.3,
             "#f1b6da"
            ],
            [
             0.4,
             "#fde0ef"
            ],
            [
             0.5,
             "#f7f7f7"
            ],
            [
             0.6,
             "#e6f5d0"
            ],
            [
             0.7,
             "#b8e186"
            ],
            [
             0.8,
             "#7fbc41"
            ],
            [
             0.9,
             "#4d9221"
            ],
            [
             1,
             "#276419"
            ]
           ],
           "sequential": [
            [
             0,
             "#0d0887"
            ],
            [
             0.1111111111111111,
             "#46039f"
            ],
            [
             0.2222222222222222,
             "#7201a8"
            ],
            [
             0.3333333333333333,
             "#9c179e"
            ],
            [
             0.4444444444444444,
             "#bd3786"
            ],
            [
             0.5555555555555556,
             "#d8576b"
            ],
            [
             0.6666666666666666,
             "#ed7953"
            ],
            [
             0.7777777777777778,
             "#fb9f3a"
            ],
            [
             0.8888888888888888,
             "#fdca26"
            ],
            [
             1,
             "#f0f921"
            ]
           ],
           "sequentialminus": [
            [
             0,
             "#0d0887"
            ],
            [
             0.1111111111111111,
             "#46039f"
            ],
            [
             0.2222222222222222,
             "#7201a8"
            ],
            [
             0.3333333333333333,
             "#9c179e"
            ],
            [
             0.4444444444444444,
             "#bd3786"
            ],
            [
             0.5555555555555556,
             "#d8576b"
            ],
            [
             0.6666666666666666,
             "#ed7953"
            ],
            [
             0.7777777777777778,
             "#fb9f3a"
            ],
            [
             0.8888888888888888,
             "#fdca26"
            ],
            [
             1,
             "#f0f921"
            ]
           ]
          },
          "colorway": [
           "#636efa",
           "#EF553B",
           "#00cc96",
           "#ab63fa",
           "#FFA15A",
           "#19d3f3",
           "#FF6692",
           "#B6E880",
           "#FF97FF",
           "#FECB52"
          ],
          "font": {
           "color": "#2a3f5f"
          },
          "geo": {
           "bgcolor": "white",
           "lakecolor": "white",
           "landcolor": "#E5ECF6",
           "showlakes": true,
           "showland": true,
           "subunitcolor": "white"
          },
          "hoverlabel": {
           "align": "left"
          },
          "hovermode": "closest",
          "mapbox": {
           "style": "light"
          },
          "paper_bgcolor": "white",
          "plot_bgcolor": "#E5ECF6",
          "polar": {
           "angularaxis": {
            "gridcolor": "white",
            "linecolor": "white",
            "ticks": ""
           },
           "bgcolor": "#E5ECF6",
           "radialaxis": {
            "gridcolor": "white",
            "linecolor": "white",
            "ticks": ""
           }
          },
          "scene": {
           "xaxis": {
            "backgroundcolor": "#E5ECF6",
            "gridcolor": "white",
            "gridwidth": 2,
            "linecolor": "white",
            "showbackground": true,
            "ticks": "",
            "zerolinecolor": "white"
           },
           "yaxis": {
            "backgroundcolor": "#E5ECF6",
            "gridcolor": "white",
            "gridwidth": 2,
            "linecolor": "white",
            "showbackground": true,
            "ticks": "",
            "zerolinecolor": "white"
           },
           "zaxis": {
            "backgroundcolor": "#E5ECF6",
            "gridcolor": "white",
            "gridwidth": 2,
            "linecolor": "white",
            "showbackground": true,
            "ticks": "",
            "zerolinecolor": "white"
           }
          },
          "shapedefaults": {
           "line": {
            "color": "#2a3f5f"
           }
          },
          "ternary": {
           "aaxis": {
            "gridcolor": "white",
            "linecolor": "white",
            "ticks": ""
           },
           "baxis": {
            "gridcolor": "white",
            "linecolor": "white",
            "ticks": ""
           },
           "bgcolor": "#E5ECF6",
           "caxis": {
            "gridcolor": "white",
            "linecolor": "white",
            "ticks": ""
           }
          },
          "title": {
           "x": 0.05
          },
          "xaxis": {
           "automargin": true,
           "gridcolor": "white",
           "linecolor": "white",
           "ticks": "",
           "title": {
            "standoff": 15
           },
           "zerolinecolor": "white",
           "zerolinewidth": 2
          },
          "yaxis": {
           "automargin": true,
           "gridcolor": "white",
           "linecolor": "white",
           "ticks": "",
           "title": {
            "standoff": 15
           },
           "zerolinecolor": "white",
           "zerolinewidth": 2
          }
         }
        },
        "title": {
         "text": "Top 15 preferable schools in professions"
        },
        "width": 800,
        "xaxis": {
         "anchor": "y",
         "domain": [
          0,
          1
         ],
         "title": {
          "text": "Schools"
         }
        },
        "yaxis": {
         "anchor": "x",
         "domain": [
          0,
          1
         ],
         "title": {
          "text": "# of schools"
         }
        }
       }
      },
      "text/html": [
       "<div>\n",
       "        \n",
       "        \n",
       "            <div id=\"0aa50393-be8e-44ed-8e44-3e2d86ca13b3\" class=\"plotly-graph-div\" style=\"height:500px; width:800px;\"></div>\n",
       "            <script type=\"text/javascript\">\n",
       "                require([\"plotly\"], function(Plotly) {\n",
       "                    window.PLOTLYENV=window.PLOTLYENV || {};\n",
       "                    \n",
       "                if (document.getElementById(\"0aa50393-be8e-44ed-8e44-3e2d86ca13b3\")) {\n",
       "                    Plotly.newPlot(\n",
       "                        '0aa50393-be8e-44ed-8e44-3e2d86ca13b3',\n",
       "                        [{\"alignmentgroup\": \"True\", \"hovertemplate\": \"variable=0<br>Schools=%{x}<br># of schools=%{y}<extra></extra>\", \"legendgroup\": \"0\", \"marker\": {\"color\": \"gray\"}, \"name\": \"0\", \"offsetgroup\": \"0\", \"orientation\": \"v\", \"showlegend\": true, \"textposition\": \"auto\", \"type\": \"bar\", \"x\": [\"Anadolu \\u00dcniversitesi\", \"\\u0130stanbul \\u00dcniversitesi (\\u0130\\u00dc)\", \"Kocaeli \\u00dcniversitesi\", \"Marmara \\u00dcniversitesi\", \"Sakarya \\u00dcniversitesi\", \"Sel\\u00e7uk \\u00dcniversitesi\", \"\\u0130stanbul Teknik \\u00dcniversitesi (\\u0130T\\u00dc)\", \"Uluda\\u011f \\u00dcniversitesi\", \"Y\\u0131ld\\u0131z Teknik \\u00dcniversitesi (YT\\u00dc)\", \"Gazi \\u00dcniversitesi\", \"Ege \\u00dcniversitesi\", \"Dokuz Eyl\\u00fcl \\u00dcniversitesi\", \"S\\u00fcleyman Demirel \\u00dcniversitesi\", \"Orta Do\\u011fu Teknik \\u00dcniversitesi (ODT\\u00dc)\", \"Ankara \\u00dcniversitesi\"], \"xaxis\": \"x\", \"y\": [984, 774, 521, 457, 286, 264, 253, 253, 233, 232, 231, 181, 163, 161, 141], \"yaxis\": \"y\"}],\n",
       "                        {\"barmode\": \"relative\", \"height\": 500, \"legend\": {\"title\": {\"text\": \"variable\"}, \"tracegroupgap\": 0}, \"showlegend\": false, \"template\": {\"data\": {\"bar\": [{\"error_x\": {\"color\": \"#2a3f5f\"}, \"error_y\": {\"color\": \"#2a3f5f\"}, \"marker\": {\"line\": {\"color\": \"#E5ECF6\", \"width\": 0.5}}, \"type\": \"bar\"}], \"barpolar\": [{\"marker\": {\"line\": {\"color\": \"#E5ECF6\", \"width\": 0.5}}, \"type\": \"barpolar\"}], \"carpet\": [{\"aaxis\": {\"endlinecolor\": \"#2a3f5f\", \"gridcolor\": \"white\", \"linecolor\": \"white\", \"minorgridcolor\": \"white\", \"startlinecolor\": \"#2a3f5f\"}, \"baxis\": {\"endlinecolor\": \"#2a3f5f\", \"gridcolor\": \"white\", \"linecolor\": \"white\", \"minorgridcolor\": \"white\", \"startlinecolor\": \"#2a3f5f\"}, \"type\": \"carpet\"}], \"choropleth\": [{\"colorbar\": {\"outlinewidth\": 0, \"ticks\": \"\"}, \"type\": \"choropleth\"}], \"contour\": [{\"colorbar\": {\"outlinewidth\": 0, \"ticks\": \"\"}, \"colorscale\": [[0.0, \"#0d0887\"], [0.1111111111111111, \"#46039f\"], [0.2222222222222222, \"#7201a8\"], [0.3333333333333333, \"#9c179e\"], [0.4444444444444444, \"#bd3786\"], [0.5555555555555556, \"#d8576b\"], [0.6666666666666666, \"#ed7953\"], [0.7777777777777778, \"#fb9f3a\"], [0.8888888888888888, \"#fdca26\"], [1.0, \"#f0f921\"]], \"type\": \"contour\"}], \"contourcarpet\": [{\"colorbar\": {\"outlinewidth\": 0, \"ticks\": \"\"}, \"type\": \"contourcarpet\"}], \"heatmap\": [{\"colorbar\": {\"outlinewidth\": 0, \"ticks\": \"\"}, \"colorscale\": [[0.0, \"#0d0887\"], [0.1111111111111111, \"#46039f\"], [0.2222222222222222, \"#7201a8\"], [0.3333333333333333, \"#9c179e\"], [0.4444444444444444, \"#bd3786\"], [0.5555555555555556, \"#d8576b\"], [0.6666666666666666, \"#ed7953\"], [0.7777777777777778, \"#fb9f3a\"], [0.8888888888888888, \"#fdca26\"], [1.0, \"#f0f921\"]], \"type\": \"heatmap\"}], \"heatmapgl\": [{\"colorbar\": {\"outlinewidth\": 0, \"ticks\": \"\"}, \"colorscale\": [[0.0, \"#0d0887\"], [0.1111111111111111, \"#46039f\"], [0.2222222222222222, \"#7201a8\"], [0.3333333333333333, \"#9c179e\"], [0.4444444444444444, \"#bd3786\"], [0.5555555555555556, \"#d8576b\"], [0.6666666666666666, \"#ed7953\"], [0.7777777777777778, \"#fb9f3a\"], [0.8888888888888888, \"#fdca26\"], [1.0, \"#f0f921\"]], \"type\": \"heatmapgl\"}], \"histogram\": [{\"marker\": {\"colorbar\": {\"outlinewidth\": 0, \"ticks\": \"\"}}, \"type\": \"histogram\"}], \"histogram2d\": [{\"colorbar\": {\"outlinewidth\": 0, \"ticks\": \"\"}, \"colorscale\": [[0.0, \"#0d0887\"], [0.1111111111111111, \"#46039f\"], [0.2222222222222222, \"#7201a8\"], [0.3333333333333333, \"#9c179e\"], [0.4444444444444444, \"#bd3786\"], [0.5555555555555556, \"#d8576b\"], [0.6666666666666666, \"#ed7953\"], [0.7777777777777778, \"#fb9f3a\"], [0.8888888888888888, \"#fdca26\"], [1.0, \"#f0f921\"]], \"type\": \"histogram2d\"}], \"histogram2dcontour\": [{\"colorbar\": {\"outlinewidth\": 0, \"ticks\": \"\"}, \"colorscale\": [[0.0, \"#0d0887\"], [0.1111111111111111, \"#46039f\"], [0.2222222222222222, \"#7201a8\"], [0.3333333333333333, \"#9c179e\"], [0.4444444444444444, \"#bd3786\"], [0.5555555555555556, \"#d8576b\"], [0.6666666666666666, \"#ed7953\"], [0.7777777777777778, \"#fb9f3a\"], [0.8888888888888888, \"#fdca26\"], [1.0, \"#f0f921\"]], \"type\": \"histogram2dcontour\"}], \"mesh3d\": [{\"colorbar\": {\"outlinewidth\": 0, \"ticks\": \"\"}, \"type\": \"mesh3d\"}], \"parcoords\": [{\"line\": {\"colorbar\": {\"outlinewidth\": 0, \"ticks\": \"\"}}, \"type\": \"parcoords\"}], \"pie\": [{\"automargin\": true, \"type\": \"pie\"}], \"scatter\": [{\"marker\": {\"colorbar\": {\"outlinewidth\": 0, \"ticks\": \"\"}}, \"type\": \"scatter\"}], \"scatter3d\": [{\"line\": {\"colorbar\": {\"outlinewidth\": 0, \"ticks\": \"\"}}, \"marker\": {\"colorbar\": {\"outlinewidth\": 0, \"ticks\": \"\"}}, \"type\": \"scatter3d\"}], \"scattercarpet\": [{\"marker\": {\"colorbar\": {\"outlinewidth\": 0, \"ticks\": \"\"}}, \"type\": \"scattercarpet\"}], \"scattergeo\": [{\"marker\": {\"colorbar\": {\"outlinewidth\": 0, \"ticks\": \"\"}}, \"type\": \"scattergeo\"}], \"scattergl\": [{\"marker\": {\"colorbar\": {\"outlinewidth\": 0, \"ticks\": \"\"}}, \"type\": \"scattergl\"}], \"scattermapbox\": [{\"marker\": {\"colorbar\": {\"outlinewidth\": 0, \"ticks\": \"\"}}, \"type\": \"scattermapbox\"}], \"scatterpolar\": [{\"marker\": {\"colorbar\": {\"outlinewidth\": 0, \"ticks\": \"\"}}, \"type\": \"scatterpolar\"}], \"scatterpolargl\": [{\"marker\": {\"colorbar\": {\"outlinewidth\": 0, \"ticks\": \"\"}}, \"type\": \"scatterpolargl\"}], \"scatterternary\": [{\"marker\": {\"colorbar\": {\"outlinewidth\": 0, \"ticks\": \"\"}}, \"type\": \"scatterternary\"}], \"surface\": [{\"colorbar\": {\"outlinewidth\": 0, \"ticks\": \"\"}, \"colorscale\": [[0.0, \"#0d0887\"], [0.1111111111111111, \"#46039f\"], [0.2222222222222222, \"#7201a8\"], [0.3333333333333333, \"#9c179e\"], [0.4444444444444444, \"#bd3786\"], [0.5555555555555556, \"#d8576b\"], [0.6666666666666666, \"#ed7953\"], [0.7777777777777778, \"#fb9f3a\"], [0.8888888888888888, \"#fdca26\"], [1.0, \"#f0f921\"]], \"type\": \"surface\"}], \"table\": [{\"cells\": {\"fill\": {\"color\": \"#EBF0F8\"}, \"line\": {\"color\": \"white\"}}, \"header\": {\"fill\": {\"color\": \"#C8D4E3\"}, \"line\": {\"color\": \"white\"}}, \"type\": \"table\"}]}, \"layout\": {\"annotationdefaults\": {\"arrowcolor\": \"#2a3f5f\", \"arrowhead\": 0, \"arrowwidth\": 1}, \"coloraxis\": {\"colorbar\": {\"outlinewidth\": 0, \"ticks\": \"\"}}, \"colorscale\": {\"diverging\": [[0, \"#8e0152\"], [0.1, \"#c51b7d\"], [0.2, \"#de77ae\"], [0.3, \"#f1b6da\"], [0.4, \"#fde0ef\"], [0.5, \"#f7f7f7\"], [0.6, \"#e6f5d0\"], [0.7, \"#b8e186\"], [0.8, \"#7fbc41\"], [0.9, \"#4d9221\"], [1, \"#276419\"]], \"sequential\": [[0.0, \"#0d0887\"], [0.1111111111111111, \"#46039f\"], [0.2222222222222222, \"#7201a8\"], [0.3333333333333333, \"#9c179e\"], [0.4444444444444444, \"#bd3786\"], [0.5555555555555556, \"#d8576b\"], [0.6666666666666666, \"#ed7953\"], [0.7777777777777778, \"#fb9f3a\"], [0.8888888888888888, \"#fdca26\"], [1.0, \"#f0f921\"]], \"sequentialminus\": [[0.0, \"#0d0887\"], [0.1111111111111111, \"#46039f\"], [0.2222222222222222, \"#7201a8\"], [0.3333333333333333, \"#9c179e\"], [0.4444444444444444, \"#bd3786\"], [0.5555555555555556, \"#d8576b\"], [0.6666666666666666, \"#ed7953\"], [0.7777777777777778, \"#fb9f3a\"], [0.8888888888888888, \"#fdca26\"], [1.0, \"#f0f921\"]]}, \"colorway\": [\"#636efa\", \"#EF553B\", \"#00cc96\", \"#ab63fa\", \"#FFA15A\", \"#19d3f3\", \"#FF6692\", \"#B6E880\", \"#FF97FF\", \"#FECB52\"], \"font\": {\"color\": \"#2a3f5f\"}, \"geo\": {\"bgcolor\": \"white\", \"lakecolor\": \"white\", \"landcolor\": \"#E5ECF6\", \"showlakes\": true, \"showland\": true, \"subunitcolor\": \"white\"}, \"hoverlabel\": {\"align\": \"left\"}, \"hovermode\": \"closest\", \"mapbox\": {\"style\": \"light\"}, \"paper_bgcolor\": \"white\", \"plot_bgcolor\": \"#E5ECF6\", \"polar\": {\"angularaxis\": {\"gridcolor\": \"white\", \"linecolor\": \"white\", \"ticks\": \"\"}, \"bgcolor\": \"#E5ECF6\", \"radialaxis\": {\"gridcolor\": \"white\", \"linecolor\": \"white\", \"ticks\": \"\"}}, \"scene\": {\"xaxis\": {\"backgroundcolor\": \"#E5ECF6\", \"gridcolor\": \"white\", \"gridwidth\": 2, \"linecolor\": \"white\", \"showbackground\": true, \"ticks\": \"\", \"zerolinecolor\": \"white\"}, \"yaxis\": {\"backgroundcolor\": \"#E5ECF6\", \"gridcolor\": \"white\", \"gridwidth\": 2, \"linecolor\": \"white\", \"showbackground\": true, \"ticks\": \"\", \"zerolinecolor\": \"white\"}, \"zaxis\": {\"backgroundcolor\": \"#E5ECF6\", \"gridcolor\": \"white\", \"gridwidth\": 2, \"linecolor\": \"white\", \"showbackground\": true, \"ticks\": \"\", \"zerolinecolor\": \"white\"}}, \"shapedefaults\": {\"line\": {\"color\": \"#2a3f5f\"}}, \"ternary\": {\"aaxis\": {\"gridcolor\": \"white\", \"linecolor\": \"white\", \"ticks\": \"\"}, \"baxis\": {\"gridcolor\": \"white\", \"linecolor\": \"white\", \"ticks\": \"\"}, \"bgcolor\": \"#E5ECF6\", \"caxis\": {\"gridcolor\": \"white\", \"linecolor\": \"white\", \"ticks\": \"\"}}, \"title\": {\"x\": 0.05}, \"xaxis\": {\"automargin\": true, \"gridcolor\": \"white\", \"linecolor\": \"white\", \"ticks\": \"\", \"title\": {\"standoff\": 15}, \"zerolinecolor\": \"white\", \"zerolinewidth\": 2}, \"yaxis\": {\"automargin\": true, \"gridcolor\": \"white\", \"linecolor\": \"white\", \"ticks\": \"\", \"title\": {\"standoff\": 15}, \"zerolinecolor\": \"white\", \"zerolinewidth\": 2}}}, \"title\": {\"text\": \"Top 15 preferable schools in professions\"}, \"width\": 800, \"xaxis\": {\"anchor\": \"y\", \"domain\": [0.0, 1.0], \"title\": {\"text\": \"Schools\"}}, \"yaxis\": {\"anchor\": \"x\", \"domain\": [0.0, 1.0], \"title\": {\"text\": \"# of schools\"}}},\n",
       "                        {\"responsive\": true}\n",
       "                    ).then(function(){\n",
       "                            \n",
       "var gd = document.getElementById('0aa50393-be8e-44ed-8e44-3e2d86ca13b3');\n",
       "var x = new MutationObserver(function (mutations, observer) {{\n",
       "        var display = window.getComputedStyle(gd).display;\n",
       "        if (!display || display === 'none') {{\n",
       "            console.log([gd, 'removed!']);\n",
       "            Plotly.purge(gd);\n",
       "            observer.disconnect();\n",
       "        }}\n",
       "}});\n",
       "\n",
       "// Listen for the removal of the full notebook cells\n",
       "var notebookContainer = gd.closest('#notebook-container');\n",
       "if (notebookContainer) {{\n",
       "    x.observe(notebookContainer, {childList: true});\n",
       "}}\n",
       "\n",
       "// Listen for the clearing of the current output cell\n",
       "var outputEl = gd.closest('.output');\n",
       "if (outputEl) {{\n",
       "    x.observe(outputEl, {childList: true});\n",
       "}}\n",
       "\n",
       "                        })\n",
       "                };\n",
       "                });\n",
       "            </script>\n",
       "        </div>"
      ]
     },
     "metadata": {},
     "output_type": "display_data"
    }
   ],
   "source": [
    "#plotting most school wia plolty\n",
    "px.bar(\n",
    "    most_school.head(15),\n",
    "    title= \"Top 15 preferable schools in professions\", # the axxis names\n",
    "    labels={'value':'# of schools', 'index':'Schools'},\n",
    "    color_discrete_sequence=[\"gray\"],\n",
    "    height=500,\n",
    "    width=800\n",
    ").update_layout(showlegend=False)"
   ]
  },
  {
   "cell_type": "code",
   "execution_count": 15,
   "metadata": {},
   "outputs": [
    {
     "data": {
      "text/plain": [
       "İşletme                                        857\n",
       "İktisat                                        439\n",
       "Kamu Yönetimi                                  273\n",
       "Endüstri Mühendisliği                          194\n",
       "Bilgisayar Teknolojisi ve Programlama (MYO)    183\n",
       "                                              ... \n",
       "Aile ve Tüketici Bilimleri Öğretmenliği          1\n",
       "Görsel Sanatlar ve Görsel İletişim Tasarımı      1\n",
       "Bale Dansçılığı                                  1\n",
       "İletişim Tasarımı                                1\n",
       "Mütercim-Tercümanlık (Fransızca)                 1\n",
       "Length: 534, dtype: int64"
      ]
     },
     "execution_count": 15,
     "metadata": {},
     "output_type": "execute_result"
    }
   ],
   "source": [
    "#concat department columns and make them array to sum\n",
    "#there is '0' value we extract its by beginning one\n",
    "most_grad = df[['first_grad','second_grad','third_grad','fourth_grad','fiveth_grad']].values.flatten()\n",
    "most_grad = pd.value_counts(most_grad)\n",
    "most_grad = most_grad[1:]\n",
    "most_grad"
   ]
  },
  {
   "cell_type": "code",
   "execution_count": 16,
   "metadata": {},
   "outputs": [
    {
     "data": {
      "application/vnd.plotly.v1+json": {
       "config": {
        "plotlyServerURL": "https://plotly.com"
       },
       "data": [
        {
         "alignmentgroup": "True",
         "hovertemplate": "variable=0<br>Departments=%{x}<br># of department=%{y}<extra></extra>",
         "legendgroup": "0",
         "marker": {
          "color": "lightgray"
         },
         "name": "0",
         "offsetgroup": "0",
         "orientation": "v",
         "showlegend": true,
         "textposition": "auto",
         "type": "bar",
         "x": [
          "İşletme",
          "İktisat",
          "Kamu Yönetimi",
          "Endüstri Mühendisliği",
          "Bilgisayar Teknolojisi ve Programlama (MYO)",
          "Makine Mühendisliği",
          "Uluslararası İlişkiler",
          "Elektrik/Elektronik Mühendisliği",
          "Bilgisayar Mühendisliği",
          "İşletme (İngilizce)",
          "Maliye",
          "Muhasebe (MYO)",
          "Dış Ticaret (MYO)",
          "Makine (MYO)",
          "Kimya"
         ],
         "xaxis": "x",
         "y": [
          857,
          439,
          273,
          194,
          183,
          175,
          141,
          140,
          131,
          113,
          103,
          86,
          84,
          83,
          81
         ],
         "yaxis": "y"
        }
       ],
       "layout": {
        "barmode": "relative",
        "height": 500,
        "legend": {
         "title": {
          "text": "variable"
         },
         "tracegroupgap": 0
        },
        "showlegend": false,
        "template": {
         "data": {
          "bar": [
           {
            "error_x": {
             "color": "#2a3f5f"
            },
            "error_y": {
             "color": "#2a3f5f"
            },
            "marker": {
             "line": {
              "color": "#E5ECF6",
              "width": 0.5
             }
            },
            "type": "bar"
           }
          ],
          "barpolar": [
           {
            "marker": {
             "line": {
              "color": "#E5ECF6",
              "width": 0.5
             }
            },
            "type": "barpolar"
           }
          ],
          "carpet": [
           {
            "aaxis": {
             "endlinecolor": "#2a3f5f",
             "gridcolor": "white",
             "linecolor": "white",
             "minorgridcolor": "white",
             "startlinecolor": "#2a3f5f"
            },
            "baxis": {
             "endlinecolor": "#2a3f5f",
             "gridcolor": "white",
             "linecolor": "white",
             "minorgridcolor": "white",
             "startlinecolor": "#2a3f5f"
            },
            "type": "carpet"
           }
          ],
          "choropleth": [
           {
            "colorbar": {
             "outlinewidth": 0,
             "ticks": ""
            },
            "type": "choropleth"
           }
          ],
          "contour": [
           {
            "colorbar": {
             "outlinewidth": 0,
             "ticks": ""
            },
            "colorscale": [
             [
              0,
              "#0d0887"
             ],
             [
              0.1111111111111111,
              "#46039f"
             ],
             [
              0.2222222222222222,
              "#7201a8"
             ],
             [
              0.3333333333333333,
              "#9c179e"
             ],
             [
              0.4444444444444444,
              "#bd3786"
             ],
             [
              0.5555555555555556,
              "#d8576b"
             ],
             [
              0.6666666666666666,
              "#ed7953"
             ],
             [
              0.7777777777777778,
              "#fb9f3a"
             ],
             [
              0.8888888888888888,
              "#fdca26"
             ],
             [
              1,
              "#f0f921"
             ]
            ],
            "type": "contour"
           }
          ],
          "contourcarpet": [
           {
            "colorbar": {
             "outlinewidth": 0,
             "ticks": ""
            },
            "type": "contourcarpet"
           }
          ],
          "heatmap": [
           {
            "colorbar": {
             "outlinewidth": 0,
             "ticks": ""
            },
            "colorscale": [
             [
              0,
              "#0d0887"
             ],
             [
              0.1111111111111111,
              "#46039f"
             ],
             [
              0.2222222222222222,
              "#7201a8"
             ],
             [
              0.3333333333333333,
              "#9c179e"
             ],
             [
              0.4444444444444444,
              "#bd3786"
             ],
             [
              0.5555555555555556,
              "#d8576b"
             ],
             [
              0.6666666666666666,
              "#ed7953"
             ],
             [
              0.7777777777777778,
              "#fb9f3a"
             ],
             [
              0.8888888888888888,
              "#fdca26"
             ],
             [
              1,
              "#f0f921"
             ]
            ],
            "type": "heatmap"
           }
          ],
          "heatmapgl": [
           {
            "colorbar": {
             "outlinewidth": 0,
             "ticks": ""
            },
            "colorscale": [
             [
              0,
              "#0d0887"
             ],
             [
              0.1111111111111111,
              "#46039f"
             ],
             [
              0.2222222222222222,
              "#7201a8"
             ],
             [
              0.3333333333333333,
              "#9c179e"
             ],
             [
              0.4444444444444444,
              "#bd3786"
             ],
             [
              0.5555555555555556,
              "#d8576b"
             ],
             [
              0.6666666666666666,
              "#ed7953"
             ],
             [
              0.7777777777777778,
              "#fb9f3a"
             ],
             [
              0.8888888888888888,
              "#fdca26"
             ],
             [
              1,
              "#f0f921"
             ]
            ],
            "type": "heatmapgl"
           }
          ],
          "histogram": [
           {
            "marker": {
             "colorbar": {
              "outlinewidth": 0,
              "ticks": ""
             }
            },
            "type": "histogram"
           }
          ],
          "histogram2d": [
           {
            "colorbar": {
             "outlinewidth": 0,
             "ticks": ""
            },
            "colorscale": [
             [
              0,
              "#0d0887"
             ],
             [
              0.1111111111111111,
              "#46039f"
             ],
             [
              0.2222222222222222,
              "#7201a8"
             ],
             [
              0.3333333333333333,
              "#9c179e"
             ],
             [
              0.4444444444444444,
              "#bd3786"
             ],
             [
              0.5555555555555556,
              "#d8576b"
             ],
             [
              0.6666666666666666,
              "#ed7953"
             ],
             [
              0.7777777777777778,
              "#fb9f3a"
             ],
             [
              0.8888888888888888,
              "#fdca26"
             ],
             [
              1,
              "#f0f921"
             ]
            ],
            "type": "histogram2d"
           }
          ],
          "histogram2dcontour": [
           {
            "colorbar": {
             "outlinewidth": 0,
             "ticks": ""
            },
            "colorscale": [
             [
              0,
              "#0d0887"
             ],
             [
              0.1111111111111111,
              "#46039f"
             ],
             [
              0.2222222222222222,
              "#7201a8"
             ],
             [
              0.3333333333333333,
              "#9c179e"
             ],
             [
              0.4444444444444444,
              "#bd3786"
             ],
             [
              0.5555555555555556,
              "#d8576b"
             ],
             [
              0.6666666666666666,
              "#ed7953"
             ],
             [
              0.7777777777777778,
              "#fb9f3a"
             ],
             [
              0.8888888888888888,
              "#fdca26"
             ],
             [
              1,
              "#f0f921"
             ]
            ],
            "type": "histogram2dcontour"
           }
          ],
          "mesh3d": [
           {
            "colorbar": {
             "outlinewidth": 0,
             "ticks": ""
            },
            "type": "mesh3d"
           }
          ],
          "parcoords": [
           {
            "line": {
             "colorbar": {
              "outlinewidth": 0,
              "ticks": ""
             }
            },
            "type": "parcoords"
           }
          ],
          "pie": [
           {
            "automargin": true,
            "type": "pie"
           }
          ],
          "scatter": [
           {
            "marker": {
             "colorbar": {
              "outlinewidth": 0,
              "ticks": ""
             }
            },
            "type": "scatter"
           }
          ],
          "scatter3d": [
           {
            "line": {
             "colorbar": {
              "outlinewidth": 0,
              "ticks": ""
             }
            },
            "marker": {
             "colorbar": {
              "outlinewidth": 0,
              "ticks": ""
             }
            },
            "type": "scatter3d"
           }
          ],
          "scattercarpet": [
           {
            "marker": {
             "colorbar": {
              "outlinewidth": 0,
              "ticks": ""
             }
            },
            "type": "scattercarpet"
           }
          ],
          "scattergeo": [
           {
            "marker": {
             "colorbar": {
              "outlinewidth": 0,
              "ticks": ""
             }
            },
            "type": "scattergeo"
           }
          ],
          "scattergl": [
           {
            "marker": {
             "colorbar": {
              "outlinewidth": 0,
              "ticks": ""
             }
            },
            "type": "scattergl"
           }
          ],
          "scattermapbox": [
           {
            "marker": {
             "colorbar": {
              "outlinewidth": 0,
              "ticks": ""
             }
            },
            "type": "scattermapbox"
           }
          ],
          "scatterpolar": [
           {
            "marker": {
             "colorbar": {
              "outlinewidth": 0,
              "ticks": ""
             }
            },
            "type": "scatterpolar"
           }
          ],
          "scatterpolargl": [
           {
            "marker": {
             "colorbar": {
              "outlinewidth": 0,
              "ticks": ""
             }
            },
            "type": "scatterpolargl"
           }
          ],
          "scatterternary": [
           {
            "marker": {
             "colorbar": {
              "outlinewidth": 0,
              "ticks": ""
             }
            },
            "type": "scatterternary"
           }
          ],
          "surface": [
           {
            "colorbar": {
             "outlinewidth": 0,
             "ticks": ""
            },
            "colorscale": [
             [
              0,
              "#0d0887"
             ],
             [
              0.1111111111111111,
              "#46039f"
             ],
             [
              0.2222222222222222,
              "#7201a8"
             ],
             [
              0.3333333333333333,
              "#9c179e"
             ],
             [
              0.4444444444444444,
              "#bd3786"
             ],
             [
              0.5555555555555556,
              "#d8576b"
             ],
             [
              0.6666666666666666,
              "#ed7953"
             ],
             [
              0.7777777777777778,
              "#fb9f3a"
             ],
             [
              0.8888888888888888,
              "#fdca26"
             ],
             [
              1,
              "#f0f921"
             ]
            ],
            "type": "surface"
           }
          ],
          "table": [
           {
            "cells": {
             "fill": {
              "color": "#EBF0F8"
             },
             "line": {
              "color": "white"
             }
            },
            "header": {
             "fill": {
              "color": "#C8D4E3"
             },
             "line": {
              "color": "white"
             }
            },
            "type": "table"
           }
          ]
         },
         "layout": {
          "annotationdefaults": {
           "arrowcolor": "#2a3f5f",
           "arrowhead": 0,
           "arrowwidth": 1
          },
          "coloraxis": {
           "colorbar": {
            "outlinewidth": 0,
            "ticks": ""
           }
          },
          "colorscale": {
           "diverging": [
            [
             0,
             "#8e0152"
            ],
            [
             0.1,
             "#c51b7d"
            ],
            [
             0.2,
             "#de77ae"
            ],
            [
             0.3,
             "#f1b6da"
            ],
            [
             0.4,
             "#fde0ef"
            ],
            [
             0.5,
             "#f7f7f7"
            ],
            [
             0.6,
             "#e6f5d0"
            ],
            [
             0.7,
             "#b8e186"
            ],
            [
             0.8,
             "#7fbc41"
            ],
            [
             0.9,
             "#4d9221"
            ],
            [
             1,
             "#276419"
            ]
           ],
           "sequential": [
            [
             0,
             "#0d0887"
            ],
            [
             0.1111111111111111,
             "#46039f"
            ],
            [
             0.2222222222222222,
             "#7201a8"
            ],
            [
             0.3333333333333333,
             "#9c179e"
            ],
            [
             0.4444444444444444,
             "#bd3786"
            ],
            [
             0.5555555555555556,
             "#d8576b"
            ],
            [
             0.6666666666666666,
             "#ed7953"
            ],
            [
             0.7777777777777778,
             "#fb9f3a"
            ],
            [
             0.8888888888888888,
             "#fdca26"
            ],
            [
             1,
             "#f0f921"
            ]
           ],
           "sequentialminus": [
            [
             0,
             "#0d0887"
            ],
            [
             0.1111111111111111,
             "#46039f"
            ],
            [
             0.2222222222222222,
             "#7201a8"
            ],
            [
             0.3333333333333333,
             "#9c179e"
            ],
            [
             0.4444444444444444,
             "#bd3786"
            ],
            [
             0.5555555555555556,
             "#d8576b"
            ],
            [
             0.6666666666666666,
             "#ed7953"
            ],
            [
             0.7777777777777778,
             "#fb9f3a"
            ],
            [
             0.8888888888888888,
             "#fdca26"
            ],
            [
             1,
             "#f0f921"
            ]
           ]
          },
          "colorway": [
           "#636efa",
           "#EF553B",
           "#00cc96",
           "#ab63fa",
           "#FFA15A",
           "#19d3f3",
           "#FF6692",
           "#B6E880",
           "#FF97FF",
           "#FECB52"
          ],
          "font": {
           "color": "#2a3f5f"
          },
          "geo": {
           "bgcolor": "white",
           "lakecolor": "white",
           "landcolor": "#E5ECF6",
           "showlakes": true,
           "showland": true,
           "subunitcolor": "white"
          },
          "hoverlabel": {
           "align": "left"
          },
          "hovermode": "closest",
          "mapbox": {
           "style": "light"
          },
          "paper_bgcolor": "white",
          "plot_bgcolor": "#E5ECF6",
          "polar": {
           "angularaxis": {
            "gridcolor": "white",
            "linecolor": "white",
            "ticks": ""
           },
           "bgcolor": "#E5ECF6",
           "radialaxis": {
            "gridcolor": "white",
            "linecolor": "white",
            "ticks": ""
           }
          },
          "scene": {
           "xaxis": {
            "backgroundcolor": "#E5ECF6",
            "gridcolor": "white",
            "gridwidth": 2,
            "linecolor": "white",
            "showbackground": true,
            "ticks": "",
            "zerolinecolor": "white"
           },
           "yaxis": {
            "backgroundcolor": "#E5ECF6",
            "gridcolor": "white",
            "gridwidth": 2,
            "linecolor": "white",
            "showbackground": true,
            "ticks": "",
            "zerolinecolor": "white"
           },
           "zaxis": {
            "backgroundcolor": "#E5ECF6",
            "gridcolor": "white",
            "gridwidth": 2,
            "linecolor": "white",
            "showbackground": true,
            "ticks": "",
            "zerolinecolor": "white"
           }
          },
          "shapedefaults": {
           "line": {
            "color": "#2a3f5f"
           }
          },
          "ternary": {
           "aaxis": {
            "gridcolor": "white",
            "linecolor": "white",
            "ticks": ""
           },
           "baxis": {
            "gridcolor": "white",
            "linecolor": "white",
            "ticks": ""
           },
           "bgcolor": "#E5ECF6",
           "caxis": {
            "gridcolor": "white",
            "linecolor": "white",
            "ticks": ""
           }
          },
          "title": {
           "x": 0.05
          },
          "xaxis": {
           "automargin": true,
           "gridcolor": "white",
           "linecolor": "white",
           "ticks": "",
           "title": {
            "standoff": 15
           },
           "zerolinecolor": "white",
           "zerolinewidth": 2
          },
          "yaxis": {
           "automargin": true,
           "gridcolor": "white",
           "linecolor": "white",
           "ticks": "",
           "title": {
            "standoff": 15
           },
           "zerolinecolor": "white",
           "zerolinewidth": 2
          }
         }
        },
        "title": {
         "text": "Top 15 preferable department in professions"
        },
        "width": 800,
        "xaxis": {
         "anchor": "y",
         "domain": [
          0,
          1
         ],
         "title": {
          "text": "Departments"
         }
        },
        "yaxis": {
         "anchor": "x",
         "domain": [
          0,
          1
         ],
         "title": {
          "text": "# of department"
         }
        }
       }
      },
      "text/html": [
       "<div>\n",
       "        \n",
       "        \n",
       "            <div id=\"e1dd4614-82d7-42db-8b4a-ba878b0a4b28\" class=\"plotly-graph-div\" style=\"height:500px; width:800px;\"></div>\n",
       "            <script type=\"text/javascript\">\n",
       "                require([\"plotly\"], function(Plotly) {\n",
       "                    window.PLOTLYENV=window.PLOTLYENV || {};\n",
       "                    \n",
       "                if (document.getElementById(\"e1dd4614-82d7-42db-8b4a-ba878b0a4b28\")) {\n",
       "                    Plotly.newPlot(\n",
       "                        'e1dd4614-82d7-42db-8b4a-ba878b0a4b28',\n",
       "                        [{\"alignmentgroup\": \"True\", \"hovertemplate\": \"variable=0<br>Departments=%{x}<br># of department=%{y}<extra></extra>\", \"legendgroup\": \"0\", \"marker\": {\"color\": \"lightgray\"}, \"name\": \"0\", \"offsetgroup\": \"0\", \"orientation\": \"v\", \"showlegend\": true, \"textposition\": \"auto\", \"type\": \"bar\", \"x\": [\"\\u0130\\u015fletme\", \"\\u0130ktisat\", \"Kamu Y\\u00f6netimi\", \"End\\u00fcstri M\\u00fchendisli\\u011fi\", \"Bilgisayar Teknolojisi ve Programlama (MYO)\", \"Makine M\\u00fchendisli\\u011fi\", \"Uluslararas\\u0131 \\u0130li\\u015fkiler\", \"Elektrik/Elektronik M\\u00fchendisli\\u011fi\", \"Bilgisayar M\\u00fchendisli\\u011fi\", \"\\u0130\\u015fletme (\\u0130ngilizce)\", \"Maliye\", \"Muhasebe (MYO)\", \"D\\u0131\\u015f Ticaret (MYO)\", \"Makine (MYO)\", \"Kimya\"], \"xaxis\": \"x\", \"y\": [857, 439, 273, 194, 183, 175, 141, 140, 131, 113, 103, 86, 84, 83, 81], \"yaxis\": \"y\"}],\n",
       "                        {\"barmode\": \"relative\", \"height\": 500, \"legend\": {\"title\": {\"text\": \"variable\"}, \"tracegroupgap\": 0}, \"showlegend\": false, \"template\": {\"data\": {\"bar\": [{\"error_x\": {\"color\": \"#2a3f5f\"}, \"error_y\": {\"color\": \"#2a3f5f\"}, \"marker\": {\"line\": {\"color\": \"#E5ECF6\", \"width\": 0.5}}, \"type\": \"bar\"}], \"barpolar\": [{\"marker\": {\"line\": {\"color\": \"#E5ECF6\", \"width\": 0.5}}, \"type\": \"barpolar\"}], \"carpet\": [{\"aaxis\": {\"endlinecolor\": \"#2a3f5f\", \"gridcolor\": \"white\", \"linecolor\": \"white\", \"minorgridcolor\": \"white\", \"startlinecolor\": \"#2a3f5f\"}, \"baxis\": {\"endlinecolor\": \"#2a3f5f\", \"gridcolor\": \"white\", \"linecolor\": \"white\", \"minorgridcolor\": \"white\", \"startlinecolor\": \"#2a3f5f\"}, \"type\": \"carpet\"}], \"choropleth\": [{\"colorbar\": {\"outlinewidth\": 0, \"ticks\": \"\"}, \"type\": \"choropleth\"}], \"contour\": [{\"colorbar\": {\"outlinewidth\": 0, \"ticks\": \"\"}, \"colorscale\": [[0.0, \"#0d0887\"], [0.1111111111111111, \"#46039f\"], [0.2222222222222222, \"#7201a8\"], [0.3333333333333333, \"#9c179e\"], [0.4444444444444444, \"#bd3786\"], [0.5555555555555556, \"#d8576b\"], [0.6666666666666666, \"#ed7953\"], [0.7777777777777778, \"#fb9f3a\"], [0.8888888888888888, \"#fdca26\"], [1.0, \"#f0f921\"]], \"type\": \"contour\"}], \"contourcarpet\": [{\"colorbar\": {\"outlinewidth\": 0, \"ticks\": \"\"}, \"type\": \"contourcarpet\"}], \"heatmap\": [{\"colorbar\": {\"outlinewidth\": 0, \"ticks\": \"\"}, \"colorscale\": [[0.0, \"#0d0887\"], [0.1111111111111111, \"#46039f\"], [0.2222222222222222, \"#7201a8\"], [0.3333333333333333, \"#9c179e\"], [0.4444444444444444, \"#bd3786\"], [0.5555555555555556, \"#d8576b\"], [0.6666666666666666, \"#ed7953\"], [0.7777777777777778, \"#fb9f3a\"], [0.8888888888888888, \"#fdca26\"], [1.0, \"#f0f921\"]], \"type\": \"heatmap\"}], \"heatmapgl\": [{\"colorbar\": {\"outlinewidth\": 0, \"ticks\": \"\"}, \"colorscale\": [[0.0, \"#0d0887\"], [0.1111111111111111, \"#46039f\"], [0.2222222222222222, \"#7201a8\"], [0.3333333333333333, \"#9c179e\"], [0.4444444444444444, \"#bd3786\"], [0.5555555555555556, \"#d8576b\"], [0.6666666666666666, \"#ed7953\"], [0.7777777777777778, \"#fb9f3a\"], [0.8888888888888888, \"#fdca26\"], [1.0, \"#f0f921\"]], \"type\": \"heatmapgl\"}], \"histogram\": [{\"marker\": {\"colorbar\": {\"outlinewidth\": 0, \"ticks\": \"\"}}, \"type\": \"histogram\"}], \"histogram2d\": [{\"colorbar\": {\"outlinewidth\": 0, \"ticks\": \"\"}, \"colorscale\": [[0.0, \"#0d0887\"], [0.1111111111111111, \"#46039f\"], [0.2222222222222222, \"#7201a8\"], [0.3333333333333333, \"#9c179e\"], [0.4444444444444444, \"#bd3786\"], [0.5555555555555556, \"#d8576b\"], [0.6666666666666666, \"#ed7953\"], [0.7777777777777778, \"#fb9f3a\"], [0.8888888888888888, \"#fdca26\"], [1.0, \"#f0f921\"]], \"type\": \"histogram2d\"}], \"histogram2dcontour\": [{\"colorbar\": {\"outlinewidth\": 0, \"ticks\": \"\"}, \"colorscale\": [[0.0, \"#0d0887\"], [0.1111111111111111, \"#46039f\"], [0.2222222222222222, \"#7201a8\"], [0.3333333333333333, \"#9c179e\"], [0.4444444444444444, \"#bd3786\"], [0.5555555555555556, \"#d8576b\"], [0.6666666666666666, \"#ed7953\"], [0.7777777777777778, \"#fb9f3a\"], [0.8888888888888888, \"#fdca26\"], [1.0, \"#f0f921\"]], \"type\": \"histogram2dcontour\"}], \"mesh3d\": [{\"colorbar\": {\"outlinewidth\": 0, \"ticks\": \"\"}, \"type\": \"mesh3d\"}], \"parcoords\": [{\"line\": {\"colorbar\": {\"outlinewidth\": 0, \"ticks\": \"\"}}, \"type\": \"parcoords\"}], \"pie\": [{\"automargin\": true, \"type\": \"pie\"}], \"scatter\": [{\"marker\": {\"colorbar\": {\"outlinewidth\": 0, \"ticks\": \"\"}}, \"type\": \"scatter\"}], \"scatter3d\": [{\"line\": {\"colorbar\": {\"outlinewidth\": 0, \"ticks\": \"\"}}, \"marker\": {\"colorbar\": {\"outlinewidth\": 0, \"ticks\": \"\"}}, \"type\": \"scatter3d\"}], \"scattercarpet\": [{\"marker\": {\"colorbar\": {\"outlinewidth\": 0, \"ticks\": \"\"}}, \"type\": \"scattercarpet\"}], \"scattergeo\": [{\"marker\": {\"colorbar\": {\"outlinewidth\": 0, \"ticks\": \"\"}}, \"type\": \"scattergeo\"}], \"scattergl\": [{\"marker\": {\"colorbar\": {\"outlinewidth\": 0, \"ticks\": \"\"}}, \"type\": \"scattergl\"}], \"scattermapbox\": [{\"marker\": {\"colorbar\": {\"outlinewidth\": 0, \"ticks\": \"\"}}, \"type\": \"scattermapbox\"}], \"scatterpolar\": [{\"marker\": {\"colorbar\": {\"outlinewidth\": 0, \"ticks\": \"\"}}, \"type\": \"scatterpolar\"}], \"scatterpolargl\": [{\"marker\": {\"colorbar\": {\"outlinewidth\": 0, \"ticks\": \"\"}}, \"type\": \"scatterpolargl\"}], \"scatterternary\": [{\"marker\": {\"colorbar\": {\"outlinewidth\": 0, \"ticks\": \"\"}}, \"type\": \"scatterternary\"}], \"surface\": [{\"colorbar\": {\"outlinewidth\": 0, \"ticks\": \"\"}, \"colorscale\": [[0.0, \"#0d0887\"], [0.1111111111111111, \"#46039f\"], [0.2222222222222222, \"#7201a8\"], [0.3333333333333333, \"#9c179e\"], [0.4444444444444444, \"#bd3786\"], [0.5555555555555556, \"#d8576b\"], [0.6666666666666666, \"#ed7953\"], [0.7777777777777778, \"#fb9f3a\"], [0.8888888888888888, \"#fdca26\"], [1.0, \"#f0f921\"]], \"type\": \"surface\"}], \"table\": [{\"cells\": {\"fill\": {\"color\": \"#EBF0F8\"}, \"line\": {\"color\": \"white\"}}, \"header\": {\"fill\": {\"color\": \"#C8D4E3\"}, \"line\": {\"color\": \"white\"}}, \"type\": \"table\"}]}, \"layout\": {\"annotationdefaults\": {\"arrowcolor\": \"#2a3f5f\", \"arrowhead\": 0, \"arrowwidth\": 1}, \"coloraxis\": {\"colorbar\": {\"outlinewidth\": 0, \"ticks\": \"\"}}, \"colorscale\": {\"diverging\": [[0, \"#8e0152\"], [0.1, \"#c51b7d\"], [0.2, \"#de77ae\"], [0.3, \"#f1b6da\"], [0.4, \"#fde0ef\"], [0.5, \"#f7f7f7\"], [0.6, \"#e6f5d0\"], [0.7, \"#b8e186\"], [0.8, \"#7fbc41\"], [0.9, \"#4d9221\"], [1, \"#276419\"]], \"sequential\": [[0.0, \"#0d0887\"], [0.1111111111111111, \"#46039f\"], [0.2222222222222222, \"#7201a8\"], [0.3333333333333333, \"#9c179e\"], [0.4444444444444444, \"#bd3786\"], [0.5555555555555556, \"#d8576b\"], [0.6666666666666666, \"#ed7953\"], [0.7777777777777778, \"#fb9f3a\"], [0.8888888888888888, \"#fdca26\"], [1.0, \"#f0f921\"]], \"sequentialminus\": [[0.0, \"#0d0887\"], [0.1111111111111111, \"#46039f\"], [0.2222222222222222, \"#7201a8\"], [0.3333333333333333, \"#9c179e\"], [0.4444444444444444, \"#bd3786\"], [0.5555555555555556, \"#d8576b\"], [0.6666666666666666, \"#ed7953\"], [0.7777777777777778, \"#fb9f3a\"], [0.8888888888888888, \"#fdca26\"], [1.0, \"#f0f921\"]]}, \"colorway\": [\"#636efa\", \"#EF553B\", \"#00cc96\", \"#ab63fa\", \"#FFA15A\", \"#19d3f3\", \"#FF6692\", \"#B6E880\", \"#FF97FF\", \"#FECB52\"], \"font\": {\"color\": \"#2a3f5f\"}, \"geo\": {\"bgcolor\": \"white\", \"lakecolor\": \"white\", \"landcolor\": \"#E5ECF6\", \"showlakes\": true, \"showland\": true, \"subunitcolor\": \"white\"}, \"hoverlabel\": {\"align\": \"left\"}, \"hovermode\": \"closest\", \"mapbox\": {\"style\": \"light\"}, \"paper_bgcolor\": \"white\", \"plot_bgcolor\": \"#E5ECF6\", \"polar\": {\"angularaxis\": {\"gridcolor\": \"white\", \"linecolor\": \"white\", \"ticks\": \"\"}, \"bgcolor\": \"#E5ECF6\", \"radialaxis\": {\"gridcolor\": \"white\", \"linecolor\": \"white\", \"ticks\": \"\"}}, \"scene\": {\"xaxis\": {\"backgroundcolor\": \"#E5ECF6\", \"gridcolor\": \"white\", \"gridwidth\": 2, \"linecolor\": \"white\", \"showbackground\": true, \"ticks\": \"\", \"zerolinecolor\": \"white\"}, \"yaxis\": {\"backgroundcolor\": \"#E5ECF6\", \"gridcolor\": \"white\", \"gridwidth\": 2, \"linecolor\": \"white\", \"showbackground\": true, \"ticks\": \"\", \"zerolinecolor\": \"white\"}, \"zaxis\": {\"backgroundcolor\": \"#E5ECF6\", \"gridcolor\": \"white\", \"gridwidth\": 2, \"linecolor\": \"white\", \"showbackground\": true, \"ticks\": \"\", \"zerolinecolor\": \"white\"}}, \"shapedefaults\": {\"line\": {\"color\": \"#2a3f5f\"}}, \"ternary\": {\"aaxis\": {\"gridcolor\": \"white\", \"linecolor\": \"white\", \"ticks\": \"\"}, \"baxis\": {\"gridcolor\": \"white\", \"linecolor\": \"white\", \"ticks\": \"\"}, \"bgcolor\": \"#E5ECF6\", \"caxis\": {\"gridcolor\": \"white\", \"linecolor\": \"white\", \"ticks\": \"\"}}, \"title\": {\"x\": 0.05}, \"xaxis\": {\"automargin\": true, \"gridcolor\": \"white\", \"linecolor\": \"white\", \"ticks\": \"\", \"title\": {\"standoff\": 15}, \"zerolinecolor\": \"white\", \"zerolinewidth\": 2}, \"yaxis\": {\"automargin\": true, \"gridcolor\": \"white\", \"linecolor\": \"white\", \"ticks\": \"\", \"title\": {\"standoff\": 15}, \"zerolinecolor\": \"white\", \"zerolinewidth\": 2}}}, \"title\": {\"text\": \"Top 15 preferable department in professions\"}, \"width\": 800, \"xaxis\": {\"anchor\": \"y\", \"domain\": [0.0, 1.0], \"title\": {\"text\": \"Departments\"}}, \"yaxis\": {\"anchor\": \"x\", \"domain\": [0.0, 1.0], \"title\": {\"text\": \"# of department\"}}},\n",
       "                        {\"responsive\": true}\n",
       "                    ).then(function(){\n",
       "                            \n",
       "var gd = document.getElementById('e1dd4614-82d7-42db-8b4a-ba878b0a4b28');\n",
       "var x = new MutationObserver(function (mutations, observer) {{\n",
       "        var display = window.getComputedStyle(gd).display;\n",
       "        if (!display || display === 'none') {{\n",
       "            console.log([gd, 'removed!']);\n",
       "            Plotly.purge(gd);\n",
       "            observer.disconnect();\n",
       "        }}\n",
       "}});\n",
       "\n",
       "// Listen for the removal of the full notebook cells\n",
       "var notebookContainer = gd.closest('#notebook-container');\n",
       "if (notebookContainer) {{\n",
       "    x.observe(notebookContainer, {childList: true});\n",
       "}}\n",
       "\n",
       "// Listen for the clearing of the current output cell\n",
       "var outputEl = gd.closest('.output');\n",
       "if (outputEl) {{\n",
       "    x.observe(outputEl, {childList: true});\n",
       "}}\n",
       "\n",
       "                        })\n",
       "                };\n",
       "                });\n",
       "            </script>\n",
       "        </div>"
      ]
     },
     "metadata": {},
     "output_type": "display_data"
    }
   ],
   "source": [
    "#plotting most department wia plolty\n",
    "px.bar(\n",
    "    most_grad.head(15),\n",
    "    title= \"Top 15 preferable department in professions\", # the axxis names\n",
    "    labels={'value':'# of department', 'index':'Departments'},\n",
    "    color_discrete_sequence=[\"lightgray\"],\n",
    "    height=500,\n",
    "    width=800\n",
    ").update_layout(showlegend=False)"
   ]
  },
  {
   "cell_type": "code",
   "execution_count": 17,
   "metadata": {},
   "outputs": [
    {
     "data": {
      "text/html": [
       "<div>\n",
       "<style scoped>\n",
       "    .dataframe tbody tr th:only-of-type {\n",
       "        vertical-align: middle;\n",
       "    }\n",
       "\n",
       "    .dataframe tbody tr th {\n",
       "        vertical-align: top;\n",
       "    }\n",
       "\n",
       "    .dataframe thead th {\n",
       "        text-align: right;\n",
       "    }\n",
       "</style>\n",
       "<table border=\"1\" class=\"dataframe\">\n",
       "  <thead>\n",
       "    <tr style=\"text-align: right;\">\n",
       "      <th></th>\n",
       "      <th>job_name</th>\n",
       "      <th>mean_salary</th>\n",
       "      <th>max_salary</th>\n",
       "      <th>min_salary</th>\n",
       "      <th>first_grad</th>\n",
       "      <th>second_grad</th>\n",
       "      <th>third_grad</th>\n",
       "      <th>fourth_grad</th>\n",
       "      <th>fiveth_grad</th>\n",
       "      <th>first_department</th>\n",
       "      <th>...</th>\n",
       "      <th>first_skill</th>\n",
       "      <th>second_skill</th>\n",
       "      <th>third_skill</th>\n",
       "      <th>fourth_skill</th>\n",
       "      <th>fiveth_skill</th>\n",
       "      <th>number_of_entries</th>\n",
       "      <th>job_advertisement</th>\n",
       "      <th>total_participants</th>\n",
       "      <th>male_percentage</th>\n",
       "      <th>female_percentage</th>\n",
       "    </tr>\n",
       "  </thead>\n",
       "  <tbody>\n",
       "    <tr>\n",
       "      <th>0</th>\n",
       "      <td>A Sınıfı İş Güvenliği Uzmanı</td>\n",
       "      <td>4950</td>\n",
       "      <td>2030</td>\n",
       "      <td>7870</td>\n",
       "      <td>Maden Mühendisliği</td>\n",
       "      <td>Makine Mühendisliği</td>\n",
       "      <td>Kimya</td>\n",
       "      <td>Jeoloji Mühendisliği</td>\n",
       "      <td>Çevre Mühendisliği</td>\n",
       "      <td>Çevre</td>\n",
       "      <td>...</td>\n",
       "      <td>AutoCAD</td>\n",
       "      <td>GSM</td>\n",
       "      <td>ISO 14001</td>\n",
       "      <td>ISO 9001</td>\n",
       "      <td>ISO 9001:2000</td>\n",
       "      <td>304</td>\n",
       "      <td>138</td>\n",
       "      <td>1292</td>\n",
       "      <td>73</td>\n",
       "      <td>27</td>\n",
       "    </tr>\n",
       "    <tr>\n",
       "      <th>1</th>\n",
       "      <td>AB Proje Asistanı</td>\n",
       "      <td>4110</td>\n",
       "      <td>2250</td>\n",
       "      <td>7380</td>\n",
       "      <td>Uluslararası İlişkiler</td>\n",
       "      <td>İşletme</td>\n",
       "      <td>Siyaset Bilimi ve Kamu Yönetimi</td>\n",
       "      <td>Biyoloji</td>\n",
       "      <td>Sosyoloji</td>\n",
       "      <td>Danışmanlık</td>\n",
       "      <td>...</td>\n",
       "      <td>Adobe Photoshop</td>\n",
       "      <td>Ansys Workbench</td>\n",
       "      <td>AutoCAD</td>\n",
       "      <td>C#</td>\n",
       "      <td>C++</td>\n",
       "      <td>27</td>\n",
       "      <td>0</td>\n",
       "      <td>784</td>\n",
       "      <td>34</td>\n",
       "      <td>66</td>\n",
       "    </tr>\n",
       "    <tr>\n",
       "      <th>2</th>\n",
       "      <td>AB Proje Geliştirme Uzmanı</td>\n",
       "      <td>5650</td>\n",
       "      <td>3500</td>\n",
       "      <td>9440</td>\n",
       "      <td>Uluslararası İlişkiler</td>\n",
       "      <td>Makine-Resim-Konstrüksiyon (MYO)</td>\n",
       "      <td>İşletme</td>\n",
       "      <td>Çalışma Ekonomisi ve Endüstri İlişkileri</td>\n",
       "      <td>İktisat</td>\n",
       "      <td>Danışmanlık</td>\n",
       "      <td>...</td>\n",
       "      <td>APQP</td>\n",
       "      <td>AutoCAD</td>\n",
       "      <td>ISO 9001:2000</td>\n",
       "      <td>İhracat işlemleri</td>\n",
       "      <td>Maliyet Analizleri</td>\n",
       "      <td>9</td>\n",
       "      <td>0</td>\n",
       "      <td>153</td>\n",
       "      <td>48</td>\n",
       "      <td>51</td>\n",
       "    </tr>\n",
       "    <tr>\n",
       "      <th>3</th>\n",
       "      <td>Acente Temsilcisi</td>\n",
       "      <td>3610</td>\n",
       "      <td>2020</td>\n",
       "      <td>6160</td>\n",
       "      <td>İşletme</td>\n",
       "      <td>Turizm ve Seyahat İşletmeciliği (MYO)</td>\n",
       "      <td>Seyahat İşletmeciliği</td>\n",
       "      <td>Turizm ve Otel İşletmeciliği (MYO)</td>\n",
       "      <td>Seyahat İşletmeciliği ve Turizm Rehberliği</td>\n",
       "      <td>Turizm</td>\n",
       "      <td>...</td>\n",
       "      <td>Maliyet Muhasebesi</td>\n",
       "      <td>Satış Yönetimi</td>\n",
       "      <td>0</td>\n",
       "      <td>0</td>\n",
       "      <td>0</td>\n",
       "      <td>29</td>\n",
       "      <td>2</td>\n",
       "      <td>837</td>\n",
       "      <td>57</td>\n",
       "      <td>43</td>\n",
       "    </tr>\n",
       "    <tr>\n",
       "      <th>4</th>\n",
       "      <td>Acil Servis Hemşiresi</td>\n",
       "      <td>2700</td>\n",
       "      <td>2020</td>\n",
       "      <td>3430</td>\n",
       "      <td>İlk ve Acil (Paramedik)</td>\n",
       "      <td>Hemşirelik</td>\n",
       "      <td>Hemşirelik ve Sağlık Hizmetleri</td>\n",
       "      <td>Hemşirelik (MYO)</td>\n",
       "      <td>Acil Yardım Teknikerliği (MYO)</td>\n",
       "      <td>Sağlık</td>\n",
       "      <td>...</td>\n",
       "      <td>İşçi Sağlığı ve İş Güvenliği</td>\n",
       "      <td>Kan Alma</td>\n",
       "      <td>0</td>\n",
       "      <td>0</td>\n",
       "      <td>0</td>\n",
       "      <td>96</td>\n",
       "      <td>4</td>\n",
       "      <td>9500</td>\n",
       "      <td>34</td>\n",
       "      <td>66</td>\n",
       "    </tr>\n",
       "  </tbody>\n",
       "</table>\n",
       "<p>5 rows × 29 columns</p>\n",
       "</div>"
      ],
      "text/plain": [
       "                       job_name  mean_salary  max_salary  min_salary  \\\n",
       "0  A Sınıfı İş Güvenliği Uzmanı         4950        2030        7870   \n",
       "1             AB Proje Asistanı         4110        2250        7380   \n",
       "2    AB Proje Geliştirme Uzmanı         5650        3500        9440   \n",
       "3             Acente Temsilcisi         3610        2020        6160   \n",
       "4         Acil Servis Hemşiresi         2700        2020        3430   \n",
       "\n",
       "                first_grad                            second_grad  \\\n",
       "0       Maden Mühendisliği                    Makine Mühendisliği   \n",
       "1   Uluslararası İlişkiler                                İşletme   \n",
       "2   Uluslararası İlişkiler       Makine-Resim-Konstrüksiyon (MYO)   \n",
       "3                  İşletme  Turizm ve Seyahat İşletmeciliği (MYO)   \n",
       "4  İlk ve Acil (Paramedik)                             Hemşirelik   \n",
       "\n",
       "                        third_grad                               fourth_grad  \\\n",
       "0                            Kimya                      Jeoloji Mühendisliği   \n",
       "1  Siyaset Bilimi ve Kamu Yönetimi                                  Biyoloji   \n",
       "2                          İşletme  Çalışma Ekonomisi ve Endüstri İlişkileri   \n",
       "3            Seyahat İşletmeciliği        Turizm ve Otel İşletmeciliği (MYO)   \n",
       "4  Hemşirelik ve Sağlık Hizmetleri                          Hemşirelik (MYO)   \n",
       "\n",
       "                                  fiveth_grad first_department  ...  \\\n",
       "0                          Çevre Mühendisliği            Çevre  ...   \n",
       "1                                   Sosyoloji      Danışmanlık  ...   \n",
       "2                                     İktisat      Danışmanlık  ...   \n",
       "3  Seyahat İşletmeciliği ve Turizm Rehberliği           Turizm  ...   \n",
       "4              Acil Yardım Teknikerliği (MYO)           Sağlık  ...   \n",
       "\n",
       "                    first_skill     second_skill    third_skill  \\\n",
       "0                       AutoCAD              GSM      ISO 14001   \n",
       "1               Adobe Photoshop  Ansys Workbench        AutoCAD   \n",
       "2                          APQP          AutoCAD  ISO 9001:2000   \n",
       "3            Maliyet Muhasebesi   Satış Yönetimi              0   \n",
       "4  İşçi Sağlığı ve İş Güvenliği         Kan Alma              0   \n",
       "\n",
       "        fourth_skill        fiveth_skill number_of_entries  job_advertisement  \\\n",
       "0           ISO 9001       ISO 9001:2000                304               138   \n",
       "1                 C#                 C++                 27                 0   \n",
       "2  İhracat işlemleri  Maliyet Analizleri                  9                 0   \n",
       "3                  0                   0                 29                 2   \n",
       "4                  0                   0                 96                 4   \n",
       "\n",
       "  total_participants male_percentage female_percentage  \n",
       "0               1292              73                27  \n",
       "1                784              34                66  \n",
       "2                153              48                51  \n",
       "3                837              57                43  \n",
       "4               9500              34                66  \n",
       "\n",
       "[5 rows x 29 columns]"
      ]
     },
     "execution_count": 17,
     "metadata": {},
     "output_type": "execute_result"
    }
   ],
   "source": [
    "df.head()"
   ]
  },
  {
   "cell_type": "code",
   "execution_count": null,
   "metadata": {},
   "outputs": [],
   "source": []
  }
 ],
 "metadata": {
  "kernelspec": {
   "display_name": "Python 3",
   "language": "python",
   "name": "python3"
  },
  "language_info": {
   "codemirror_mode": {
    "name": "ipython",
    "version": 3
   },
   "file_extension": ".py",
   "mimetype": "text/x-python",
   "name": "python",
   "nbconvert_exporter": "python",
   "pygments_lexer": "ipython3",
   "version": "3.7.6"
  }
 },
 "nbformat": 4,
 "nbformat_minor": 4
}
